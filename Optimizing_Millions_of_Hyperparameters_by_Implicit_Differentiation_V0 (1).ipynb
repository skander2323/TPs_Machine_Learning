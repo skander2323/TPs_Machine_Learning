{
  "nbformat": 4,
  "nbformat_minor": 0,
  "metadata": {
    "colab": {
      "provenance": [],
      "gpuType": "T4"
    },
    "kernelspec": {
      "name": "python3",
      "display_name": "Python 3"
    },
    "language_info": {
      "name": "python"
    },
    "accelerator": "GPU",
    "gpuClass": "standard"
  },
  "cells": [
    {
      "cell_type": "markdown",
      "source": [
        "Ce code est une implémentation d'une fonction generation_point qui génère 50 points aléatoires selon une distribution normale.\n",
        "\n",
        "Dans la fonction generation_point, les paramètres d'entrée sont:\n",
        "\n",
        "ecarttype : l'écart-type de la distribution normale\n",
        "intervalle : une valeur aléatoire générée par la fonction np.random.randint(-5,5) qui définit l'intervalle des valeurs des coordonnées des points selon la relation a*x + b, où a et b sont les bornes de intervalle.\n",
        "abcisse : un tuple qui définit l'intervalle des valeurs de l'abcisse x.\n",
        "Dans cette fonction, on utilise np.random.uniform(0,20,50) pour générer 50 nombres aléatoires entre 0 et 20 qui seront les valeurs de l'abcisse x des 50 points.\n",
        "\n",
        "Ensuite, on calcule la moyenne moyenne des ordonnées des 50 points selon la relation a*x + b. Pour générer les valeurs des ordonnées, on utilise np.random.normal(loc=moyenne,scale= ecarttype) qui retourne un nombre aléatoire de la distribution normale centrée sur moyenne avec un écart-type de ecarttype.\n",
        "\n",
        "Finalement, on affiche les coordonnées de chaque point généré.\n",
        "\n",
        "Dans le reste du code, on utilise les coordonnées des points pour tracer deux droites:\n",
        "\n",
        "la première droite est tracée en utilisant les valeurs de a et b choisis aléatoirement.\n",
        "la deuxième droite est tracée en calculant les valeurs de a et b en utilisant la méthode des moindres carrés pour ajuster la droite qui minimise la somme des carrés des distances entre les points et la droite.\n",
        "Le code affiche également les nuages de points, ainsi que les deux droites tracées avec leurs coefficients respectifs."
      ],
      "metadata": {
        "id": "VATACjJfQTFW"
      }
    },
    {
      "cell_type": "code",
      "execution_count": 14,
      "metadata": {
        "colab": {
          "base_uri": "https://localhost:8080/"
        },
        "id": "r_nxzNVDu4ud",
        "outputId": "8e4d2aa3-8768-4115-f47b-6cff7bbbb04f"
      },
      "outputs": [
        {
          "output_type": "stream",
          "name": "stdout",
          "text": [
            "le nombre de point aleatoire generée est de : 50\n",
            "les coordonnées de x :[ 8.71989804  0.51852464 10.99324956  8.70644785  8.40735604  6.60669642\n",
            "  4.09297268 12.38541933  5.99309347  5.3365455  12.42267666 10.58284189\n",
            "  2.69159891 10.27156243  3.68879731 15.70670296 17.07950585  9.88473675\n",
            " 16.93122971  1.59290954 10.1049218   1.30573009  8.56244655  1.93061831\n",
            "  2.54319943 11.93490618  4.52024001  2.13891369  4.40612414  6.9965257\n",
            "  9.35574969  4.03486453 12.8081345   9.66139671 10.1047344   7.73785302\n",
            " 15.87274909 11.60008358  3.24597197 14.01504693 19.2910216  10.00016722\n",
            " 17.79040128  6.83227305 11.34288255  8.55091927  8.73494526 15.5311837\n",
            " 10.71208347 19.07484454]\n"
          ]
        }
      ],
      "source": [
        "import numpy as np \n",
        "import matplotlib.pyplot as plt\n",
        "np.random.seed(2)\n",
        "x = np.random.uniform(0,20,50)\n",
        "print(\"le nombre de point aleatoire generée est de : \"+str(np.size(x)))\n",
        "print(\"les coordonnées de x :\" +str(x)  )"
      ]
    },
    {
      "cell_type": "code",
      "source": [
        "def generation_point(ecarttype=4,intervalle =np.random.randint(-5,5),abcisse =(0,20,50)):\n",
        "    np.random.seed(2)\n",
        "    x = np.random.uniform(0,20,50)\n",
        "    a= intervalle\n",
        "    b=intervalle\n",
        "    nb_point =(np.size(x))\n",
        "    moyenne= (a*x + b)\n",
        "    y=np.random.normal(loc=moyenne,scale= ecarttype)\n",
        "    print(\"le nombre de point aleatoire generée est de : \"+str(len(x)))\n",
        "    for i in range(len(x)): \n",
        "      print(\"les coordonnées du point \"+str(i) +\" : \" +str([x[i],y[i]])  )\n",
        "    return x,y ,ecarttype ,moyenne\n"
      ],
      "metadata": {
        "id": "f3wxPebdvCBa"
      },
      "execution_count": 3,
      "outputs": []
    },
    {
      "cell_type": "code",
      "source": [
        "x,y ,ecarttype ,moyenne =generation_point( )\n",
        "plt.title(\"Distrution des 50 points\")\n",
        "plt.scatter(x,y,lw =4)\n",
        "plt.show()"
      ],
      "metadata": {
        "colab": {
          "base_uri": "https://localhost:8080/",
          "height": 1000
        },
        "id": "_2TH6seQb2Zg",
        "outputId": "6a385127-49d1-4284-d85b-d85da981fa5e"
      },
      "execution_count": 39,
      "outputs": [
        {
          "output_type": "stream",
          "name": "stdout",
          "text": [
            "le nombre de point aleatoire generée est de : 50\n",
            "les coordonnées du point 0 : [8.719898042840075, 6.40335688678096]\n",
            "les coordonnées du point 1 : [0.5185246365578267, 1.8693655101911524]\n",
            "les coordonnées du point 2 : [10.993249557574183, 15.994713103776963]\n",
            "les coordonnées du point 3 : [8.706447852365537, 8.182077782304138]\n",
            "les coordonnées du point 4 : [8.40735604174978, 7.904678349433806]\n",
            "les coordonnées du point 5 : [6.6066964200774825, 7.308813368501559]\n",
            "les coordonnées du point 6 : [4.09297268075685, 6.826958001063133]\n",
            "les coordonnées du point 7 : [12.385419327013274, 18.498936248100748]\n",
            "les coordonnées du point 8 : [5.993093473490463, 4.454376252773013]\n",
            "les coordonnées du point 9 : [5.336545502057333, 8.37013047279106]\n",
            "les coordonnées du point 10 : [12.422676655385898, 14.287140680440626]\n",
            "les coordonnées du point 11 : [10.58284188554078, 4.14839234104679]\n",
            "les coordonnées du point 12 : [2.691598906898671, 2.014332978287916]\n",
            "les coordonnées du point 13 : [10.27156242531493, 10.742246831567956]\n",
            "les coordonnées du point 14 : [3.6887973129383056, 4.530516354163883]\n",
            "les coordonnées du point 15 : [15.70670295633347, 18.01071668988139]\n",
            "les coordonnées du point 16 : [17.079505852789776, 9.918213657874915]\n",
            "les coordonnées du point 17 : [9.884736747638556, 11.069758840205344]\n",
            "les coordonnées du point 18 : [16.93122970714936, 15.220527397837193]\n",
            "les coordonnées du point 19 : [1.5929095401812199, -3.1648465667732526]\n",
            "les coordonnées du point 20 : [10.10492180243408, 13.202107522475474]\n",
            "les coordonnées du point 21 : [1.3057300877375622, 5.246848391998372]\n",
            "les coordonnées du point 22 : [8.562446551947788, 6.949445480779646]\n",
            "les coordonnées du point 23 : [1.9306183132122512, 6.300443439497611]\n",
            "les coordonnées du point 24 : [2.5431994340255493, 2.0171335069652043]\n",
            "les coordonnées du point 25 : [11.934906179571916, 13.200862216156496]\n",
            "les coordonnées du point 26 : [4.5202400120847175, 1.1252842241004917]\n",
            "les coordonnées du point 27 : [2.1389136861996594, 9.476861911782365]\n",
            "les coordonnées du point 28 : [4.406124141411194, -5.231673684122759]\n",
            "les coordonnées du point 29 : [6.996525700065986, 7.630715208503354]\n",
            "les coordonnées du point 30 : [9.355749691646004, 13.136228111833969]\n",
            "les coordonnées du point 31 : [4.034864525299307, -3.0990016591911473]\n",
            "les coordonnées du point 32 : [12.808134504298296, 13.050257445448773]\n",
            "les coordonnées du point 33 : [9.661396711035033, 10.352522049623206]\n",
            "les coordonnées du point 34 : [10.104734400370983, 14.40354642211891]\n",
            "les coordonnées du point 35 : [7.737853022371186, 13.730704704759322]\n",
            "les coordonnées du point 36 : [15.872749088831542, 15.257180011479782]\n",
            "les coordonnées du point 37 : [11.600083577556132, 7.062008911412673]\n",
            "les coordonnées du point 38 : [3.2459719700462775, 9.714913665754775]\n",
            "les coordonnées du point 39 : [14.015046932143125, 19.886589464368285]\n",
            "les coordonnées du point 40 : [19.291021601785104, 18.443000209171583]\n",
            "les coordonnées du point 41 : [10.000167223404334, 12.403721199755319]\n",
            "les coordonnées du point 42 : [17.7904012789229, 20.31786621542969]\n",
            "les coordonnées du point 43 : [6.832273053422194, 10.097374819192018]\n",
            "les coordonnées du point 44 : [11.342882552554185, 13.159714468210632]\n",
            "les coordonnées du point 45 : [8.5509192659222, 15.177704232567681]\n",
            "les coordonnées du point 46 : [8.73494526053598, 2.7831072429977084]\n",
            "les coordonnées du point 47 : [15.531183699942005, 20.69447951350492]\n",
            "les coordonnées du point 48 : [10.712083469953127, 13.233971350813128]\n",
            "les coordonnées du point 49 : [19.074844538897334, 19.206303463917816]\n"
          ]
        },
        {
          "output_type": "display_data",
          "data": {
            "text/plain": [
              "<Figure size 640x480 with 1 Axes>"
            ],
            "image/png": "[encoded data removed]"
          },
          "metadata": {}
        }
      ]
    },
    {
      "cell_type": "code",
      "source": [
        "\n",
        "intervalle =np.random.randint(-5,5)\n",
        "a =intervalle\n",
        "b= intervalle\n",
        "plt.title(\"Distrution des 50 points\")\n",
        "plt.xlabel(\"x-label\")\n",
        "plt.ylabel(\"y-label\")\n",
        "color = [\"bleu\"]\n",
        "plt.scatter(x,y,lw=ecarttype,c=x,label = y)\n",
        "plt.plot(x,moyenne, c='r')\n",
        "\n",
        "plt.show()"
      ],
      "metadata": {
        "colab": {
          "base_uri": "https://localhost:8080/",
          "height": 472
        },
        "id": "vzyNqPD67J0q",
        "outputId": "d4826142-8a7a-40fc-a6ac-17d9eb6a8b06"
      },
      "execution_count": 40,
      "outputs": [
        {
          "output_type": "display_data",
          "data": {
            "text/plain": [
              "<Figure size 640x480 with 1 Axes>"
            ],
            "image/png": "[encoded data removed]"
          },
          "metadata": {}
        }
      ]
    },
    {
      "cell_type": "code",
      "source": [
        "a_num =np.cov(x.T,y.T)[0][1]/np.var(x)\n",
        "b_num =np.mean(y)- a_num * np.mean(b)\n",
        "\n",
        "a_num,b_num"
      ],
      "metadata": {
        "colab": {
          "base_uri": "https://localhost:8080/"
        },
        "id": "2Nf4ORcyNaLi",
        "outputId": "8b445526-d59c-4a6e-a0db-90dbc269620d"
      },
      "execution_count": 9,
      "outputs": [
        {
          "output_type": "execute_result",
          "data": {
            "text/plain": [
              "(1.0149180957413888, 13.890084887796649)"
            ]
          },
          "metadata": {},
          "execution_count": 9
        }
      ]
    },
    {
      "cell_type": "code",
      "source": [
        "new_a =np.cov(x.T,y.T)[0][1]/np.var(x)\n",
        "new_b =np.mean(y)- new_a * np.mean(x)\n",
        "print (\"coficient de la droit : \"+str([new_a,new_b]))\n"
      ],
      "metadata": {
        "colab": {
          "base_uri": "https://localhost:8080/"
        },
        "id": "cyskCVJTSzSZ",
        "outputId": "e001a4d3-8874-40e3-ff69-679a115b44df"
      },
      "execution_count": 17,
      "outputs": [
        {
          "output_type": "stream",
          "name": "stdout",
          "text": [
            "coficient de la droit : [1.0149180957413888, 0.6280750714149175]\n"
          ]
        }
      ]
    },
    {
      "cell_type": "code",
      "source": [
        "plt.scatter(x,y,label ='nuages ds points')\n",
        "new_y = new_a * x + new_b\n",
        "plt.plot(x,moyenne, c='r',lw=4, label ='a et b pris aleatoirement')\n",
        "plt.plot(x,new_y, c= 'g',lw=4, label=' a et b calculer numeriquement ')\n",
        "plt.legend()\n",
        "plt.show()"
      ],
      "metadata": {
        "colab": {
          "base_uri": "https://localhost:8080/",
          "height": 430
        },
        "id": "eqzq4upETXgq",
        "outputId": "ad161002-81a3-4b3d-89f2-4e3e46649e23"
      },
      "execution_count": 18,
      "outputs": [
        {
          "output_type": "display_data",
          "data": {
            "text/plain": [
              "<Figure size 640x480 with 1 Axes>"
            ],
            "image/png": "[encoded data removed]"
          },
          "metadata": {}
        }
      ]
    },
    {
      "cell_type": "markdown",
      "source": [
        "\n",
        "Ce code implémente une descente de gradient pour trouver les coefficients d'une droite de régression linéaire qui s'ajuste au mieux aux données.\n",
        "\n",
        "La fonction descente_de_gradient prend en entrée les données x et y, le taux d'apprentissage alpha et le nombre d'époques epoches. Elle commence par ajouter une colonne de 1 à la matrice x pour inclure le biais dans les calculs. Puis elle initialise les coefficients de la droite à des valeurs aléatoires. Elle effectue ensuite epoches itérations de la descente de gradient pour ajuster les coefficients en utilisant la formule du gradient. À chaque itération, elle affiche les coordonnées de la droite calculée. Finalement, elle retourne les coefficients de la droite entraînée.\n",
        "\n",
        "Le code génère ensuite des données aléatoires x et y, puis entraîne le modèle en appelant la fonction descente_de_gradient. Il utilise ensuite les coefficients de la droite entraînée pour faire des prédictions sur une grille de points x_grid. Enfin, il trace les données et la droite ajustée."
      ],
      "metadata": {
        "id": "oWRox0jLQ0Pj"
      }
    },
    {
      "cell_type": "code",
      "source": [
        "import numpy as np\n",
        "\n",
        "def descente_de_gradient(x, y, alpha, epoches):\n",
        "    n = len(y)\n",
        "    x = np.column_stack((np.ones((n, 1)), x)) # Add a column of ones for the bias term\n",
        "    teta = np.random.randn(x.shape[1], 1)\n",
        "\n",
        "    for i in range(epoches):\n",
        "        grad = 1/n * (x.T.dot(x.dot(teta) - y))\n",
        "        teta = teta - alpha * grad\n",
        "\n",
        "        print(\"Les coordonnées de la droite à l'époque \" + str(i) + \": \" + str(list(teta.flatten())))\n",
        "\n",
        "    return teta\n",
        "\n",
        "# Generate some random data\n",
        "x = np.random.randn(100, 1)\n",
        "y = 2 * x + np.random.randn(100, 1)\n",
        "\n",
        "# Train the model using gradient descent\n",
        "teta_fonction = descente_de_gradient(x, y, alpha=0.01, epoches=25)\n",
        "\n",
        "# Compute the predictions on a grid of points\n",
        "x_grid = np.linspace(-3, 3, 100).reshape(-1, 1)\n",
        "x_grid = np.column_stack((np.ones((x_grid.shape[0], 1)), x_grid))\n",
        "y_pred = x_grid.dot(teta_fonction)\n",
        "\n",
        "# Plot the data and the fitted line\n",
        "import matplotlib.pyplot as plt\n",
        "plt.scatter(x, y)\n",
        "plt.plot(x_grid[:, 1], y_pred)\n",
        "plt.show()\n"
      ],
      "metadata": {
        "colab": {
          "base_uri": "https://localhost:8080/",
          "height": 864
        },
        "id": "OYN8pssrLK13",
        "outputId": "7c67bf87-8560-4ebd-8a23-cdf883e90ba5"
      },
      "execution_count": 41,
      "outputs": [
        {
          "output_type": "stream",
          "name": "stdout",
          "text": [
            "Les coordonnées de la droite à l'époque 0: [1.4254393766531632, 0.914584210594149]\n",
            "Les coordonnées de la droite à l'époque 1: [1.4107006798284627, 0.9248843671270454]\n",
            "Les coordonnées de la droite à l'époque 2: [1.3961025176692976, 0.9350966517327408]\n",
            "Les coordonnées de la droite à l'époque 3: [1.3816435432868666, 0.9452218042137888]\n",
            "Les coordonnées de la droite à l'époque 4: [1.3673224227690932, 0.9552605582531833]\n",
            "Les coordonnées de la droite à l'époque 5: [1.353137835054931, 0.9652136414637583]\n",
            "Les coordonnées de la droite à l'époque 6: [1.3390884718098908, 0.9750817754372016]\n",
            "Les coordonnées de la droite à l'époque 7: [1.3251730373027801, 0.9848656757926879]\n",
            "Les coordonnées de la droite à l'époque 8: [1.311390248283645, 0.9945660522251314]\n",
            "Les coordonnées de la droite à l'époque 9: [1.2977388338628975, 1.004183608553063]\n",
            "Les coordonnées de la droite à l'époque 10: [1.2842175353916216, 1.0137190427661338]\n",
            "Les coordonnées de la droite à l'époque 11: [1.2708251063430451, 1.0231730470722464]\n",
            "Les coordonnées de la droite à l'époque 12: [1.2575603121951637, 1.0325463079443207]\n",
            "Les coordonnées de la droite à l'époque 13: [1.2444219303145083, 1.0418395061666912]\n",
            "Les coordonnées de la droite à l'époque 14: [1.2314087498410453, 1.0510533168811447]\n",
            "Les coordonnées de la droite à l'époque 15: [1.2185195715741945, 1.0601884096325953]\n",
            "Les coordonnées de la droite à l'époque 16: [1.2057532078599593, 1.069245448414404]\n",
            "Les coordonnées de la droite à l'époque 17: [1.1931084824791534, 1.0782250917133427]\n",
            "Les coordonnées de la droite à l'époque 18: [1.1805842305367158, 1.0871279925542063]\n",
            "Les coordonnées de la droite à l'époque 19: [1.168179298352104, 1.0959547985440758]\n",
            "Les coordonnées de la droite à l'époque 20: [1.1558925433507523, 1.1047061519162338]\n",
            "Les coordonnées de la droite à l'époque 21: [1.1437228339565872, 1.1133826895737362]\n",
            "Les coordonnées de la droite à l'époque 22: [1.1316690494855888, 1.1219850431326426]\n",
            "Les coordonnées de la droite à l'époque 23: [1.1197300800403869, 1.130513838964907]\n",
            "Les coordonnées de la droite à l'époque 24: [1.1079048264058837, 1.1389696982409316]\n"
          ]
        },
        {
          "output_type": "display_data",
          "data": {
            "text/plain": [
              "<Figure size 640x480 with 1 Axes>"
            ],
            "image/png": "[encoded data removed]"
          },
          "metadata": {}
        }
      ]
    },
    {
      "cell_type": "markdown",
      "source": [
        "Ce code est une implémentation de la méthode de descente de gradient stochastique pour trouver la droite de régression linéaire à partir d'un ensemble de données.\n",
        "\n",
        "Tout d'abord, un ensemble de données est généré avec des valeurs aléatoires pour x et y. Ensuite, les paramètres initiaux pour la descente de gradient stochastique sont initialisés avec des valeurs aléatoires. Le nombre d'itérations de l'algorithme de descente de gradient stochastique est fixé à 25.\n",
        "\n",
        "La méthode de pas variable est définie avec une fonction Alpha_pas(t) qui prend un argument t correspondant au nombre total d'itérations effectuées jusqu'à présent. Cette fonction retourne un pas variable alpha qui diminue progressivement au fil des itérations.\n",
        "\n",
        "Ensuite, la méthode SGD est définie pour appliquer la descente de gradient stochastique sur les données. Elle prend en entrée les données d'entraînement X et Y, les paramètres initiaux teta, et le nombre d'itérations n_iter. Elle transforme les données d'entrée en ajoutant une colonne de 1 pour le terme de biais, puis applique la descente de gradient stochastique en choisissant aléatoirement un point à chaque itération.\n",
        "\n",
        "Enfin, la méthode stochastique de la descente de gradient est appliquée sur les données générées avec les paramètres initiaux en utilisant la méthode SGD. La droite de régression linéaire obtenue est affichée en utilisant les paramètres optimaux trouvés avec la méthode stochastique de la descente de gradient."
      ],
      "metadata": {
        "id": "ARiWcBVFRQo5"
      }
    },
    {
      "cell_type": "code",
      "source": [
        "import numpy as np\n",
        "import matplotlib.pyplot as plt\n",
        "\n",
        "# Générer des données aléatoires\n",
        "np.random.seed(42)\n",
        "x = np.random.randn(100)\n",
        "y = 3 * x + 2 + np.random.randn(100)\n",
        "\n",
        "# Initialiser les paramètres\n",
        "teta = np.random.randn(2, 1)\n",
        "n = len(x)\n",
        "ilot = 10\n",
        "t0, t1 = 5, 10\n",
        "\n",
        "# Définir la fonction de pas variable\n",
        "def Alpha_pas(t):\n",
        "    return t0 / (t + t1)\n",
        "\n",
        "# Définir la méthode stochastique de la descente de gradient\n",
        "def SGD(X, Y, teta, n_iter):\n",
        "    X = np.hstack((X.reshape(X.shape[0], 1), np.ones((X.shape[0], 1))))\n",
        "    for i in range(n_iter):\n",
        "        for j in range(n):\n",
        "            rand_i = np.random.randint(0, n)\n",
        "            xi = X[rand_i:rand_i+1]\n",
        "            yi = Y[rand_i:rand_i+1]\n",
        "            grad = 2 * xi.T.dot(xi.dot(teta) - yi)\n",
        "            alpha = Alpha_pas(i * n + j)\n",
        "            teta = teta - alpha * grad\n",
        "    return teta\n",
        "\n",
        "# Appliquer la méthode stochastique de la descente de gradient sur les données\n",
        "teta_s = SGD(x, y, teta, 25)\n",
        "\n",
        "teta_s\n",
        "\n",
        "# Afficher la droite de régression linéaire obtenue par la méthode stochastique de la descente de gradient\n",
        "x_grid = np.linspace(x.min(), x.max(), 100)\n",
        "y_pred = teta_s[0][0] * x_grid + teta_s[1][0]\n",
        "plt.scatter(x, y)\n",
        "plt.plot(x_grid, y_pred, c='r')\n",
        "plt.show()\n"
      ],
      "metadata": {
        "id": "9ofHqPXZJchr",
        "colab": {
          "base_uri": "https://localhost:8080/",
          "height": 430
        },
        "outputId": "8caf8d83-24c9-44d3-fe47-d41218b3d7fa"
      },
      "execution_count": 46,
      "outputs": [
        {
          "output_type": "display_data",
          "data": {
            "text/plain": [
              "<Figure size 640x480 with 1 Axes>"
            ],
            "image/png": "[encoded data removed]"
          },
          "metadata": {}
        }
      ]
    },
    {
      "cell_type": "code",
      "source": [
        "import time \n"
      ],
      "metadata": {
        "id": "4sUoTU5Ifcs4"
      },
      "execution_count": 35,
      "outputs": []
    },
    {
      "cell_type": "code",
      "source": [
        "import time\n",
        "\n",
        "start = time.time()\n",
        "a_num =np.cov(x.T,y.T)[0][1]/np.var(x)\n",
        "b_num =np.mean(y)- a_num * np.mean(b)\n",
        "\n",
        "a_num,b_num\n",
        "end = time.time()\n",
        "time1 =end -start\n",
        "start2 = time.time()\n",
        "descente_de_gradient(x,y, alpha= 0.001, epoches= 25)\n",
        "end2 = time.time()\n",
        "\n",
        "time2 =end2 -start2\n",
        "\n",
        "start3 = time.time()\n",
        "SGD(x, y, teta, 25)\n",
        "end3 = time.time()\n",
        "\n",
        "time3 =end3-start3\n",
        "\n",
        "print(\"le temps de convergence de la methode analytique :\"+str(time1))\n",
        "print(\"le temps de convergence de la methode de la decente du gradient  :\"+str(time2))\n",
        "print(\"le temps de convergence de la methode stocastique :\"+str(time3))\n",
        "\n",
        "\n"
      ],
      "metadata": {
        "colab": {
          "base_uri": "https://localhost:8080/"
        },
        "id": "OAY7a3m-fpzd",
        "outputId": "f3649bb5-b157-4c6b-f398-0f0661abd301"
      },
      "execution_count": 47,
      "outputs": [
        {
          "output_type": "stream",
          "name": "stdout",
          "text": [
            "Les coordonnées de la droite à l'époque 0: [-1.2379400245152403, -1.2388502344585026, -1.2364144451344483, -1.2342479839322211, -1.2388785420680597, -1.2383131562462566, -1.2313909718844909, -1.2355379142319332, -1.2391656689993058, -1.236461562017232, -1.24132382052596, -1.2394384993683836, -1.2372286792075844, -1.2412913948537116, -1.2433819106945438, -1.239400111477613, -1.2410880013629322, -1.2382407322720574, -1.2395960456442723, -1.2414997743035427, -1.2328268179784159, -1.239601512588478, -1.2364094173072238, -1.2436908918536562, -1.239061087311999, -1.235491572837284, -1.2424583132896212, -1.2374539999067893, -1.2397170609368924, -1.2393933531357197, -1.2413705794999779, -1.2323893987038907, -1.2391175916201635, -1.240714336588456, -1.2364665857301478, -1.2401273927771193, -1.2381714587395456, -1.2442158681200686, -1.2411858371615492, -1.2386550768410503, -1.2355719365576332, -1.2361935486343714, -1.2399692243139495, -1.2387334734604591, -1.2421904794090775, -1.2393925059856306, -1.2406336632559811, -1.236163886166651, -1.2364619997979014, -1.2430069320250787, -1.2367920514736934, -1.2388235948639756, -1.24072558695472, -1.23594751366854, -1.2346287251914372, -1.2359353072929014, -1.2386666742907468, -1.2384686004388654, -1.2382123094352155, -1.2344316072422228, -1.2404270006159868, -1.2377846885584727, -1.2401752055752344, -1.2424240984228174, -1.2346138426357967, -1.2335332952195746, -1.2374087664369702, -1.2331074045558936, -1.2371752762730837, -1.2407038916603965, -1.237820123845324, -1.234216496817791, -1.2381993760589676, -1.232979713289965, -1.2455973407451628, -1.234721905470062, -1.2377406531356312, -1.2374582842064639, -1.2380041707358551, -1.2412573338094366, -1.2380481445479712, -1.2378006160741046, -1.2346520065960602, -1.2390871344718013, -1.240663739826229, -1.2388060668688852, -1.2347953522545438, -1.2371013718159014, -1.240450870561593, -1.2379898411575694, -1.2381700785362466, -1.2342524624663014, -1.2399068617697255, -1.240243521450729, -1.239017939765769, -1.2420200236968912, -1.238010292837231, -1.2370779053097385, -1.2379412471438502, -1.2398615279301797, 0.6046944467386516, 0.6047889688713568, 0.6045360206329481, 0.6043110411820274, 0.6047919085180251, 0.6047331951694469, 0.6040143504307176, 0.6044449959513336, 0.604821725649885, 0.6045409135571357, 0.6050458421699368, 0.6048500581335532, 0.6046205760057869, 0.6050424748767997, 0.6052595676664273, 0.6048460716847865, 0.6050213531711216, 0.6047256741919504, 0.6048664187656326, 0.6050641143569612, 0.6041634580470857, 0.6048669864887491, 0.6045354985106007, 0.6052916542837415, 0.604810865205875, 0.6044401835588881, 0.6051636552924519, 0.6046439747756961, 0.6048789857823226, 0.6048453698545175, 0.6050506979265455, 0.6041180335787851, 0.6048167329814957, 0.6049825493856195, 0.6045414352522264, 0.604921597314906, 0.6047184803768515, 0.605346171240723, 0.6050315130780844, 0.6047687024324415, 0.6044485290513713, 0.6045130813007106, 0.6049051720708444, 0.6047768436483426, 0.6051358416767173, 0.604845281880931, 0.6049741717409953, 0.6045100009567405, 0.6045409590191335, 0.6052206274375063, 0.6045752337362247, 0.6047862024422405, 0.6049837176969753, 0.6044875314263518, 0.6043505798358252, 0.6044862638367517, 0.6047699067872031, 0.6047493375074984, 0.6047227225793299, 0.6043301098232834, 0.6049527105455564, 0.6046783156405152, 0.6049265625074772, 0.6051601021976912, 0.604349034334252, 0.6042368232481982, 0.6046392774373858, 0.6041925959859843, 0.6046150302970204, 0.604981464716216, 0.6046819954716476, 0.604307771354851, 0.6047213794932484, 0.6041793356927159, 0.6054896323617143, 0.6043602562832502, 0.6046737427152111, 0.6046444196852968, 0.6047011081002664, 0.605038937755973, 0.6047056746275112, 0.6046799696575443, 0.6043529975286154, 0.6048135701127085, 0.6049772950880707, 0.6047843822209934, 0.6043678834760324, 0.6046073555765221, 0.604955189356278, 0.6046996200234658, 0.6047183370475456, 0.6043115062621947, 0.6048986959378109, 0.6049336568732301, 0.6048063844834649, 0.6051181404446367, 0.6047017438591734, 0.6046049186615816, 0.6046945737043747, 0.6048939881764539]\n",
            "Les coordonnées de la droite à l'époque 1: [-1.2345645173613604, -1.2363840172221474, -1.2315149006311565, -1.227184168051237, -1.23644060382838, -1.2353104036677724, -1.2214730317781255, -1.2297627248096248, -1.2370145674675355, -1.2316090867717278, -1.2413286890955975, -1.2375599524330925, -1.2331425457625746, -1.2412638705264545, -1.2454427891479478, -1.2374832154534208, -1.240857289131802, -1.2351656289243755, -1.2378748857395991, -1.241680418799482, -1.2243432726355747, -1.2378858141021105, -1.2315048500587553, -1.2460604391529302, -1.2368055098024284, -1.2296700888614716, -1.2435965278956735, -1.2335929594104045, -1.238116794004506, -1.2374697056008588, -1.2414221597804056, -1.223468876222972, -1.2369184613051014, -1.2401103372772622, -1.2316191291196705, -1.23893704292806, -1.235027151879937, -1.2471098610480924, -1.2410528618381664, -1.2359938992494592, -1.2298307350717992, -1.2310733309096724, -1.2386208658758884, -1.2361506132462208, -1.2430611308568138, -1.2374680121569661, -1.2399490721556339, -1.2310140359565827, -1.231609961890565, -1.2446932108314943, -1.2322697316311633, -1.236330764959972, -1.2401328266380987, -1.2305815096662411, -1.227945265722458, -1.2305571092529741, -1.2360170824263346, -1.235621134932472, -1.2351088119800433, -1.2275512290677182, -1.2395359557669556, -1.2342540024589401, -1.2390326201958743, -1.2435281327459093, -1.2279155156542279, -1.2257555130219304, -1.2335025381920381, -1.2249041621780792, -1.2330357938724101, -1.2400894579787103, -1.2343248372152182, -1.2271212256490514, -1.2350829583003984, -1.2246489087145231, -1.249871409927718, -1.2281315320945638, -1.2341659761235626, -1.2336015236792517, -1.2346927449646101, -1.2411957828662665, -1.2347806481408121, -1.2342858413909246, -1.2279918049992307, -1.2368575777939783, -1.2400091948952108, -1.2362957266868098, -1.2282783514246858, -1.2328880596594958, -1.2395836715308068, -1.2346641002921486, -1.2350243928684266, -1.2271931205925664, -1.2384962038225082, -1.2391691828942628, -1.2367192583228221, -1.2427203917263647, -1.2347049829792391, -1.2328411503667411, -1.2345669613827668, -1.2384055819661408, 0.6038501656395121, 0.6040390371840345, 0.6035336029211251, 0.6030840551256504, 0.6040449111057362, 0.6039275916958512, 0.6024912157679081, 0.6033517198878697, 0.6041044908844234, 0.6035433798286292, 0.6045523143949993, 0.604161104079634, 0.6037025591582378, 0.6045455859618011, 0.6049793748460354, 0.6041531384665636, 0.6045033811462706, 0.6039125634839878, 0.6041937954479069, 0.6045888253801657, 0.6027891585353583, 0.6041949298567358, 0.6035325596305079, 0.6050434894485861, 0.6040827898417611, 0.6033421038966937, 0.6047877253593691, 0.6037493139413367, 0.6042189065174981, 0.6041517360884845, 0.6045620170352621, 0.6026983926031741, 0.6040945146707791, 0.6044258444816677, 0.6035444222655137, 0.6043040517183433, 0.6038981889990935, 0.6051524237433704, 0.6045236823949344, 0.6039985413391953, 0.6033587796318891, 0.6034877661738363, 0.6042712312441718, 0.6040148088945024, 0.6047321489518951, 0.6041515603020662, 0.6044091045009422, 0.6034816111146281, 0.6035434706695518, 0.6049015655439187, 0.6036119574733279, 0.6040335093809152, 0.6044281789695168, 0.603436713112565, 0.6031630601840151, 0.6034341802496394, 0.6040009478479935, 0.6039598468749583, 0.6039066656522472, 0.6031221575639143, 0.604366221326242, 0.6038179329196964, 0.604313973030558, 0.6047806256624403, 0.6031599720049735, 0.6029357548768896, 0.6037399278481919, 0.6028473811692163, 0.6036914778744132, 0.6044236771248841, 0.6038252858577826, 0.6030775214462735, 0.6039039819343138, 0.602820884813297, 0.6054390838379436, 0.6031823953970318, 0.6038087954252235, 0.603750202947552, 0.6038634761903938, 0.6045385181835506, 0.6038726009004394, 0.603821237931359, 0.6031678911517302, 0.6040881947127348, 0.6044153454877813, 0.6040298722645228, 0.6031976358453789, 0.6036761424574818, 0.6043711744181387, 0.6038605027559645, 0.6038979026023883, 0.603084984436141, 0.6042582908119835, 0.6043281487984845, 0.6040738365845931, 0.6046967788333069, 0.6038647465464815, 0.6036712730805909, 0.6038504193389531, 0.6042488838917915]\n",
            "Les coordonnées de la droite à l'époque 2: [-1.2311924733902864, -1.2339203440808226, -1.2266203597699563, -1.2201275434043626, -1.2340051811000197, -1.2323107375009819, -1.2115651677840966, -1.2239934241096504, -1.2348656915196294, -1.2267615675918728, -1.2413336040478058, -1.2356833555902158, -1.2290605937838626, -1.241236425323708, -1.247501635819947, -1.2355683082839541, -1.2406268614024936, -1.2320936851187565, -1.2361555168444198, -1.2418609320080305, -1.2158683535542947, -1.2361719011049699, -1.2266052915292451, -1.2484276426759586, -1.2345522634784585, -1.2238545404013836, -1.2447336433261342, -1.2297358728619279, -1.2365181958859848, -1.2355480537449837, -1.2414737392283617, -1.2145574216893054, -1.2347216051202108, -1.239506999777245, -1.2267766235021302, -1.2377479475588093, -1.231886074511591, -1.250000980103191, -1.240920072226555, -1.2333354628140072, -1.2240953879541332, -1.2259583398781033, -1.2372739216288122, -1.233570415026852, -1.243930953575186, -1.2355455148627004, -1.239265224326652, -1.225869442391428, -1.226762879606827, -1.24637783649257, -1.2277520341413608, -1.2338405060504254, -1.239540716772556, -1.225220980791767, -1.2212686130327282, -1.2251843986663034, -1.2333702200074947, -1.2327765988774375, -1.2320085027669962, -1.2206778567130234, -1.2386458628676364, -1.2307269363932565, -1.2378912410171774, -1.2446311024419947, -1.2212240104796224, -1.217985643717903, -1.229600309569674, -1.2167092627385165, -1.22890054686184, -1.2394756966550045, -1.2308331348380526, -1.220033177508649, -1.2319697418434776, -1.2163265760140496, -1.2541412102903786, -1.221547871409192, -1.2305949636102698, -1.2297487127738607, -1.2313847176042931, -1.2411343454408694, -1.2315165057418656, -1.230774670658727, -1.221338386673168, -1.2346303260005422, -1.2393553628656324, -1.2337879751981478, -1.2217679891217985, -1.228679057518486, -1.2387174003469688, -1.2313417723069993, -1.2318819380855341, -1.2201409654307254, -1.2370870230370803, -1.238095981556258, -1.2344229516338665, -1.2434201031447447, -1.2314030653503614, -1.228608729134529, -1.2311961375699354, -1.2369511589398994, 0.6030069335541021, 0.6032899820279883, 0.6025325233164177, 0.6018588177152392, 0.6032987848605038, 0.6031229665284774, 0.6009703711475313, 0.602259948031883, 0.6033880728762001, 0.6025471752787095, 0.6040591944131123, 0.6034729150822967, 0.6027857261225325, 0.6040491109844347, 0.604699199815877, 0.6034609775793296, 0.6039858616015975, 0.6031004448064048, 0.6035219073321472, 0.6041139108536303, 0.6014168769769057, 0.6035236073907168, 0.602530959810291, 0.6047952838525259, 0.6033555510528474, 0.6022455372235521, 0.6044119882358632, 0.6028557942211255, 0.6035595395225517, 0.6034588759341288, 0.6040737350763233, 0.6012808524706702, 0.603373122227841, 0.6038696628664117, 0.6025487375054074, 0.6036871406348258, 0.6030789027788722, 0.6049585360034548, 0.6040162856523289, 0.6032292937590938, 0.6022705279727404, 0.6024638310133986, 0.603637954903063, 0.6032536727978484, 0.6043286997904842, 0.6034586124954116, 0.6038445758369748, 0.6024546068599139, 0.6025473114155988, 0.6045825924980625, 0.6026499477621122, 0.6032816978990008, 0.6038731613988385, 0.6023873213882108, 0.601977217028677, 0.6023835255650365, 0.6032329002242417, 0.6031713050923637, 0.6030916061415987, 0.6019159191543638, 0.6037803098450544, 0.6029586286483732, 0.6037020090062811, 0.6044013484203957, 0.6019725889923732, 0.6016365705832276, 0.6028417279447729, 0.6015041311352852, 0.6027691193833692, 0.6038664148015351, 0.602969647978517, 0.6018490261503892, 0.6030875842426553, 0.6014644229138828, 0.6053881332860852, 0.6020061933498613, 0.6029449349293312, 0.6028571265120916, 0.6030268811387061, 0.6040385190032412, 0.6030405556986277, 0.6029635816364457, 0.6019844568595505, 0.6033636509520912, 0.6038539287641446, 0.6032762472089733, 0.6020290331357956, 0.6027461372747099, 0.6037877326948327, 0.6030224250620665, 0.6030784735763126, 0.6018602104073824, 0.6036185619892623, 0.6037232532306978, 0.6033421334372712, 0.6042756930863092, 0.603028784931852, 0.6027388398827114, 0.603007313755576, 0.6036044645008819]\n",
            "Les coordonnées de la droite à l'époque 3: [-1.2278238890298987, -1.2314592123994084, -1.221730817408248, -1.2130781026187731, -1.2315722712769999, -1.2293141545578794, -1.2016673695884792, -1.2182300060870812, -1.2327190388451865, -1.2219189993835708, -1.2413385652938547, -1.2338087068102126, -1.2249828189670469, -1.2412090591233618, -1.2495584527404755, -1.2336553879001546, -1.240396717843517, -1.2290248975926394, -1.2344379370913765, -1.24204131402159, -1.2074020518987565, -1.2344597717353265, -1.2217107365709177, -1.2507925047707509, -1.232301345922028, -1.2180449213643858, -1.2458696606601563, -1.225882736188911, -1.2349212648385481, -1.2336283954920784, -1.2415253178032508, -1.2056550258167784, -1.2325270207055978, -1.2389043233722516, -1.2219390637886023, -1.2365601053489956, -1.228748223300634, -1.252889228173801, -1.2407874680959396, -1.2306797646986727, -1.2183658891947295, -1.2208485701696663, -1.2359283900895257, -1.2309928760470354, -1.24479994836763, -1.2336250120259453, -1.2385821189698347, -1.2207301000706536, -1.2219207478530423, -1.2480608106522244, -1.2232389542504063, -1.2313528154727926, -1.2389492566535207, -1.219865921421843, -1.21459876014137, -1.2198171698970492, -1.2307260842101446, -1.229934989245776, -1.2289113785042538, -1.2138114829943412, -1.2377567209060836, -1.2272034866293944, -1.2367510667679917, -1.2457330085550047, -1.2145393201157824, -1.2102236791989442, -1.225702076450864, -1.2085226976902315, -1.2247695308819975, -1.2388626069623738, -1.227345013018278, -1.212952344991345, -1.228859723383071, -1.2080127065101207, -1.258406746143714, -1.2149709165289921, -1.2270276118183943, -1.2258998474222527, -1.228080085148819, -1.2410730213760712, -1.2282557138903145, -1.227267100161881, -1.214691744660961, -1.2324053767002459, -1.2387022429692554, -1.2312828097223119, -1.2152642585365356, -1.2244743609574167, -1.2378520560227058, -1.2280228536812847, -1.2287427108522753, -1.2130959896125637, -1.2356793178660481, -1.2370239162358891, -1.2321290172364234, -1.2441191585799947, -1.2281045364508147, -1.224380637153489, -1.2278287721344954, -1.2354982572573936, 0.6021647492549264, 0.6025418024138629, 0.6015327801921907, 0.6006353267573431, 0.6025535288003789, 0.6023193185374536, 0.5994518136286515, 0.6011696785274097, 0.6026724707183875, 0.6015522982930688, 0.6035664818820892, 0.602785490306095, 0.6018700754850651, 0.6035530495940306, 0.6044190427722279, 0.6027695881775946, 0.6034687941332181, 0.6022893170103809, 0.6028507536241263, 0.6036393704812038, 0.6000466108064552, 0.602853018297895, 0.6015306974219994, 0.6045470377726756, 0.6026291479049445, 0.6011504816713751, 0.6040364438765671, 0.6019634142604079, 0.6029008840349176, 0.6027667885441925, 0.6035858517197763, 0.599865410501558, 0.6026525547332754, 0.6033140040382049, 0.6015543793589136, 0.6030708634091433, 0.6022606205492429, 0.6047645084354416, 0.6035093224719807, 0.6024609586517226, 0.6011837722268628, 0.6014412741349688, 0.6030053423509263, 0.6024934343384769, 0.6039254940770438, 0.6027664376134874, 0.6032805852263398, 0.6014289865004088, 0.601552479643081, 0.6042637083981066, 0.6016892030747364, 0.6025307670001724, 0.603318664486237, 0.6013393545044899, 0.6007930482759746, 0.6013342980309503, 0.6024657628785672, 0.6023837110705118, 0.602277542891128, 0.6007113924492232, 0.6031949755251705, 0.6021004015584096, 0.6030906697919459, 0.6040222704172389, 0.6007868831987209, 0.6003392679867765, 0.6019446763606396, 0.6001628433923286, 0.6018479533963106, 0.6033096772417895, 0.6021150805749859, 0.6006222832655096, 0.6022721852586322, 0.6001099474692029, 0.6053367814820414, 0.6008316480722811, 0.6020821599478773, 0.6019651890253818, 0.6021913217344909, 0.6035389398554634, 0.6022095378228687, 0.6021069995088357, 0.6008026925643309, 0.6026399379034031, 0.603293044402276, 0.6025235060534341, 0.6008620732970411, 0.6018173385812932, 0.603204863615782, 0.6021853857273104, 0.6022600488020128, 0.6006371819836399, 0.6029795087567396, 0.6031189695450428, 0.6026112740960207, 0.6038548830436063, 0.6021938578061742, 0.6018076176148902, 0.6021652557270682, 0.6029607292789564]\n",
            "Les coordonnées de la droite à l'époque 4: [-1.2244587607117778, -1.2290006195455228, -1.216846268408743, -1.2060358383292442, -1.2291418717560494, -1.2263206516537652, -1.191779626887967, -1.2124724647032257, -1.23057460713621, -1.2170813770579874, -1.241343572745138, -1.2319360040656584, -1.2209092170121778, -1.2411817718034637, -1.2516132419374166, -1.2317444522351204, -1.240166858123755, -1.2259592630868452, -1.2327221446150616, -1.242221564932501, -1.1989443588422437, -1.2327494241333947, -1.216821180041314, -1.253155027782939, -1.2300527547175912, -1.2122412256641304, -1.247004580975818, -1.2220335453231184, -1.2333259991212375, -1.2317107287682911, -1.2415768954645525, -1.196761679328843, -1.2303347057038245, -1.2383023073468975, -1.2171064448954183, -1.2353735149796352, -1.2256135949166476, -1.2557746081454277, -1.2406550492158157, -1.2280268020703786, -1.212642232789885, -1.2157440164199083, -1.234584269776389, -1.2284179935543151, -1.2456681160367908, -1.231706501571978, -1.2378997552868352, -1.2155960035993025, -1.2170835615408262, -1.2497421349527225, -1.2187304872093327, -1.228867690567296, -1.238358445577178, -1.2145163259390002, -1.207935700074704, -1.2144554173151898, -1.2280846722131336, -1.2270963030126425, -1.2258174359034075, -1.206952100735281, -1.2368685288714227, -1.2236836494391905, -1.2356120961785038, -1.2468338521278322, -1.2078614375737233, -1.202469611364861, -1.2218078347208556, -1.2003444584950556, -1.2206427415780146, -1.2382501881746926, -1.2238604680641718, -1.205878720699535, -1.2257528996174694, -1.1997072915332536, -1.2626680217939021, -1.208400660576109, -1.2234639169744876, -1.222054923560598, -1.2247788440957346, -1.2410118105148924, -1.2249982691289274, -1.2237631261886024, -1.2080518720128728, -1.2301827275043296, -1.2380498344386623, -1.2287802275814994, -1.2087671528665733, -1.220273965545418, -1.2369876375716908, -1.2247073408978157, -1.2256067078368122, -1.2060581857774626, -1.2342730867636396, -1.235952985733597, -1.229837452670575, -1.2448175586594667, -1.2248093927844421, -1.2201568699686198, -1.2244648615092846, -1.2340468753262313, 0.6013236115158763, 0.6017944973533951, 0.6005343719236885, 0.5994135800610921, 0.6018091419444953, 0.6015166465941735, 0.5979355402738372, 0.6000809095206493, 0.6019576835051482, 0.6005587472592636, 0.6030741764600359, 0.6020988289164843, 0.6009556058338466, 0.6030574014402215, 0.6041389039109901, 0.6020789694167832, 0.6029521783376167, 0.6014791789483851, 0.602180333530468, 0.60316520396697, 0.5986783574617738, 0.6021831617863226, 0.6005317708395638, 0.6042987514856769, 0.6019035794648869, 0.6000569353742529, 0.6036610922360391, 0.6010721727060728, 0.6022429392928417, 0.602075473072334, 0.6030983666359454, 0.5984520640193032, 0.6019328112686817, 0.6027588674958896, 0.6005613462149018, 0.602455219386765, 0.6014433411445727, 0.604570341453153, 0.6030027924759396, 0.6016935349778219, 0.6000985105493463, 0.6004200938560693, 0.6023733928918998, 0.6017340924976142, 0.6035225316961449, 0.6020750348097307, 0.6027171321467988, 0.6004047483458839, 0.6005589737396693, 0.6039449133419683, 0.6007297218851166, 0.6017807156892057, 0.6027646877334949, 0.6002928107146338, 0.5996105518345285, 0.6002864958974224, 0.6016995347747411, 0.6015970637214152, 0.6014644747458766, 0.5995085753056048, 0.6026102177903497, 0.6012432503831062, 0.6024799547455154, 0.6036433915985876, 0.5996028525287486, 0.5990438447099119, 0.6010487717308612, 0.5988235154514333, 0.6009279784872936, 0.6027534639417607, 0.6012615823897494, 0.5993972905925369, 0.6014577838239069, 0.5987574559569773, 0.605285029200625, 0.5996587574972608, 0.6012204692026556, 0.6010743891354312, 0.6013567967684014, 0.6030397803809493, 0.6013795460753063, 0.6012514902859917, 0.5996225961807761, 0.6019170546403113, 0.6027326918877969, 0.6017716477981007, 0.5996967542812773, 0.6008897449319758, 0.6026225666109833, 0.6013493835386049, 0.6014426271134953, 0.5994158969752138, 0.6023411304022577, 0.6025152971173343, 0.6018812576164014, 0.6034343485452279, 0.6013599639617011, 0.6008776048257397, 0.6013242440276405, 0.6023176775020114]\n",
            "Les coordonnées de la droite à l'époque 5: [-1.2210970848712, -1.226544562889519, -1.2119667076394594, -1.1990007431781444, -1.2267139799366025, -1.2233302256072411, -1.1819019293898627, -1.2067207939256235, -1.2284323940871054, -1.2122486955315441, -1.2413486263131737, -1.2300652453312426, -1.2168397836237521, -1.24115456324222, -1.253666005436606, -1.2298354992241045, -1.2399372819124643, -1.2228967783455733, -1.2310081375520148, -1.2424016848330424, -1.1904952655671321, -1.2310408564413309, -1.2119366168032866, -1.2555152140557815, -1.2278064874521144, -1.2064434472205499, -1.2481384053501245, -1.218188296200523, -1.2317323969949143, -1.2297950515019318, -1.2416284721718212, -1.1878773729585055, -1.2281446577599051, -1.2377009509865653, -1.2122787617441613, -1.2341881751331318, -1.2224821860326651, -1.2586571229006476, -1.240522815355948, -1.2253765720989889, -1.2069244127420908, -1.2106446732699156, -1.2332415592093158, -1.2258457647990932, -1.2465354573845224, -1.2297899814282378, -1.2372181324801586, -1.2104671475879882, -1.2122513155870505, -1.2514218110346762, -1.2142266282740803, -1.2263851286769214, -1.237768282840468, -1.209172188731568, -1.201279425866242, -1.2090991352965148, -1.2254459811982397, -1.2242605371563298, -1.2227266716794574, -1.2000997027668514, -1.2359812857538508, -1.2201674210983413, -1.234474327980236, -1.2479336342023326, -1.2011903558716681, -1.1947234321238076, -1.217917580269153, -1.1921745366236172, -1.216520174599526, -1.2376384395666131, -1.2203794962878338, -1.1988122972432393, -1.2226492672483862, -1.191410322422897, -1.2669250415427342, -1.2018370966797802, -1.219903875309008, -1.218213937129271, -1.2214809909462145, -1.240950712700548, -1.221744168004054, -1.2202627450309507, -1.2014187617863323, -1.2279623760265184, -1.237398136507257, -1.226280226100689, -1.2022766653166024, -1.2160778668562013, -1.236124144008643, -1.2213952304430462, -1.2224739257107602, -1.1990275465723914, -1.2328683281857022, -1.2348831888510863, -1.2275482554789616, -1.2455153040099025, -1.2215176308587075, -1.2159374231295248, -1.221104402130835, -1.2325970115556877, 0.6004835191122283, 0.6010480658594128, 0.5995372968880334, 0.5981935754381935, 0.6010656233130688, 0.6007149495712953, 0.5964215481491569, 0.5989936391599623, 0.601243710331634, 0.599566520566713, 0.6025822778053505, 0.6014129300798211, 0.6000423157585023, 0.6025621661729427, 0.6038587834276933, 0.601389120453233, 0.602436013811646, 0.6006700294741738, 0.6015106462586459, 0.6026914110152486, 0.5973121143836652, 0.6015140370649003, 0.5995341784387941, 0.6040504252676991, 0.6011788448005321, 0.5989648964684514, 0.6032859332687636, 0.6001820682065512, 0.601585704535381, 0.6013849286731272, 0.602611279495432, 0.5970408103505493, 0.6012138909166642, 0.6022042527387974, 0.5995696364641019, 0.6018402079138387, 0.6006270634005387, 0.6043760354697696, 0.6024966952865918, 0.6009270216992864, 0.5990147410974305, 0.5994002884961716, 0.6017421058308517, 0.6009756462576152, 0.603119812532371, 0.6013844032384944, 0.6021542160766289, 0.5993818907080691, 0.5995667920948969, 0.6036262074273132, 0.599771502668925, 0.6010315429719759, 0.6022112306428796, 0.5992476882739022, 0.5984297256154141, 0.5992401174165272, 0.6009342148776847, 0.6008113619583009, 0.6006524005521833, 0.5983074655831386, 0.6020260360649329, 0.600387173857199, 0.6018698632256156, 0.6032647119099964, 0.5984204948896472, 0.5977502983778177, 0.6001540126920634, 0.5974861448266319, 0.6000091932320063, 0.6021977743980539, 0.6004091521667916, 0.5981740459349605, 0.6006443787814424, 0.597406945857913, 0.6052328772155608, 0.5984875195601944, 0.6003598614169094, 0.6001847254917888, 0.6005233050324552, 0.6025410402207448, 0.6005505792594346, 0.6003970527068063, 0.5984441656260371, 0.6011950002374712, 0.6021728707068336, 0.6010206714442737, 0.5985330740430665, 0.5999633548831578, 0.6020408411110074, 0.6005144172842277, 0.6006262073460772, 0.5981963531949802, 0.601703426214409, 0.6019122353240277, 0.60115208305501, 0.6030140894312708, 0.6005271021920481, 0.5999488000655354, 0.6004842774328881, 0.6016753084468077]\n",
            "Les coordonnées de la droite à l'époque 6: [-1.217738857947133, -1.2240910398044824, -1.207092129973715, -1.191972809815427, -1.2242885932207954, -1.2203428732402073, -1.172034266812066, -1.2009749877280393, -1.2262923973946773, -1.2074209497259139, -1.2413537259096035, -1.2281964285837668, -1.2127745145107087, -1.2411274333179954, -1.2557167452618327, -1.227928526804512, -1.2397079888792732, -1.2198374401163976, -1.229295914040722, -1.2425816738154312, -1.1820547632648812, -1.229334066803231, -1.2070570417249937, -1.2578730659301638, -1.225562541715074, -1.20065157995985, -1.2492711348590093, -1.2143469847613027, -1.230140456722258, -1.2278813616234698, -1.2416800478846857, -1.179002097448317, -1.2259568745213045, -1.2371002535774045, -1.2074560092616593, -1.2330040844932746, -1.2193539933251676, -1.261536775319112, -1.2403907662863707, -1.222729071957305, -1.2012124230600276, -1.205550535366308, -1.2319002569097726, -1.2232761870346271, -1.2474019732118888, -1.227875449524325, -1.2365372497531621, -1.2053435266528887, -1.207424004913837, -1.2530998405370475, -1.2097273727054916, -1.2239051271474148, -1.237178767741086, -1.2038335041936692, -1.194629930556679, -1.2037483182226196, -1.2228100083501665, -1.2214276886582651, -1.219639082550808, -1.1932542819274519, -1.2350949905446342, -1.2166547978863989, -1.2333377609060459, -1.2490323558193255, -1.194526068035038, -1.186985133392277, -1.2140313089895123, -1.184012923555332, -1.2124018256006648, -1.2370273604135658, -1.2169020940051822, -1.1917530672400978, -1.219548822980953, -1.183121790527421, -1.2711778096876194, -1.1952802179763287, -1.216347483056315, -1.2143768840728466, -1.218186522205058, -1.2408897277764466, -1.2184934070656224, -1.2167659529848234, -1.1947924070459275, -1.2257443198830202, -1.2367471484092631, -1.2237828026076385, -1.1957927890983215, -1.2118860604680544, -1.2352615743493256, -1.218086518807069, -1.2193443611491839, -1.1920040646518997, -1.2314650405897019, -1.2338145243913252, -1.2252614232067784, -1.246212395257433, -1.2182292471846927, -1.2117222921904085, -1.2177473904393694, -1.2311486643567038, 0.5996444708206419, 0.6003025069458338, 0.5985415534642229, 0.596975310702929, 0.6003229719273957, 0.5999142263427405, 0.5949098343241752, 0.5979078655958672, 0.6005305502939846, 0.5985756166066962, 0.6020907855767226, 0.600727792963362, 0.5991302038502706, 0.6020673434424317, 0.6035786815174949, 0.6007000404441942, 0.6019203001525263, 0.5998618674427902, 0.600841691016983, 0.6022179913305936, 0.5959478790159658, 0.6008456433433759, 0.5985379185973776, 0.6038020593944395, 0.6004549429807591, 0.5978743630924099, 0.6029109669291502, 0.5992930994118141, 0.6009291790024025, 0.6006951545020606, 0.6021245899691142, 0.5956316468251139, 0.6004957927608306, 0.6016501592667481, 0.5985792484991028, 0.6012258283371898, 0.5998117861541272, 0.6041815908978304, 0.6019910305266598, 0.6001614177791633, 0.5979324620305023, 0.5983818563766936, 0.6011114804733788, 0.6002180946019623, 0.6027173364703176, 0.6006945420550462, 0.6015918364946214, 0.5983604119006508, 0.5985759331001574, 0.6033075907515557, 0.598814543903587, 0.600283247855457, 0.6016582927171438, 0.5982039854395811, 0.5972505675321581, 0.5981951608423688, 0.6001698021534684, 0.6000266046956085, 0.5998413191576821, 0.5971080611439704, 0.6014424297738421, 0.5995321707168572, 0.6012603945915351, 0.6028862312969566, 0.5972398081910643, 0.5964586266184827, 0.5992603978824264, 0.5961507290348993, 0.5990915962077669, 0.6016426081077665, 0.5995577886515184, 0.5969525470988546, 0.5998319689755018, 0.5960584146557006, 0.6051803262994868, 0.5973179321988973, 0.5995003353153298, 0.5992961967455425, 0.5996908453200325, 0.6020427190162092, 0.5997226361800961, 0.5995436855116008, 0.5972673988197095, 0.6004737737705514, 0.6016135803460172, 0.6002705759943582, 0.5973710305393691, 0.5990381669928933, 0.6014596865469982, 0.5996804857538239, 0.5998107883363847, 0.5969785484583882, 0.6010663954825346, 0.6013097835422189, 0.6004237494694785, 0.602594105541899, 0.599695271292191, 0.5990212018862147, 0.5996453547197895, 0.6010336213908697]\n",
            "Les coordonnées de la droite à l'époque 7: [-1.2143840763822333, -1.2216400476662275, -1.202222530290123, -1.1849520308986223, -1.2218657090134644, -1.2173585913778593, -1.1621766288830633, -1.1952350400904561, -1.224154614758128, -1.2025981345680146, -1.2413588714461932, -1.226329551802142, -1.2087134053864235, -1.2411003819093123, -1.2577654634348423, -1.2260235329158982, -1.2394789786941829, -1.2167812451502635, -1.2275854722216126, -1.242761531971823, -1.1736228431360245, -1.2276290533651295, -1.2021824496798943, -1.2602285857446027, -1.2233209150984536, -1.1948656178145043, -1.2504027705773335, -1.210509606949835, -1.2285501765677647, -1.2259696570655318, -1.2417316225628496, -1.1701358435503635, -1.223771353637935, -1.2365002144063302, -1.2026381823799808, -1.2318212417452366, -1.2162290134740803, -1.2644135682775495, -1.2402589017773873, -1.2200842988210636, -1.1955062577585585, -1.200461597361233, -1.230560361400776, -1.2207092575170269, -1.2482676643191652, -1.2259629037919975, -1.2358571063100539, -1.200225135415741, -1.2026016244485525, -1.2547762250971486, -1.2052327157693066, -1.2214276833272797, -1.2365898995774813, -1.1985002667252127, -1.187987207193886, -1.1984029604808992, -1.2201767508565409, -1.2185977545030073, -1.2165546652392656, -1.1864158310628659, -1.2342096422361077, -1.2131457760867668, -1.2322023936901252, -1.2501300180185948, -1.1878685670964464, -1.1792547070950916, -1.210149016779937, -1.1758596107783945, -1.2082876902400579, -1.2364169499917572, -1.2134282575359494, -1.1847010233153594, -1.2164515635237163, -1.1748416872041094, -1.2754263305215894, -1.1887300176091546, -1.2127947364546672, -1.2105437603400946, -1.2148954343806848, -1.2408288555861908, -1.2152459828671345, -1.2132727463499535, -1.1881728008633976, -1.2235285566925225, -1.2360968693797234, -1.2212879544328812, -1.1893155174304297, -1.2076985419638357, -1.2343999276105448, -1.214781202483613, -1.2162180108305936, -1.1849877326781093, -1.2300632224347205, -1.2327469911585434, -1.2229769534017738, -1.2469088330275804, -1.214944238277094, -1.2075114727100718, -1.2143938228787974, -1.2297018321418849, 0.5988064654191586, 0.5995578196276641, 0.5975471400331284, 0.5957587836721517, 0.599581186809852, 0.5991144757836918, 0.593400395871949, 0.5968235869810387, 0.5998182024893266, 0.597586033772351, 0.6015996994331335, 0.6000434167352623, 0.598219268702001, 0.6015729328992283, 0.6032985983751809, 0.6000117285478285, 0.6014050369578455, 0.5990546917105624, 0.6001734670146506, 0.6017449446177945, 0.5945856488055415, 0.6001779798323439, 0.5975429896948764, 0.6035536541411244, 0.5997318730754677, 0.5967853333867383, 0.602536193171535, 0.5984052649733712, 0.6002733619345828, 0.6000061497155363, 0.6016382977281466, 0.5942245707759849, 0.5997785158857911, 0.6010965865800496, 0.5975901807143502, 0.6006120800043208, 0.5989975082436313, 0.6039870081492345, 0.6014857978192023, 0.5993967221816516, 0.5968516715100939, 0.5973647958209984, 0.6004815161258057, 0.5994614365152641, 0.6023151033945925, 0.6000054504155676, 0.6010299928800817, 0.5973403102392695, 0.5975863951487025, 0.6029890634118595, 0.5978588440682803, 0.5995358293477195, 0.601105873459524, 0.5971617004709805, 0.5960730755007362, 0.5971516244310793, 0.5994062955693101, 0.5992427908489897, 0.5990312294113017, 0.5959103598527579, 0.60085939834258, 0.5986782396996821, 0.600651548203224, 0.6025079497048966, 0.5960607903451008, 0.5951688270626977, 0.5983679259416836, 0.5948172655961497, 0.5981751859935217, 0.6010879645684871, 0.5987074905907565, 0.5957327918928751, 0.5990205532516465, 0.594711859837011, 0.6051273772239553, 0.5961499933536037, 0.5986418896240535, 0.5984088015493172, 0.5988594164258747, 0.6015448164090145, 0.5988957156434805, 0.5986913874421228, 0.59609229368383, 0.599753374316233, 0.6010548202924834, 0.5995213604518616, 0.5962106217295406, 0.5981141798208884, 0.6008791023506727, 0.5988475877384044, 0.5989963689223516, 0.5957624805834568, 0.6004300374967239, 0.6007079411496432, 0.5996962559184736, 0.6021743967173439, 0.5988644700584653, 0.5980948088413742, 0.5988074746667046, 0.6003926156124842]\n",
            "Les coordonnées de la droite à l'époque 8: [-1.211032736622841, -1.2191915838532954, -1.1973579034725863, -1.17793839909283, -1.2194453247221417, -1.2143773768486839, -1.152329005341916, -1.1895009449990686, -1.2220190438790537, -1.1977802449900041, -1.241364062834832, -1.2244646129673866, -1.204656451968705, -1.241073408894851, -1.2598121619753377, -1.2241205154999664, -1.2392502510275658, -1.2137281902014843, -1.2258768102370579, -1.2429412593943123, -1.1651994963901597, -1.2259258142749965, -1.1973128355467415, -1.2625817758352478, -1.2210816051967412, -1.1890855547232462, -1.251533313578889, -1.206676158714693, -1.2269615547977444, -1.2240599357628994, -1.2417831961660912, -1.161278602026255, -1.2215880927621545, -1.2359008327610226, -1.197825276036429, -1.2306396455755735, -1.2131072431627694, -1.2672875046497694, -1.24012722159957, -1.2174422498689332, -1.1898059108587224, -1.1953778539123594, -1.229221871206892, -1.2181449735052512, -1.2491325315058386, -1.2240523421651692, -1.2351777013558913, -1.1951119685038352, -1.1977841691238034, -1.2564509663506445, -1.2007426527361573, -1.2189527945677736, -1.2360016776488563, -1.193172470731889, -1.1813512488329023, -1.1930630564645428, -1.2175462059079085, -1.215770731678243, -1.2134734164700336, -1.1795843430262523, -1.2333252398216734, -1.2096403519866965, -1.2310682250679974, -1.2512266218388908, -1.1812178460956906, -1.1715321451653955, -1.2062706995426742, -1.167714589789768, -1.204177764180821, -1.2358072075781703, -1.2099579832036782, -1.177656158101876, -1.213357485588634, -1.1665700038191495, -1.2796706083333025, -1.1821864887287294, -1.2092456317462164, -1.2067145618839759, -1.211607723985131, -1.2407680959735772, -1.212001891965663, -1.2097831214299049, -1.1815599363176263, -1.2213150840761897, -1.2354472986544989, -1.2187956789097236, -1.1828448435386196, -1.2035153069309714, -1.2335392028101497, -1.2114792779700387, -1.2130948714369416, -1.1779785433207064, -1.2286628721814548, -1.2316805879582307, -1.220694843614246, -1.2476046179452573, -1.2116626006542177, -1.2033049602519068, -1.2110436958967115, -1.2282565133254986, 0.5979695016872004, 0.5988140029209974, 0.5965540549774924, 0.5945439921652836, 0.5988402669838916, 0.5983156967705925, 0.5918932298690233, 0.5957408014703046, 0.5991066660157726, 0.5965977704586711, 0.6011090190338558, 0.5993598005645757, 0.5973095089081523, 0.6010789341941736, 0.6030185341951658, 0.5993241839232077, 0.6008902238255589, 0.5982485011351016, 0.599505973461667, 0.6012722705818749, 0.5932254212022845, 0.5995110457432444, 0.5965493901127258, 0.6033052097825093, 0.5990096341555773, 0.595697805494215, 0.6021616119501798, 0.5975185635442688, 0.5996182525734066, 0.5993179134708692, 0.6011524024439598, 0.5928195795393169, 0.5990620593771573, 0.6005435341794971, 0.596602431506144, 0.5999989622634103, 0.5981842285086502, 0.6037922876352411, 0.6009809967876136, 0.5986329338721001, 0.5957723676998795, 0.5963491051543913, 0.5998522120951846, 0.598705670983254, 0.6019131131898159, 0.5993171274771532, 0.6004686847128284, 0.5963215840415177, 0.5965981766356396, 0.6026706255051378, 0.596904401643932, 0.5987892864579304, 0.600553972373741, 0.596120831629432, 0.5948972474395701, 0.5961095064408164, 0.5986436940935744, 0.5984599193353058, 0.5982221301632631, 0.5947143595766684, 0.600276941197229, 0.5978253795447055, 0.6000433234212932, 0.6021298670791819, 0.594883439266309, 0.5938808973440519, 0.5974765955111201, 0.5934857520332326, 0.5972599611698438, 0.6005338432782952, 0.5978582567327512, 0.5945147781282566, 0.5982101304567345, 0.5933672788914918, 0.6050740307594344, 0.5949837009669641, 0.5977845230706624, 0.5975225385572732, 0.5980290171460829, 0.6010473320411454, 0.5980698164571229, 0.5978401572415456, 0.594918848142874, 0.5990338009522079, 0.6004965900338711, 0.5987730238213931, 0.5950518455753289, 0.5971913919284997, 0.6002990879543199, 0.5980157220303443, 0.5981829479432185, 0.5945481473907726, 0.5997943515478134, 0.6001067075246753, 0.5989696014616956, 0.6017549627979039, 0.5980346972885638, 0.5971696194862688, 0.5979706360533731, 0.5997522903907004]\n",
            "Les coordonnées de la droite à l'époque 9: [-1.2076848351189768, -1.2167456457469508, -1.1924982444102916, -1.1709319070707107, -1.217027437757054, -1.2113992264844564, -1.1424913859382504, -1.1837726964462767, -1.2198856824614435, -1.192967275929275, -1.2413692999875328, -1.2226016100626245, -1.2006036499797907, -1.2410465141534492, -1.2618568429009824, -1.2222194725005653, -1.2390218055501663, -1.2106782720277374, -1.2241699262313686, -1.2431208561749316, -1.1567847142459404, -1.2242243476827361, -1.1924481942095781, -1.2649326385358834, -1.2188446096069272, -1.1833113846310634, -1.2526627649363984, -1.2028466360086416, -1.2253745896803196, -1.2221521956525068, -1.2418347686542626, -1.1524303636471178, -1.219407089548763, -1.235302107929926, -1.1930172851735361, -1.2294592946722223, -1.2099886790780379, -1.2701585873066643, -1.2399957255237597, -1.214802922282511, -1.184111376387728, -1.1902992996828734, -1.2278847848542338, -1.2155833322611058, -1.249996575570608, -1.2221437625799076, -1.2344990340965813, -1.1900040205500093, -1.19297163387743, -1.2581240659315545, -1.196257178881563, -1.2164804582229063, -1.2354141012551656, -1.1878501106251627, -1.1747220485359289, -1.1877286005725267, -1.2149183706977322, -1.2129466171747836, -1.21039533297171, -1.1727598106781387, -1.2324417822957996, -1.2061385218772833, -1.2299352537765171, -1.2523221683179304, -1.1745738980797447, -1.163817439544645, -1.2023963531842097, -1.1595778520951765, -1.2000720430905536, -1.2351981324505632, -1.2064912673357178, -1.1706184642400939, -1.2102665858910715, -1.1583067317476232, -1.2839106474070485, -1.1756496244925874, -1.2057001651770047, -1.2028892846616386, -1.2083233875340462, -1.240707448782595, -1.2087611309218473, -1.206297074532068, -1.1749538064946334, -1.219103899657661, -1.2347984354702677, -1.216305973374242, -1.1763807606555694, -1.1993363509614487, -1.2326793989670302, -1.2081807417673347, -1.2099749396536192, -1.1709764892569339, -1.2272639882922143, -1.2306153135971365, -1.2184150913970402, -1.2482997506347684, -1.2083843308379767, -1.1991027503838925, -1.2076970059443832, -1.2268127063234728, 0.597133578405568, 0.5980710558430136, 0.5955622966819267, 0.5933309340043122, 0.5981002114740459, 0.5975178881811446, 0.590388333395427, 0.5946595072206442, 0.5983959399724199, 0.5956108250625045, 0.6006187440384531, 0.5986769436212528, 0.5964009230647904, 0.6005853469784103, 0.6027384891714941, 0.5986374057303134, 0.6003758603539884, 0.5974432945753019, 0.5988392095688975, 0.6007999689280934, 0.591867193659109, 0.5988448402883623, 0.5955571182342319, 0.6030567265928802, 0.5982882252930257, 0.5946117775597842, 0.6017872232192732, 0.5966329937790883, 0.5989638501611664, 0.5986304449262853, 0.6006669037882607, 0.5914166704544278, 0.5983464223215408, 0.599991001566373, 0.5956159992726369, 0.599386474463313, 0.5973719457900873, 0.603597429766471, 0.6004766270556234, 0.5978700518170068, 0.5946945487656738, 0.5953347827041178, 0.599223567689294, 0.5979507969927895, 0.6015113657406205, 0.598629572397809, 0.599907911473193, 0.5953042316269377, 0.5956112759579305, 0.6023522771280538, 0.5959512151132174, 0.5980436181963513, 0.6000025889639985, 0.5950813771782864, 0.5937230812695248, 0.5950688051317612, 0.5978819966957711, 0.5976779890726275, 0.5974140202650786, 0.593520058185376, 0.5996950577644509, 0.5969735889923876, 0.5994357196070141, 0.6017519833651154, 0.5937077528716889, 0.5925948350989302, 0.5965864052335701, 0.5921561858719303, 0.5963459203189309, 0.5999802437357603, 0.5970100858271654, 0.5932985036188095, 0.5974006994389196, 0.5920246693117639, 0.6050202876753099, 0.5938190529840421, 0.596928234384181, 0.5966374064251047, 0.5971996462781165, 0.600550265554899, 0.5972449374299025, 0.5969899936544658, 0.5937470601237526, 0.5983150527571783, 0.5999388890583228, 0.5980255651086624, 0.5938947000408715, 0.5962698018787318, 0.5997196427908007, 0.5971848874233815, 0.5973705242395303, 0.593335546703486, 0.5991593369273862, 0.5995060820463279, 0.598243785159877, 0.6013358036239447, 0.5972059517815359, 0.596245632377809, 0.5971348376609132, 0.5991126450053283]\n",
            "Les coordonnées de la droite à l'époque 10: [-1.204340368324338, -1.2143022307311793, -1.1876435479977043, -1.163932547512479, -1.2146120455311187, -1.2084241371202367, -1.1326637604322463, -1.1780502884306796, -1.2177545282116753, -1.1881592223284492, -1.2413745828164315, -1.2207405410730827, -1.196554995146341, -1.2410196975641024, -1.2638995082274018, -1.220320401863687, -1.2387936419330994, -1.2076314873900613, -1.2224648183507931, -1.243300322405652, -1.1483784879310655, -1.2225246517401844, -1.1875885205577308, -1.2672811761779326, -1.216609925928501, -1.1775431014891917, -1.253791125721516, -1.1990210347886323, -1.223789279485424, -1.2202464346734385, -1.2418863399872904, -1.1435911191935824, -1.2172283416550007, -1.2347040392022481, -1.1882142047390583, -1.2282801877244993, -1.2068733179101225, -1.2730268191162133, -1.2398644133210652, -1.2121663132463196, -1.1784226483789473, -1.1852259293414709, -1.2265491008704605, -1.2130243310492395, -1.250859797311386, -1.220237162974432, -1.2338211037388787, -1.1849012861926425, -1.1881640136525016, -1.2597955254722537, -1.191776289485925, -1.2140106716494359, -1.2348271696971154, -1.1825331808222679, -1.16809959937232, -1.1823995872096091, -1.2122932424223882, -1.2101254079865624, -1.2073204114762834, -1.1659422268864137, -1.2315592686540198, -1.2026402820534619, -1.2288034785538684, -1.2534166584923987, -1.1679367161027523, -1.1561105821826005, -1.1985259736152638, -1.1514493892090951, -1.1959705226413357, -1.2345897238874683, -1.20302810626322, -1.1635879343780453, -1.2071788611497989, -1.1500518623734974, -1.2881464520227528, -1.1691194180653184, -1.2021583329969603, -1.199067924634413, -1.2050424215466886, -1.2406469138574276, -1.2055236962998896, -1.2028146019676569, -1.1683544044875684, -1.216895001063048, -1.234150279064525, -1.21381883516528, -1.169923262020936, -1.1951616696518128, -1.231820515101116, -1.204885590380114, -1.2068582121694524, -1.1639815631715835, -1.2258665692309199, -1.2295511668832675, -1.2161376943055469, -1.2489942317198104, -1.2051094253538865, -1.1949048386785894, -1.2043537494767598, -1.2253704095533948, 0.5962986943564395, 0.5973289774119774, 0.5945718635329102, 0.5921196070137879, 0.5973610193059221, 0.5967210488943077, 0.5888857035346694, 0.5935797023911851, 0.5976860234593496, 0.5946251959825511, 0.6001288741067796, 0.5979948450761405, 0.5954935097695876, 0.6000921709033824, 0.6024584634978396, 0.5979513931300355, 0.5998619461418225, 0.5966390708913376, 0.5981731745480525, 0.6003280393619423, 0.5905109636319488, 0.598179362680826, 0.5945661724445696, 0.6028082048460535, 0.597567645560768, 0.5935272477305539, 0.6014130269329301, 0.5957485543339445, 0.5983101539409612, 0.5979437432409217, 0.6001818014330319, 0.5900158408637951, 0.5976316038065527, 0.5994389882424458, 0.5946308824138318, 0.5987746159535582, 0.5965606589301495, 0.6034024349529071, 0.5999726882472964, 0.5971080749840172, 0.5936182128754292, 0.5943218267993615, 0.5985955822166381, 0.5971968135318505, 0.6011098609316513, 0.5979427843364525, 0.5993476726420195, 0.5942882513170193, 0.5946256915143887, 0.6020340183770212, 0.5949992829605575, 0.5972988235743374, 0.5994517227349834, 0.5940433353829118, 0.592550574913906, 0.5940295187661155, 0.5971212023465539, 0.5968969989802327, 0.5966068985695506, 0.5923274535510585, 0.5991137474714864, 0.5961228667846161, 0.5988287361223178, 0.6013742985079373, 0.5925337290806858, 0.5913106379665096, 0.5956973537534159, 0.5908285646409539, 0.5954330620246033, 0.5994271654399421, 0.5961629766250778, 0.5920839661809172, 0.5965922590476493, 0.5906840285934184, 0.6049661487398856, 0.5926560473523121, 0.596073022295075, 0.5957534038100376, 0.5963713026207915, 0.6000536165928848, 0.5964210773720411, 0.5961408954269022, 0.59257692755581, 0.5975971288108554, 0.5993817168544836, 0.5972789833204785, 0.5927391830926934, 0.5953494082362362, 0.599140766293547, 0.5963550827126154, 0.5965590966531357, 0.592124676347309, 0.5985249929277714, 0.5989060640942515, 0.5975188060747813, 0.6009169190358994, 0.5963782323377854, 0.5953228460745597, 0.5963000782718202, 0.5984736787369384]\n",
            "Les coordonnées de la droite à l'époque 11: [-1.2009993326962949, -1.2118613361926842, -1.182793809134563, -1.156940313105895, -1.2121991454599417, -1.205452105594366, -1.1228461185946261, -1.1723337149570692, -1.2156255788385144, -1.1833560791353714, -1.241379911233788, -1.218881403986089, -1.192510483199435, -1.2409929590059625, -1.2659401599681859, -1.2184233015374653, -1.2385657598478508, -1.2045878330528517, -1.2207614847435155, -1.2434796581783838, -1.1399808086822705, -1.220826724601107, -1.1827338094858044, -1.2696273910904574, -1.214377551763449, -1.1717806992551076, -1.2549183970048297, -1.1951993510157992, -1.222205622484799, -1.218342650766928, -1.2419379101251753, -1.134760859455775, -1.2150518467405456, -1.2341066258679592, -1.1834160296859697, -1.2271023234230996, -1.2037611563526902, -1.2758922029434852, -1.2397332847628637, -1.2095324199478048, -1.1727397208719093, -1.1801577375623526, -1.2252148177847753, -1.2104679671371417, -1.2517221975252995, -1.2183325412891102, -1.233143909490385, -1.17980376007565, -1.18336130339731, -1.2614653466034753, -1.1872999798345214, -1.2115434322068666, -1.2342408822761628, -1.1772216757462013, -1.1614838944185764, -1.177076010786324, -1.209670818281163, -1.2073071011106307, -1.2042486487191293, -1.1591315845263181, -1.230677697892931, -1.1991456288140028, -1.2276728981395635, -1.2545100933979496, -1.161306293226019, -1.1484115650373181, -1.194659556750787, -1.143329192654741, -1.1918731985097217, -1.2339819811681914, -1.1995684963211353, -1.156564561171342, -1.2040943080869866, -1.1418053870896154, -1.2923780264559812, -1.1625958626185613, -1.198620131459893, -1.1952504777678075, -1.2017648225459223, -1.2405864910424504, -1.2022895846675519, -1.199335700051704, -1.1617617233967026, -1.214688385920931, -1.2335028286755807, -1.2113342616244458, -1.163472340881348, -1.1909912586031608, -1.2309625502333759, -1.2015938203166097, -1.2037446856766987, -1.156993757756988, -1.2244706134631018, -1.228488146625887, -1.2138626498976983, -1.2496880618234731, -1.2018378807310621, -1.1907112207131356, -1.2010139229524592, -1.2239296214345086, 0.5954648483233685, 0.5965877666472378, 0.5935827539187871, 0.5909100090208208, 0.5966226895062022, 0.5959251777902973, 0.587385337373736, 0.5925013851432009, 0.5969769155776257, 0.5936408816193609, 0.5996394088989805, 0.5973135041009808, 0.5945872676218196, 0.5995994056208348, 0.6021784573675071, 0.5972661452841714, 0.5993484807881159, 0.5958358289446627, 0.5975078676116875, 0.5998564815891486, 0.5891567285797532, 0.5975146121346072, 0.5935765511307803, 0.6025596448153769, 0.5968478940327755, 0.5924442141557927, 0.6010390230451919, 0.5948652438664838, 0.597657163156696, 0.5972578075748252, 0.5996970950505314, 0.5886170881130522, 0.596917602920802, 0.5988874937099703, 0.59364707933158, 0.5981633860843496, 0.5957503667723447, 0.6032073036038953, 0.5994691799870322, 0.5963470023419234, 0.5925433581992329, 0.5933102357712421, 0.5979682549864462, 0.596443719589538, 0.6007085986475661, 0.5972567624529108, 0.5987879677006638, 0.5932736414351981, 0.5936414217056775, 0.6017158493482041, 0.5940486036721174, 0.5965549016043362, 0.5989013731918649, 0.593006704510691, 0.591379726298457, 0.5929916456081002, 0.5963613100177192, 0.5961169479786059, 0.5958007639307698, 0.591136543548395, 0.5985330097461542, 0.5952732116647041, 0.5982223723297939, 0.6009968124528258, 0.5913613658151878, 0.5900283035887564, 0.5948094397165862, 0.5895028858719402, 0.5945213848723029, 0.5988746078903895, 0.5953169278789812, 0.590871163633533, 0.5957848081336641, 0.5893453542350131, 0.6049116147203857, 0.5914946820216564, 0.5952188855352499, 0.5948705293708283, 0.5955439849742792, 0.5995573847980239, 0.5955982350951016, 0.5952928613062941, 0.591408448370821, 0.596880028193958, 0.5988250729115009, 0.5965332774647479, 0.5915852926997033, 0.5944302095673091, 0.5985624578965612, 0.595526306694505, 0.5957486640271852, 0.5909155341505122, 0.5978913188420428, 0.5983066530487335, 0.5967946632692023, 0.600498308874268, 0.5955515377590697, 0.5944012591367378, 0.5954663566699645, 0.5978353908668604]\n",
            "Les coordonnées de la droite à l'époque 12: [-1.1976617246958863, -1.2094229595208843, -1.1779490227258733, -1.1499551965462567, -1.2097887349618142, -1.2024831287484639, -1.1130384502066442, -1.1666229700364232, -1.2134988320531106, -1.1785578413031055, -1.2413852851519842, -1.2170241967910695, -1.1884701098745671, -1.2409662983583394, -1.2679788001348906, -1.216528169472172, -1.238338158966276, -1.201547305783858, -1.2190599235596535, -1.2436588635849752, -1.1315916677453182, -1.219130564421198, -1.177884055893677, -1.2719712856001633, -1.2121474847162514, -1.1660241718925226, -1.2560445798558613, -1.1913815806554549, -1.2206236169519935, -1.216440841876354, -1.2419894790279922, -1.1259395752333072, -1.2128776024675103, -1.233509867217791, -1.1786227549724582, -1.2259257004600945, -1.2006521911028338, -1.2787547416506406, -1.2396023396207998, -1.206901239577332, -1.167062587912293, -1.1750947190252188, -1.223881934127924, -1.207914237795139, -1.2525837770086898, -1.216429895466457, -1.232467450559549, -1.174711436848477, -1.1785634980653654, -1.2631335309543112, -1.1828282452175025, -1.2090787372574456, -1.2336552382945145, -1.1719155898257168, -1.1548749267583376, -1.1717578657189753, -1.2070510954762512, -1.2044916935471548, -1.2011800414390073, -1.152327876480439, -1.2297970690101938, -1.1956545584615084, -1.226543511274441, -1.255602474069207, -1.1546826225180047, -1.1407203800751402, -1.190797098509955, -1.1352172539640648, -1.1877800663767366, -1.2333749035728108, -1.1961124338482085, -1.1495483372831663, -1.2010129234282025, -1.1335672972976873, -1.2966053749779445, -1.156078951330996, -1.1950855568234906, -1.1914369400315044, -1.1984905870582132, -1.2405261801822318, -1.1990587925961511, -1.195860365103057, -1.1551757563294216, -1.2124840518623579, -1.2328560835425604, -1.2088522500961085, -1.1570279904903986, -1.186825113421138, -1.2301055033858166, -1.198305428088672, -1.2006343568710434, -1.1500130657130132, -1.2230761194558986, -1.2274262516355137, -1.211589955733966, -1.2503812415682396, -1.1985696935022134, -1.1865218920692413, -1.197677522833768, -1.2224903403877136, 0.5946320390912834, 0.5958474225692261, 0.5925949662297643, 0.5897021378550783, 0.5958852211026417, 0.595130273750584, 0.5858872320030846, 0.5914245536401096, 0.5962686154292934, 0.5926578803753316, 0.5991503480754908, 0.59663291986841, 0.5936821952223644, 0.599107050782813, 0.601898470973432, 0.5965816613554251, 0.5988354638922889, 0.5950335675980089, 0.5968432879732013, 0.5993852953156729, 0.5878044859644839, 0.5968505878645193, 0.5925882526817703, 0.6023110467737304, 0.5961289697840346, 0.5913626749869283, 0.6006652115100269, 0.5939830610358826, 0.5970048770530808, 0.5965726370889509, 0.5992127843132925, 0.5872204095509851, 0.596204418753895, 0.5983365174716868, 0.5926645884295793, 0.5975527842065645, 0.5949410681614813, 0.6030120361281451, 0.5989661018995648, 0.5955868328606627, 0.5914699829093054, 0.5923000079528128, 0.5973415853086719, 0.5956915141560734, 0.6003075787730352, 0.5965715059079201, 0.5982287961309931, 0.5922604003068525, 0.5926584649343078, 0.6013977701375178, 0.5930991757358042, 0.5958118512998867, 0.5983515398402941, 0.5919714828310196, 0.5902105333513564, 0.5919551839239524, 0.595602318682205, 0.5953378349894363, 0.5949956152041139, 0.5899473260545623, 0.5979528440168507, 0.5944246223773889, 0.5976166275926906, 0.6006195251448965, 0.5901906609995227, 0.5887478296104226, 0.5939226617705536, 0.5881791470994485, 0.5936108874490902, 0.5983225705871401, 0.5944719383427811, 0.5896600937981773, 0.5949783455489952, 0.5880086437380689, 0.6048566863829553, 0.5903349549443625, 0.5943658228380496, 0.5939887817677617, 0.5947176921401045, 0.599061569813549, 0.5947764094119865, 0.5944458900414997, 0.5902416205029875, 0.5961637499882122, 0.5982689567190237, 0.5957884465504747, 0.5904330268331921, 0.5935122044398896, 0.5979847170344155, 0.5946985581668678, 0.59493922520613, 0.5897081179439215, 0.5972583139640185, 0.5977078482906978, 0.5960713558069627, 0.6000799729796181, 0.5947258668484975, 0.593480870126211, 0.5946336716405907, 0.5971977806771832]\n",
            "Les coordonnées de la droite à l'époque 13: [-1.1943275407878164, -1.2069870981079103, -1.1731091836819039, -1.142977190536392, -1.2073808114577103, -1.1995172034274235, -1.1032407450600756, -1.1609180476858993, -1.211374285568996, -1.1737645037899276, -1.2413907044835255, -1.2151689174795475, -1.1844338709116407, -1.2409397155006991, -1.2700154307370406, -1.214635003620216, -1.238110838960601, -1.19850990235418, -1.2173601329512564, -1.2438379387172136, -1.123211056374989, -1.2174361693580769, -1.1730392546864938, -1.2743128620314004, -1.2099197223938807, -1.1602735133713762, -1.257169675343068, -1.1875677196770855, -1.219043261162361, -1.2145410059472392, -1.2420410466558895, -1.1171272573352664, -1.2107056065004402, -1.2329137625432367, -1.1738343755619187, -1.224750317528931, -1.1975464188610696, -1.2816144380969363, -1.2394715776667853, -1.204272769328183, -1.161391243551922, -1.1700368684152629, -1.222550448432193, -1.2053631402963931, -1.253444536557114, -1.2145292234511322, -1.231791726155664, -1.1696243111660938, -1.1737705926153903, -1.2648000801522146, -1.1783610809298852, -1.2066165841661605, -1.2330702370551265, -1.1666149174953189, -1.148272689482375, -1.1664451464296302, -1.204434071212751, -1.2016791822994128, -1.1981145863780565, -1.1455310956387008, -1.2289173810045297, -1.1921670673024087, -1.225415316700665, -1.2566938015397664, -1.1480656970543164, -1.1330370192706878, -1.1869385948161653, -1.1271135646777406, -1.183691121927871, -1.232768490382177, -1.1926599151869752, -1.1425392553842635, -1.1979347039024082, -1.1253375844082811, -1.3008285018555024, -1.1495686773883362, -1.191554605349315, -1.1876273073993553, -1.195219711613625, -1.2404659811215328, -1.195831316660557, -1.192388593444375, -1.1485964964002184, -1.2102819965208405, -1.232210042905403, -1.206372797927396, -1.1505902041086373, -1.1826632297159327, -1.2292493735814813, -1.1950204102117643, -1.1975272224515965, -1.1430394797470504, -1.2216830856780547, -1.2263654807239193, -1.2093196093773584, -1.251073771575987, -1.1953048602036422, -1.1823368483331842, -1.1943445455866357, -1.2210525648355632, 0.5938002654464848, 0.5951079441994551, 0.5916084988579097, 0.5884959913487817, 0.5951486131240689, 0.5943363356578915, 0.584391384516641, 0.5903492060474699, 0.5955611221173789, 0.591676190654707, 0.5986616912970358, 0.5959530915519576, 0.5927782911737005, 0.5986151060416629, 0.6016185045081813, 0.5958979405074061, 0.5983228950541277, 0.5942322857153843, 0.5961794348468359, 0.5989144802477093, 0.5864542332511112, 0.596187289086217, 0.5916012754883081, 0.6020624109935264, 0.595410871890546, 0.5902826283775442, 0.6002915922813308, 0.5931020045028457, 0.5963532948756296, 0.595888230945162, 0.5987288688941238, 0.5858258025295283, 0.5954920503964336, 0.5977860590308205, 0.5916834081133713, 0.596942809671753, 0.5941327619436662, 0.602816632933731, 0.5984634536099624, 0.5948275655113164, 0.5903980851799976, 0.5912911416790585, 0.596715572493992, 0.5949401962227966, 0.5999068011927416, 0.5958870138631245, 0.5976701574153855, 0.5912485262593021, 0.5916768196046367, 0.6010797808406293, 0.5921509976412649, 0.5950696716756176, 0.5978022221864036, 0.5909376686153032, 0.5890429940032147, 0.5909201319819235, 0.5948442273140896, 0.5945596589356167, 0.5941914512462464, 0.5887597989492331, 0.597373249712549, 0.59357709766883, 0.5970115012749135, 0.6002424365292033, 0.5890216125604552, 0.5874692136790431, 0.593037018564334, 0.5868573458609572, 0.5927015683436435, 0.5977710530307203, 0.5936280067717944, 0.5884507544989348, 0.594172870146964, 0.5866738946070669, 0.6048013644926624, 0.5891768640751202, 0.5935138329382542, 0.5931081596626496, 0.5938924229211446, 0.598566171283004, 0.5939555991369366, 0.5935999803827946, 0.5890764418889365, 0.5954482932763493, 0.5977133677672024, 0.595044489587758, 0.5892823834668295, 0.592595391423558, 0.5974075431422516, 0.5938718359288779, 0.5941307790357203, 0.5885024255609156, 0.5966259775882601, 0.5971096492017037, 0.595348882752913, 0.5996619111925845, 0.5939012184105282, 0.5925616776064953, 0.5938020219703154, 0.5965608474507532]\n",
            "Les coordonnées de la droite à l'époque 14: [-1.190996777440451, -1.2045537493486027, -1.1682742869181795, -1.136006287786651, -1.2049753723712837, -1.1965543264794103, -1.0934529929572057, -1.1552189419288286, -1.2092519371020818, -1.1689760615593214, -1.24139616914104, -1.21331556404514, -1.1804017620549647, -1.2409132103126645, -1.2720500537821307, -1.2127438019361412, -1.2378837995034204, -1.195475619538265, -1.215662111072303, -1.2440168836668248, -1.1148389658350721, -1.2157435375712868, -1.1681994007746621, -1.276652122706166, -1.2076942624057976, -1.15452871766783, -1.258293684533843, -1.183757764054347, -1.217464553393058, -1.2126431409272482, -1.2420926129690901, -1.108323896580206, -1.2085358565063102, -1.232318311136549, -1.1690508864229485, -1.2235761733244297, -1.194443836331333, -1.284471295138727, -1.239340998672999, -1.201647006396553, -1.1557256818487576, -1.164984180423166, -1.2212203592314084, -1.2028146719168968, -1.254304476965346, -1.212630523189938, -1.2311167354888677, -1.1645423776889887, -1.1689825820113138, -1.266464995823001, -1.1738984822715486, -1.204156970300736, -1.2324858778617032, -1.1613196531952572, -1.1416771756885833, -1.1611378473461138, -1.201819742698663, -1.1988695643737919, -1.1950522802817931, -1.1387412348983588, -1.2280386328757213, -1.1886831516469576, -1.2242883131617233, -1.2577840768421946, -1.1414555099177008, -1.1253614746068512, -1.1830840415970318, -1.119018116345158, -1.1796063608530765, -1.2321627408779114, -1.1892109366837578, -1.135537308152934, -1.194859646241955, -1.1171162398408132, -1.3050474113511683, -1.1430650339833228, -1.1880272733027972, -1.1838215758493773, -1.1919521927458157, -1.2404058937053066, -1.1926071534391869, -1.1889203814021236, -1.1420239367306857, -1.2080822175323525, -1.2315647060048605, -1.203895902468192, -1.1441589750035641, -1.1785056031022716, -1.228394159844449, -1.1917387632049588, -1.1944232791208882, -1.1360729925740087, -1.220291510599919, -1.2253058327041286, -1.207051608393418, -1.2517656524679872, -1.192043377375238, -1.1781560850958053, -1.1910149876806726, -1.2196162932022623, 0.5929695261766449, 0.5943693305605183, 0.59062335019715, 0.5872915673367036, 0.5944128646003828, 0.5935433623961953, 0.5828977920117955, 0.5892753405329798, 0.5948544347458875, 0.5906958108635743, 0.5981734382246304, 0.5952740183260454, 0.5918755540799048, 0.5981235710500306, 0.6013385581639542, 0.5952149819046284, 0.5978107738737833, 0.5934319821620725, 0.5955163074476751, 0.598444036091686, 0.5851059679076112, 0.5955247150161951, 0.5906156179430228, 0.6018137377467107, 0.594693599429323, 0.5892040724833779, 0.5999181653129259, 0.5922220729296043, 0.5957024158706598, 0.5952045883062282, 0.5982453484661086, 0.5844332644037618, 0.5947804969400149, 0.5972361178910813, 0.59070353679034, 0.5963334618321371, 0.5933254469663035, 0.6026210944280928, 0.5979612347436273, 0.5940691992661085, 0.5893276631877884, 0.5902836352868934, 0.5960902158538062, 0.5941897647821655, 0.5995062657913813, 0.5952032854810752, 0.5971120510367294, 0.5902380176218056, 0.5906964841228644, 0.6007618815529572, 0.5912040678798849, 0.5943283617472468, 0.5972534197368068, 0.5899052601369554, 0.5878771061870722, 0.5898864880522768, 0.5940870348885899, 0.5937824187412424, 0.5933882709151148, 0.5875739601145722, 0.596794226262799, 0.5927306362866082, 0.5964069927410252, 0.599865546550738, 0.5878542184271844, 0.5861924534449326, 0.5921525087484839, 0.5855374796968601, 0.5917934261462567, 0.597220054722144, 0.5927851319227471, 0.5872431435624513, 0.5933683807821799, 0.5853411043494443, 0.6047456498134988, 0.588020407371019, 0.5926629145720789, 0.592228661718829, 0.5930681761216275, 0.5980711888502442, 0.5931358030855293, 0.5927551310818702, 0.587912910467717, 0.5947336571421054, 0.597158305546688, 0.5943014055877918, 0.5881333605766613, 0.5916797690895337, 0.59683093565578, 0.5930461387810649, 0.5933233243630043, 0.5872984548374229, 0.5959943090100716, 0.5965120551639459, 0.5946272431729305, 0.599244123353869, 0.5930775912509699, 0.5916436801427535, 0.5929714064471263, 0.5959245904711741]\n",
            "Les coordonnées de la droite à l'époque 15: [-1.1876694311258131, -1.2021229106405085, -1.1634443273554764, -1.1290424810148991, -1.2025724151288655, -1.1935944947558565, -1.0836751837108187, -1.1495256467947086, -1.207131784370657, -1.164192509579973, -1.2414016790372782, -1.2114641344835566, -1.1763737790532487, -1.240886782674015, -1.2740826712756286, -1.2108545623766227, -1.237657040267698, -1.1924444541139025, -1.2139658560786994, -1.2441956985254736, -1.1064753873983557, -1.2140526672222933, -1.1633644890738457, -1.2789890699441075, -1.2054711023639497, -1.148789778764261, -1.2594166084945175, -1.179951709765061, -1.2158874919230422, -1.2107472447661844, -1.24214417792789, -1.0995294837961354, -1.2063683501545226, -1.23172351229074, -1.1642722825293417, -1.222403266542784, -1.191344440220975, -1.2873253156294686, -1.239210602411887, -1.199023947981548, -1.1500658968668924, -1.1599366497450911, -1.2198916650609337, -1.2002688299354716, -1.2551635990273762, -1.210733792631816, -1.2304424777701422, -1.1594656310831637, -1.164199461222267, -1.2681282795908506, -1.1694404445472282, -1.2016998930316312, -1.2319021600186963, -1.1560297913715207, -1.135088378481975, -1.1558359629020034, -1.1992081071448852, -1.1960628367797839, -1.1919931198991063, -1.1319582871639902, -1.2271608236246105, -1.1852028078092285, -1.2231624994024266, -1.2588733010080322, -1.1348520541980371, -1.1176937380747825, -1.1792334347843816, -1.1109309005244126, -1.1755257788467612, -1.2315576543424056, -1.185765494688661, -1.1285424882750261, -1.1917877471825808, -1.1089032550235394, -1.309262107723114, -1.1365680143157157, -1.1845035569532352, -1.1800197413637477, -1.1886880269920337, -1.2403459177786986, -1.189386299514003, -1.1854557253065723, -1.1354580704495085, -1.2058847125353267, -1.230920072082497, -1.2014215610711325, -1.1377342964496215, -1.1743522291994146, -1.2275398611998332, -1.1884604835909331, -1.1913225235848663, -1.1291135969163069, -1.2189013926934436, -1.2242473063904173, -1.2047859503502187, -1.2524568848649076, -1.1887852415604743, -1.1739795979525032, -1.1876888455891448, -1.2181815239136662, 0.5921398200708053, 0.593631580676088, 0.5896395186432685, 0.5860888636561649, 0.593677974562553, 0.592751352850722, 0.5814064515893987, 0.5882029552664737, 0.5941485524198034, 0.5897167394098625, 0.5976855885195792, 0.5945956993659867, 0.590973982546651, 0.5976324454608619, 0.6010586321325823, 0.5945327847125098, 0.5972990999517716, 0.5926326558046305, 0.5948539049916439, 0.5979739625542639, 0.5837596874049614, 0.5948628648717877, 0.5896312784404018, 0.6015650273047628, 0.5939771514783909, 0.5881270054623181, 0.5995449305585623, 0.5913432649799144, 0.595052239285291, 0.5945217083358253, 0.5977622227026046, 0.5830427925319068, 0.5940697574772296, 0.5966866935566632, 0.5897249728697097, 0.5957247400406107, 0.5925191220780934, 0.6024254210180364, 0.5974594449262949, 0.5933117330984041, 0.5882587151112824, 0.5892774871151591, 0.5954655147002361, 0.5934402188277542, 0.5991059724536629, 0.5945203199252292, 0.596554476478423, 0.5892288727255581, 0.5897174568970326, 0.6004440723696725, 0.5902583849447856, 0.5935879205315794, 0.5967051319985979, 0.588874255671396, 0.5867128678383958, 0.5888542504072853, 0.5933307403820611, 0.5930061133316095, 0.5925860730699496, 0.5863898074352342, 0.5962157730977261, 0.591885236979723, 0.5958031013562441, 0.5994888551544308, 0.586688476531341, 0.584917546561182, 0.5912691309750995, 0.5842195461504637, 0.5908864594488376, 0.5966695751629127, 0.5919433125537734, 0.5860372588179311, 0.5925648763105396, 0.584010270475592, 0.6046895431083815, 0.5868655827915458, 0.5918130664771721, 0.5913502866011604, 0.5922449505471303, 0.5975766221594353, 0.5923170200746769, 0.591911340891832, 0.5867510241807975, 0.5940198406702202, 0.5966037695486318, 0.5935591935628629, 0.5869859561411072, 0.5907653360106735, 0.5962548940112794, 0.5922214655253121, 0.592516860036326, 0.5860962036119188, 0.5953633075254989, 0.5959150655602532, 0.593906436133918, 0.5988266093042408, 0.5922549841769778, 0.5907268763017934, 0.5921418238603803, 0.5952890090228058]\n",
            "Les coordonnées de la droite à l'époque 16: [-1.1843454983195794, -1.1996945793838785, -1.1586192999198166, -1.1220857629465075, -1.2001719371594608, -1.1906377051114596, -1.0739073071441871, -1.143838156319198, -1.205013825095385, -1.1594138428257645, -1.241407234085113, -1.2096146267925965, -1.1723499176595984, -1.2408604324646864, -1.2761132852209764, -1.2089672829004663, -1.2374305609267662, -1.189416402862223, -1.2122713661282778, -1.2443743833847636, -1.0981203123466177, -1.2123635564744815, -1.1585345145049593, -1.2813237060625244, -1.2032502398827682, -1.1430566906492543, -1.2605384482903608, -1.176149552791209, -1.2143120750330707, -1.2088533154159884, -1.242195741492659, -1.0907440098205101, -1.2042030851169048, -1.2311293652995805, -1.1594985588600837, -1.221231595881558, -1.1882482272407588, -1.2901765024197218, -1.239080388656161, -1.1964035912851818, -1.1444118826765441, -1.1548942710826782, -1.218564364457669, -1.197725611633765, -1.2560219035364133, -1.2088390297278468, -1.2297689522113113, -1.1543940660201275, -1.1594212252225773, -1.2697899330783093, -1.1649869630665115, -1.199245349732037, -1.2313190828313048, -1.1507453264758312, -1.128506290974671, -1.1505394875366217, -1.196599161765212, -1.1932589965299831, -1.1889371019822546, -1.1251822453474878, -1.2262839522530975, -1.181726032107111, -1.2220378741689064, -1.2599614750677934, -1.1282553229923291, -1.1100338016738855, -1.1753867703142493, -1.1028519087822968, -1.1714493716077854, -1.2309532300588204, -1.1823235855555694, -1.1215547884439272, -1.1887190034634074, -1.100698621393546, -1.3134725952251736, -1.130077611592287, -1.1809834525737875, -1.1762217999288007, -1.1854272108931145, -1.2402860531870457, -1.1861687514705086, -1.1819946214917891, -1.128898890692457, -1.2036894791706525, -1.230276140380688, -1.1989497710916042, -1.1313161617281877, -1.170203103631151, -1.2266864766737806, -1.185185567895967, -1.1882249525528923, -1.1221612855038654, -1.2175127304321811, -1.2231899005983111, -1.2025226328183634, -1.253147469386811, -1.1855304493064052, -1.1698073825032305, -1.1843661157889709, -1.2167482553972786, 0.5913111459193762, 0.5928946935709145, 0.5886570025939034, 0.5848878781470317, 0.5929439420426178, 0.591960305907947, 0.5799173603537577, 0.5871320484199203, 0.5934434742450878, 0.5887389747033404, 0.5971981418434759, 0.593918133847985, 0.590073575181208, 0.5971417289274026, 0.6007787266055299, 0.5938513480973707, 0.5967878728889728, 0.5918343055108879, 0.5941922266955073, 0.5975042593423376, 0.5824153892171384, 0.5942017378711676, 0.5886482553767886, 0.6013162799386969, 0.5932615271167859, 0.5870514254744024, 0.5991718879719174, 0.5904655793190554, 0.594402764367445, 0.5938395901985335, 0.5972794912772441, 0.5816543842753231, 0.5933598311016612, 0.5961377855322435, 0.5887477147625422, 0.5951166436507381, 0.5917137861290303, 0.6022296131097352, 0.5969580837840341, 0.5925551659827091, 0.5871912391312074, 0.5882726955046224, 0.5948414683461244, 0.5926915573542522, 0.598705921064308, 0.5938381163599491, 0.5959974332243738, 0.5882210899036894, 0.5887397363370229, 0.6001263533856985, 0.5893139473308224, 0.5928483470465074, 0.5961573584793507, 0.5878446534960478, 0.5855502768950767, 0.5878234173212294, 0.5925753427719945, 0.5922307416332139, 0.5917848565712625, 0.5852073387983605, 0.595637889648031, 0.5910408984985921, 0.5951998264864448, 0.5991123622851504, 0.5855243848069843, 0.5836444906836555, 0.5903868838978141, 0.5829035427679835, 0.5899806668449058, 0.5961196138550149, 0.5911025474244141, 0.5848330980971338, 0.5917623555892249, 0.5826813904988501, 0.6046330451391545, 0.5857123882985813, 0.5909642873926143, 0.590473032976026, 0.5914227450045779, 0.5970824708550535, 0.591499248922626, 0.5910686085671981, 0.5855907809720629, 0.5933068429464357, 0.5960497592646848, 0.5928178525263506, 0.5858401681409573, 0.58985209076147, 0.5956794176455958, 0.5913978149648551, 0.5917113849053247, 0.5848956697254226, 0.5947329724313293, 0.5953186797740883, 0.593186460703803, 0.5984093688845366, 0.5914333959970528, 0.589811264652066, 0.5913132730008022, 0.5946541023907639]\n",
            "Les coordonnées de la droite à l'époque 17: [-1.1810249755010764, -1.1972687529816648, -1.1537991995424624, -1.1151361263143469, -1.1977739358947463, -1.187683954404177, -1.064149353091061, -1.1381564645441093, -1.202898056999301, -1.15464005627577, -1.2414128341975397, -1.2077670389721464, -1.1683301736315108, -1.24083415956477, -1.2781418976195933, -1.2070819614686055, -1.2372043611543253, -1.1863914625676928, -1.2105786393807931, -1.244552938336237, -1.0897737319706164, -1.210676203493154, -1.1537094719941634, -1.2836560333763705, -1.2010316725791659, -1.1373294473175988, -1.2616592049855817, -1.17235128911893, -1.2127383010056974, -1.2069613508307355, -1.2422473036238406, -1.0819674655002227, -1.2020400590677063, -1.230535869457599, -1.154729710399346, -1.2200611600396856, -1.1851551941048566, -1.293024858357154, -1.2389503571787992, -1.193785933512372, -1.1387636333540492, -1.149857039143037, -1.2172384559600478, -1.1951850142962466, -1.256879391284885, -1.2069462324312459, -1.2290961580250412, -1.1493276771768905, -1.1546478689917623, -1.2714499579062906, -1.1605380331438326, -1.1967933377778732, -1.230736645605473, -1.1454662529656374, -1.121930906285895, -1.1452484156950313, -1.1939929037763295, -1.1904580406400826, -1.1858842232868627, -1.1184131023680517, -1.2254080177641398, -1.1782528208623064, -1.220914436208614, -1.2610486000509682, -1.1216653094046984, -1.102381657411809, -1.1715440441268736, -1.0947811326942913, -1.167377134839456, -1.2303494673110853, -1.1788852056421413, -1.1145742013605566, -1.185653411826935, -1.09250233039674, -1.3176788781068485, -1.1235938190268138, -1.1774669564414713, -1.1724277475350224, -1.1821697409934764, -1.2402262997758764, -1.1829545058977438, -1.1785370662956378, -1.1223463906023792, -1.2014965150816734, -1.2296329101426196, -1.1964805298877401, -1.1249045641275688, -1.1660582220257945, -1.2258340052934704, -1.1819140126499383, -1.1851305627377375, -1.1152160510740996, -1.2161255222912843, -1.222133614144584, -1.200261653370981, -1.253837406653157, -1.1822789971636614, -1.165639434352488, -1.1810467947607184, -1.21531648608225, 0.590483502514134, 0.5921586682708251, 0.5876758004485454, 0.5836886086517129, 0.5922107660736835, 0.5911702204555938, 0.5784305154126319, 0.5860626181674198, 0.5927391993286786, 0.5877625151556141, 0.5967110978582032, 0.5932413209491335, 0.5891743305924375, 0.5966514211031974, 0.6004988417738953, 0.5931706712264332, 0.5962770922866315, 0.591036930149945, 0.5935312717768697, 0.5970349261630346, 0.5810730708211137, 0.5935413332333447, 0.587666547150381, 0.6010674959190622, 0.5925467254245536, 0.5859773306818149, 0.5987990375065966, 0.589589014613828, 0.5937539903658436, 0.5931582330598371, 0.5967971538639334, 0.5802680369985046, 0.592650716907885, 0.5955893933229831, 0.5877717608817354, 0.5945091720167539, 0.5909094379704015, 0.6020336711087304, 0.5964571509432469, 0.5917994968946678, 0.5861252334304123, 0.5872692587979724, 0.5942180761050343, 0.5919437793574628, 0.5983061115080512, 0.5931566739505011, 0.5954409207589985, 0.5872146674912616, 0.587763320854554, 0.599808724695712, 0.5883707535345836, 0.5921096403110078, 0.5956100986871189, 0.586816451890335, 0.5843893312974269, 0.5867939870703948, 0.5918208410370169, 0.5914563025737497, 0.5909846202808452, 0.5840265520935768, 0.5950605753449891, 0.5901976195950492, 0.5945971674981559, 0.598736067887704, 0.5843619411905997, 0.5823732834709877, 0.5895057661717974, 0.5815894670985409, 0.5890760469295915, 0.5955701703009254, 0.5902628352956147, 0.5836306592343717, 0.5909608174767018, 0.5813544619355059, 0.6045761566665894, 0.5845608218563982, 0.590116576058916, 0.5895968995113283, 0.5906015583022414, 0.5965887345818853, 0.5906824884489549, 0.590226932863898, 0.584432178787812, 0.5925946630574954, 0.5954962741869974, 0.5920773814927247, 0.5846959945593704, 0.5889400319180497, 0.5951045059961425, 0.5905751859042804, 0.5909068978209329, 0.5836968510214947, 0.59410330302509, 0.5947228971895467, 0.5924673159515361, 0.5979924019356601, 0.5906128255210406, 0.5888968437636634, 0.590485752660483, 0.5940198698609186]\n",
            "Les coordonnées de la droite à l'époque 18: [-1.1777078591532772, -1.1948454288395174, -1.1489840211599112, -1.108193563858779, -1.1953784087690675, -1.1847332394952246, -1.0544013113956572, -1.132480565517403, -1.2007844778078107, -1.1498711449142487, -1.2414184792876757, -1.2059213690241795, -1.16431454273087, -1.2408079638545135, -1.2801685104708764, -1.205198596044099, -1.2369784406244437, -1.1833696300181114, -1.2088876739979224, -1.2447313634713753, -1.0814356375700818, -1.2089906064455294, -1.1488893564728588, -1.2859860541982568, -1.1988153980725333, -1.1316080427702784, -1.2627788796433297, -1.1685569147385153, -1.2111661681252721, -1.2050713489666338, -1.2422988642819517, -1.0731998416915922, -1.1998792696835965, -1.2299430240600804, -1.1499657321364807, -1.2188919577174686, -1.1820653375308452, -1.2958703862865433, -1.2388205077530459, -1.191170971870938, -1.1331211429818562, -1.1448249486387427, -1.2159139381080375, -1.1926470352102065, -1.2577360630644383, -1.2050553986973627, -1.2284240944248388, -1.1442664592359595, -1.1498793875145255, -1.273108355694077, -1.1560936500984675, -1.1943438545477856, -1.2301548476478903, -1.1401925653041098, -1.115362217541965, -1.139962741828029, -1.1913893303978134, -1.1876599661288714, -1.1828344805719182, -1.111650851152182, -1.2245330191617507, -1.174783170400324, -1.219792184270319, -1.2621346769860227, -1.1150820065463765, -1.0947372973044365, -1.1677052521666926, -1.0867185638445558, -1.1633090642495225, -1.2297463653838976, -1.175450351309807, -1.1076007197333577, -1.1825909690190408, -1.084314373487841, -1.3218809606133115, -1.1171166298400705, -1.1739540648371571, -1.168637580177047, -1.1789156138411172, -1.2401666573909107, -1.1797435593882823, -1.1750830560597731, -1.1158005633291932, -1.1993058179141847, -1.2289903806122868, -1.1940138348204181, -1.1184994969429922, -1.1619175800161778, -1.2249824460871133, -1.1786458143863188, -1.1820393508555798, -1.108277886371911, -1.2147397667475035, -1.221078445847257, -1.1980030095837237, -1.2545266972828022, -1.1790308816864465, -1.161475749109321, -1.1777308789885996, -1.2138862143993758, 0.5896568886482206, 0.5914235038027226, 0.5866959106085354, 0.5824910530151571, 0.5914784456899229, 0.5903810953826322, 0.5769459138772292, 0.5849946626852017, 0.5920357267784887, 0.5867873591801254, 0.5962244562259328, 0.5925652598474137, 0.5882762473907932, 0.5961615216420901, 0.6002189778284108, 0.5924907532678199, 0.5957667577463559, 0.5902405285921717, 0.592871039454174, 0.5965659627237146, 0.5797327296968506, 0.5928816501781659, 0.5866861521612289, 0.6008186755159438, 0.5918327454827481, 0.5849047192488838, 0.5984263791161327, 0.5887135695325526, 0.593105916530009, 0.592477636086123, 0.5963152101368527, 0.578883748069076, 0.5919424139914665, 0.5950415164345252, 0.5867971096420215, 0.5939023244935618, 0.5901060764547863, 0.6018375954199318, 0.5959566460306678, 0.5910447248110626, 0.5850606961938644, 0.5862671753398196, 0.5935953372912487, 0.5911968838343021, 0.5979065436696404, 0.5924759918630547, 0.5948849385672215, 0.586209603825267, 0.58678820886318, 0.5994911863941427, 0.5874288020543873, 0.5913717993451418, 0.5950633521304352, 0.5857896491356812, 0.5832300289881773, 0.5857659579330697, 0.591067234156889, 0.5906827950821082, 0.5901853630617682, 0.5828474452129898, 0.5944838296204499, 0.5893553990223427, 0.5939951237585609, 0.5983599719068373, 0.5832011436210959, 0.5811039225845799, 0.5886257764537529, 0.5802773166941596, 0.588172598299633, 0.595021244003605, 0.589424174929724, 0.5824299400665067, 0.5901602608327192, 0.5800294823047891, 0.6045188784503872, 0.583410881431658, 0.5892699312180162, 0.5887218848764881, 0.5897813892497368, 0.5960954129850271, 0.5898667374745731, 0.5893863125392705, 0.5832752155767548, 0.591883300091143, 0.5949433138082183, 0.5913377794775451, 0.5835534333818706, 0.5880291580581705, 0.5945301585008993, 0.5897535771495237, 0.590103397635375, 0.5824997453462338, 0.5934742986050479, 0.5941277171913568, 0.5917490009470905, 0.5975757082985823, 0.5897932715601292, 0.5879836122083171, 0.5896592616328785, 0.5933863107198941]\n",
            "Les coordonnées de la droite à l'époque 19: [-1.174394145762797, -1.1924246043657818, -1.14417375971389, -1.101258068327649, -1.1929853532194359, -1.1817855572490716, -1.044663171912648, -1.126810453293181, -1.1986730852486862, -1.145107103730641, -1.2414241692687602, -1.2040776149527515, -1.1603030207239429, -1.2407818452143202, -1.2821931257722043, -1.203317184592129, -1.2367527990115568, -1.180350902004608, -1.207198468143262, -1.2449096588815982, -1.0731060204537055, -1.2073067635007404, -1.1440741628776807, -1.2883137708384536, -1.1966014139847378, -1.125892471014467, -1.263897473325696, -1.164766425644404, -1.2095956746779382, -1.2031833077820218, -1.2423504234275822, -1.0644411292603548, -1.197720714643662, -1.229350828403066, -1.1452066190660153, -1.2177239876165757, -1.1789786542397034, -1.2987130890497804, -1.2386908401524104, -1.1885587035715979, -1.12748440564852, -1.1397979942878302, -1.2145908094431364, -1.1901116716657514, -1.2585919196659405, -1.2031665264836775, -1.227752760625051, -1.1392104068853308, -1.1451157757807502, -1.2747651280593224, -1.1516538092545285, -1.1918968974231428, -1.2295736882659911, -1.134924257960134, -1.1088002178762866, -1.1346824603921393, -1.1887884388521257, -1.1848647700182304, -1.1797878705997673, -1.1048954846336716, -1.223658955450999, -1.1713170770504768, -1.218671117104108, -1.2632197069003999, -1.108505407535698, -1.0871007133758785, -1.1638703903823393, -1.0786641938259198, -1.1592451555501728, -1.2291439235627213, -1.1720190189237631, -1.10063433627829, -1.179531671788974, -1.0761347421303713, -1.3260788469854115, -1.1106460372598224, -1.1704447740455655, -1.1648512938536522, -1.1756648259876101, -1.2401071258780598, -1.1765359085382283, -1.1716325871296374, -1.1092614020298805, -1.19711738531643, -1.228348551034494, -1.1915496832532568, -1.1121009534765993, -1.157781173239649, -1.2241317980839497, -1.1753809696421706, -1.1789513136260001, -1.1013467841496798, -1.213355462279185, -1.2200243945255973, -1.1957466990347656, -1.2552153418940009, -1.1757860994325335, -1.157316322387314, -1.1744183649604678, -1.212457438781095, 0.5888313031161417, 0.5906891991945842, 0.5857173314770631, 0.5812952090848496, 0.5907469799265742, 0.5895929295792772, 0.5754635528622021, 0.5839281801516227, 0.5913330557034054, 0.5858135051921493, 0.5957382166091247, 0.5918899497216947, 0.5873793241883183, 0.5956720301982238, 0.5999391349594432, 0.5918115933905533, 0.5952568688701178, 0.589445099709206, 0.5922115289467003, 0.5960973687319708, 0.5783943633273008, 0.5922226879263137, 0.5857070688112321, 0.6005698189989632, 0.5911195863734313, 0.5838335893420789, 0.5980539127539869, 0.587839242745068, 0.5924585421102622, 0.5917977984446804, 0.595833659770456, 0.5775015148577897, 0.5912349214489612, 0.5944941543729952, 0.585823759459964, 0.5932961004367344, 0.5893037004360536, 0.601641386447619, 0.5954565686733636, 0.5902908487098122, 0.5839976256086468, 0.5852664434766929, 0.5929732512197693, 0.5904508697827979, 0.5975072174338362, 0.5917960692646815, 0.5943294861344753, 0.5852058972446259, 0.5858143987782883, 0.599173738575174, 0.5864880913902804, 0.5906348231700537, 0.5945171183183106, 0.5847642435155064, 0.5820723679124746, 0.5847393281895434, 0.5903145211125042, 0.5899102180883763, 0.5893870837783788, 0.5816700160511848, 0.593907651906836, 0.5885142355351338, 0.5933936946354962, 0.5979840742872354, 0.582041990039802, 0.5798364056885975, 0.5877469134019168, 0.5789670891097627, 0.5872703195533755, 0.5944728344665, 0.5885865650904926, 0.5812309384329476, 0.5893606845183071, 0.5787064491288697, 0.6044612112491797, 0.5822625649934082, 0.588424351613281, 0.5878479877424431, 0.5889622366580233, 0.5956025057098848, 0.5890519948217191, 0.5885467463520624, 0.5821198892900097, 0.5911727531361214, 0.5943908776214949, 0.5905990454974598, 0.5824124825963448, 0.5871194677612209, 0.5939563745984117, 0.5889329875078688, 0.5893008832021663, 0.5813043505482739, 0.5928459584702085, 0.5935331391648783, 0.5910315147614604, 0.5971592878143418, 0.5889747329268482, 0.5870715685593964, 0.5888337987128079, 0.5927534242550677]\n",
            "Les coordonnées de la droite à l'époque 20: [-1.1710838318198897, -1.1900062769714963, -1.1393684101513495, -1.0943296324762775, -1.190594766685526, -1.1788409045334385, -1.0349349245071506, -1.1211461219316803, -1.1965638770520648, -1.140347927719562, -1.2414299040541545, -1.2022357747639996, -1.1562956033813736, -1.2407558035247488, -1.2842157455189385, -1.2014377250799992, -1.2365274359904666, -1.1773352753216373, -1.2055110199823256, -1.245087824658265, -1.0647848719391322, -1.205624672829831, -1.139263886150494, -1.2906391856048927, -1.1943897179401202, -1.1201827260635222, -1.2650149870937144, -1.1609798178351787, -1.2080268189516306, -1.2012972252373657, -1.2424019810213955, -1.055691319081654, -1.1955643916294039, -1.2287592817833528, -1.140452366187647, -1.2165572484400409, -1.1758951409558078, -1.301552969485873, -1.2385613541506675, -1.1859491258279646, -1.1218534154486952, -1.1347761708137873, -1.2132690685083722, -1.1875789209558019, -1.2594469618794801, -1.2012796137498, -1.2270821558408636, -1.1341595148184858, -1.1403570287854947, -1.276420276618053, -1.1472185059409599, -1.1894524637880337, -1.228993166767953, -1.1296613254083046, -1.1022449004293446, -1.129407565849609, -1.186190226364612, -1.1820724493331305, -1.176744390136112, -1.0981469957535976, -1.2227858256380069, -1.1678545371458782, -1.2175512334613832, -1.2643036908205214, -1.1019355054980926, -1.0794718976584647, -1.1600394547266375, -1.070618014239874, -1.155185404458028, -1.2285421411337867, -1.16859120485297, -1.0936750437188212, -1.1764755168893526, -1.0679634277966468, -1.3302725414596772, -1.1041820345208173, -1.1669390803552626, -1.1610688845677546, -1.1724173739881003, -1.2400477050834258, -1.1733315499472112, -1.1681856558544566, -1.1027288998684786, -1.1949312149391, -1.227707420654853, -1.1890880725526138, -1.1057089270374385, -1.153648997338066, -1.2232820603142491, -1.1721194749581432, -1.1758664477719791, -1.0944227371672575, -1.2119726073662693, -1.2189714590001168, -1.193492719304798, -1.2559033411044054, -1.1725446469632608, -1.1531611498045855, -1.1711092491678137, -1.2110301576614875, 0.5880067447137649, 0.5899557534754606, 0.5847400614591641, 0.5801010747108093, 0.59001636781994, 0.5888057219369877, 0.5739834294856436, 0.5828631687471637, 0.5906311852132893, 0.5848409516087923, 0.5952523786705273, 0.5912153897517324, 0.5864835595986437, 0.5951829464260395, 0.5996593133569942, 0.591133190764555, 0.5947474252602517, 0.5886506423739527, 0.5915527394745654, 0.5956291438956283, 0.5770579691984007, 0.5915644456993056, 0.5847292955041384, 0.6003209266372788, 0.5904072471796713, 0.5827639391300091, 0.5976816383735485, 0.5869660329227293, 0.5918118663577223, 0.5911187193036991, 0.5953525024394705, 0.5761213347385215, 0.5905282383779126, 0.5939473066450005, 0.5848517087539565, 0.5926904992025122, 0.5885023087693614, 0.6014450445954419, 0.5949569184987332, 0.5895378675699705, 0.5829360198639567, 0.5842670615570373, 0.5923518172063161, 0.5897057362020883, 0.5971081326854127, 0.5911169053233546, 0.5937745629466998, 0.5842035460901847, 0.5848418890170978, 0.5988563813327437, 0.585548620044036, 0.5898987108079692, 0.5939713967602346, 0.5837402333152251, 0.5809163460178784, 0.5837140961221035, 0.5895627008858876, 0.5891385705238353, 0.5885897812963002, 0.5804942625052226, 0.5933320416371434, 0.5876741278894955, 0.5927928794974513, 0.5976083749735223, 0.580884478390465, 0.5785707304499665, 0.5868691756760558, 0.577658781903169, 0.5863692092907691, 0.5939249411935418, 0.5877500045430712, 0.580033652175647, 0.5885620873957754, 0.5773853599328538, 0.6044031558205306, 0.5811158705130802, 0.587579835989502, 0.5869752067816457, 0.5881440993394019, 0.5951100124021739, 0.5882382593139596, 0.5877082330624268, 0.5809661978811007, 0.5904630212821717, 0.5938389651204721, 0.5898611785702043, 0.5812731401930403, 0.5862109596082178, 0.5933831537277905, 0.5881134157879456, 0.588499353376111, 0.5801106644787815, 0.5922182819203154, 0.5929391624961021, 0.5903148564666602, 0.5967431403240442, 0.5881572084350671, 0.5861607113919061, 0.5880093626964521, 0.5921212097545691]\n",
            "Les coordonnées de la droite à l'époque 21: [-1.1677769138184437, -1.1875904440703886, -1.1345679674244595, -1.0874082490674535, -1.188206646609673, -1.1758992782192932, -1.0252165590547169, -1.1154875654992664, -1.194456850950446, -1.1355936118807968, -1.2414356835573412, -1.20039584646614, -1.15229228647818, -1.2407298386665135, -1.2862363717044247, -1.1995602154771317, -1.2363023512363422, -1.174322746766977, -1.2038253276825426, -1.2452658608926739, -1.0564721833529496, -1.2039443326057555, -1.1344585212383873, -1.2929623008031703, -1.1921803075654915, -1.1144788019369776, -1.2661314220073627, -1.1571970873135615, -1.206459599236074, -1.1994130992952583, -1.2424535370241283, -1.0469504020400304, -1.1934102983247359, -1.2281683834984913, -1.1357029685062374, -1.2153917388922617, -1.1728147944069298, -1.3043900304309468, -1.2384320495218568, -1.1833422358565442, -1.1162281664831297, -1.1297594729455505, -1.211948713848301, -1.1850487803760896, -1.2603011904943675, -1.1993946584574664, -1.226412279288301, -1.129113777734384, -1.1356031415289862, -1.2780738029846694, -1.1427877354915321, -1.187010551029265, -1.228413282462696, -1.12440376212892, -1.0956962583486975, -1.124138052668401, -1.1835946901634982, -1.1792830011016278, -1.1737040359500066, -1.0914053774603147, -1.2219136287299497, -1.1643955470234373, -1.2164325320948606, -1.2653866297717882, -1.0953722935660786, -1.071850842192734, -1.1562124411565975, -1.0625800166965613, -1.151129806694138, -1.2279410173840892, -1.1651669054701472, -1.0867228347859201, -1.173422501076161, -1.0598004219677681, -1.3344620482683227, -1.0977246148647797, -1.1634369800586564, -1.157290348326406, -1.1691732544013014, -1.239988394853301, -1.1701304802183838, -1.1647422585872358, -1.096203050016073, -1.1927473044353285, -1.227066988719783, -1.1866290000875823, -1.0993234109414576, -1.1495210479577922, -1.2224332318093094, -1.1688613268784684, -1.1727847500198934, -1.0875057381919588, -1.2105912004902903, -1.2179196380925703, -1.1912410679770284, -1.256590695531067, -1.1693065208435287, -1.1490102269837845, -1.1678035281057613, -1.209604369476274, 0.5871832122383185, 0.5892231656754744, 0.5837640989617188, 0.5789086477455865, 0.5892866084073861, 0.5880194713484646, 0.5725055408690838, 0.581799626654428, 0.5899301144189727, 0.5838696968489905, 0.5947669420731767, 0.590541579118168, 0.5855889522369868, 0.594694269980277, 0.5993795132107014, 0.5904555445606438, 0.5942384265194554, 0.5878571554605818, 0.590894670258722, 0.5951612879227443, 0.5757235447990685, 0.5909069227194929, 0.5837528306455415, 0.6000719986995867, 0.5896957269855414, 0.5816957667834205, 0.5973095559281351, 0.5860939387384062, 0.5911658885243061, 0.5904403978322689, 0.5948717378188967, 0.5747432050882675, 0.5898223638768518, 0.5934009727576293, 0.5838809559442203, 0.5920855201478027, 0.5877019003111548, 0.6012485702664219, 0.5944576951345074, 0.5887857803717256, 0.5818758771511026, 0.5832690279312127, 0.5917310345673265, 0.5889614820924205, 0.5967092893091573, 0.5904384992079469, 0.5932201684903416, 0.583202548704713, 0.5838706779986561, 0.5985391147605439, 0.5846103865191519, 0.5891634612821949, 0.5934261869661741, 0.5827176168222442, 0.5797619612543587, 0.5826902600150333, 0.5888117724601947, 0.5883678513209597, 0.5877934544824301, 0.5793201824746369, 0.59275699824494, 0.5868350748429103, 0.5921926777135678, 0.5972328739102609, 0.579728606619247, 0.5773068945383706, 0.585992561937466, 0.57635239263509, 0.5854692661133668, 0.5933775636891461, 0.5869144920540095, 0.5788380791390983, 0.5877644683287124, 0.5760662122447806, 0.6043447129209368, 0.5799707959644858, 0.5867363830928947, 0.5861035406680621, 0.587326976107514, 0.5946179327079186, 0.5874255297761872, 0.5868707714319218, 0.5798141393059548, 0.5897541036200317, 0.5932875757992921, 0.5891241777146001, 0.5801354041645618, 0.5853036321818044, 0.5928104953287114, 0.587294860799729, 0.5876988070133011, 0.5789186849914526, 0.5915912682558494, 0.5923457865716498, 0.5895990251357229, 0.5963272656688625, 0.5873406968999937, 0.5852510392824851, 0.5871859523813522, 0.5914896665072794]\n",
            "Les coordonnées de la droite à l'époque 22: [-1.1644733882559788, -1.1851771030788738, -1.1297724264906028, -1.0804939108714258, -1.1858209904368693, -1.1729606751808475, -1.0155080654413213, -1.1098347780684272, -1.1923520046786895, -1.1308441512192946, -1.241441507691925, -1.198557828069466, -1.1482930657937485, -1.2407039505204835, -1.2882550063199962, -1.1976846537550652, -1.2360775444247187, -1.171313313141724, -1.2021413894132555, -1.2454437676760617, -1.0481679460306796, -1.2022657410033757, -1.1296580630936677, -1.2952831187365492, -1.1899731804901317, -1.1087806926605377, -1.2672467791255637, -1.15341823008641, -1.2048940138227813, -1.1975309279204154, -1.2425050913965898, -1.0382183690294131, -1.1912584324159814, -1.2275781328467863, -1.1309584210318078, -1.2142274576789982, -1.1697376113242317, -1.3072242747182505, -1.2383029260402827, -1.1807380308767315, -1.1106086528586585, -1.124747895417498, -1.2106297440090048, -1.1825212472251545, -1.2611546062991354, -1.1975116585705377, -1.2257431301842245, -1.1240731903374588, -1.1308541090166162, -1.2797257087719478, -1.1383614932448378, -1.1845711565363577, -1.2278340346598828, -1.1191515626079762, -1.0891542847889686, -1.1188739153221885, -1.1810018274798872, -1.1764964223548617, -1.1706668048138535, -1.0846706227094474, -1.2210423637350543, -1.1609401030238558, -1.2153150117585696, -1.2664685247785812, -1.0888157648792545, -1.0642375390274268, -1.1523893456334113, -1.0545501928147678, -1.1470783579839767, -1.227340551601389, -1.1617461171517693, -1.0797777022180481, -1.1703726211087448, -1.0516457161336117, -1.3386473716392513, -1.091273771540402, -1.1599384694519927, -1.1535156811407892, -1.1659324637894912, -1.239929195034169, -1.1669326959584174, -1.161302391684756, -1.089683845650791, -1.190565651460691, -1.2264272544765087, -1.184172463229988, -1.0929443985114968, -1.1453973207496921, -1.221585311601455, -1.1656065219509584, -1.1697062170995114, -1.080595779998554, -1.2092112401343729, -1.2168689306259546, -1.1889917426371774, -1.2572774057904366, -1.1660717176417956, -1.1448635495520847, -1.1645011982730646, -1.2081800726628122, 0.58636070448839, 0.5884914348258193, 0.5827894423934492, 0.5777179260442595, 0.5885577007273403, 0.5872341767076501, 0.571029884137485, 0.5807375520581383, 0.5892298424322594, 0.5828997393335068, 0.5942819064803971, 0.5898685170025275, 0.5846955007201492, 0.5942060005159738, 0.5990997347098383, 0.5897786539505356, 0.5937298722507887, 0.5870646378445274, 0.5902373205209573, 0.5946938005216084, 0.5743910876212005, 0.59025011821006, 0.5827776726428788, 0.5998230354541213, 0.5889850248761193, 0.5806290704751931, 0.5969376653709929, 0.5852229588664816, 0.5905206078627266, 0.5897628332003787, 0.5943913655840081, 0.5733671232871406, 0.5891172970452964, 0.5928551522184505, 0.5829114994528023, 0.5914811626301804, 0.5869024739191647, 0.601051963862952, 0.5939588982087483, 0.588034586096398, 0.5808171956635018, 0.5822723409514906, 0.5911109026199544, 0.5882181064551495, 0.5963106871898707, 0.5897608500882309, 0.5926663022523535, 0.5822029034329024, 0.5829007641438383, 0.5982219389520215, 0.5836733893208487, 0.5884290736171166, 0.5928814884465733, 0.5816963923259608, 0.5786092115742932, 0.5816678181546108, 0.5880617348197098, 0.5875980594134157, 0.5869981022049391, 0.5781477738614313, 0.5921825211643656, 0.5859970751542694, 0.5915930886536386, 0.5968575710419539, 0.5785743726747222, 0.5760448956262476, 0.5851170708489707, 0.5750479188691263, 0.584570488624323, 0.5928307014582128, 0.586080026391254, 0.5776442171703335, 0.5869678261819834, 0.5747490035956191, 0.60428588330583, 0.5788273393238149, 0.5858939916710966, 0.58523298807717, 0.5865108657773399, 0.5941262662734524, 0.58661380503462, 0.5860343602235087, 0.5786637115228993, 0.5890459992414355, 0.5927367091525941, 0.5883880419505539, 0.5789992725058687, 0.5843974840662485, 0.5922383988414144, 0.5864773213545373, 0.586899242971115, 0.5777284099425102, 0.5909649167780274, 0.5917530107787726, 0.5888840198426999, 0.5959116636900371, 0.5865251971381726, 0.5843425508094047, 0.5863635665664082, 0.5908587938028307]\n",
            "Les coordonnées de la droite à l'époque 23: [-1.1611732516336417, -1.1827662514160509, -1.1249817823123702, -1.073586610665896, -1.1834377956147624, -1.1700250922955537, -1.0058094335633516, -1.1041877537177671, -1.1902493359740116, -1.126099540745164, -1.2414473763716312, -1.1967217175863454, -1.1442979371118298, -1.2406781389676829, -1.290271651354975, -1.1958110378874534, -1.2358530152314964, -1.1683069712502905, -1.2004592033457189, -1.2456215450996047, -1.0398721513167697, -1.200588896199459, -1.1248625066738551, -1.2976016417059606, -1.187768334345786, -1.103088392266071, -1.2683610595061856, -1.149643242164712, -1.2033300610050512, -1.1956507090796746, -1.2425566440996625, -1.0294952109531093, -1.1891087915918706, -1.226988529127295, -1.126218718779533, -1.2130644035073714, -1.166663588442263, -1.3100557051781572, -1.2381739834805139, -1.178136508110808, -1.1049948686881972, -1.1197414329694455, -1.209312157538091, -1.1799963188043414, -1.2620072100815407, -1.1956306120549969, -1.225074707746332, -1.1190377473376105, -1.1261099262589347, -1.281375995591042, -1.133939774544286, -1.1821342777015447, -1.2272554226699166, -1.113904721337161, -1.082618972911839, -1.1136151482903485, -1.1784116355477567, -1.173712710127051, -1.1676326935034007, -1.0779427244638824, -1.2201720296625977, -1.157488201491623, -1.2141986712078505, -1.2675493768642634, -1.0822659125842926, -1.056631980219477, -1.1485701641224488, -1.0465285342219137, -1.1430310540574378, -1.2267407430742099, -1.1583288362780628, -1.0728396387611516, -1.1673258737498087, -1.0434993017928202, -1.3428285157960596, -1.0848294978033386, -1.1564435448353512, -1.1497448790262128, -1.1626949987185085, -1.239870105472703, -1.1637381937774984, -1.1578660515075698, -1.0831712799577926, -1.188386253673202, -1.2257882171730605, -1.1817184593543866, -1.0865718830772821, -1.1412778113691262, -1.2207382987240363, -1.162355056727, -1.166630845743991, -1.073692855369261, -1.2078327247832308, -1.215819335424507, -1.186744740873476, -1.2579634724983648, -1.1628402339300745, -1.1407211131411807, -1.1612022561721036, -1.2067572656600973, 0.5855392202639245, 0.5877605599587589, 0.581816090164918, 0.5765289074644321, 0.5878296438192909, 0.5864498369097261, 0.5695564564192388, 0.579676943145135, 0.5885303683659231, 0.5819310774849297, 0.5937972715558001, 0.5891962025872209, 0.5838032036665151, 0.5937181376884654, 0.5988199780433152, 0.5891025181068426, 0.5932217620576737, 0.5862730884024862, 0.5895806894838928, 0.5942266814007419, 0.5730605951596676, 0.5895940313950238, 0.5818038199054295, 0.599574037168656, 0.5882751399374855, 0.5795638483803393, 0.5965659666552969, 0.5843530919828496, 0.5898760236264927, 0.5890860245789153, 0.5939113854103507, 0.5719930867183666, 0.5884130369837487, 0.5923098445355138, 0.5819433377035731, 0.5908774260078854, 0.5861040284524068, 0.6008552257867984, 0.593460527349849, 0.58728428372644, 0.5797599735966782, 0.5812769989720528, 0.5904914206820697, 0.5874756082927373, 0.5959123262123668, 0.5890839571348772, 0.5921129637201941, 0.5812046086213635, 0.5819321458753445, 0.5979048540003786, 0.5827376269560673, 0.5876955468381984, 0.5923373007123531, 0.5806765581177595, 0.5774580949324644, 0.5806467688291049, 0.5873125869498453, 0.5868291937360601, 0.586203723333269, 0.5769770345700769, 0.5916086098301312, 0.5851601275838705, 0.5909941116881074, 0.5964824663130434, 0.5774217745078747, 0.5747847313887872, 0.5842427010749189, 0.5737453581717649, 0.5836728754283917, 0.5922843540061254, 0.5852466063241469, 0.5764520641189195, 0.5861721598217294, 0.5734337315192646, 0.6042266677295778, 0.5776854985696331, 0.5850526604731662, 0.5843635476859569, 0.585695767165197, 0.593635012745417, 0.5858030839167991, 0.5851989982015509, 0.5775149124926588, 0.5883387072391122, 0.5921863646755132, 0.587652770299056, 0.5778647432142727, 0.583492513847441, 0.5916668637067025, 0.5856607962650306, 0.5861006601082157, 0.5765398371907009, 0.5903392267888024, 0.591160834505351, 0.588169839662659, 0.5954963342288756, 0.5857107079674841, 0.5834352445525659, 0.5855422040518773, 0.5902285909316047]\n",
            "Les coordonnées de la droite à l'époque 24: [-1.1578765004562028, -1.1803578865037003, -1.120196029857555, -1.0666863412360104, -1.181057059593652, -1.1670925264441019, -0.9961206533275971, -1.0985464865319996, -1.1881488425759843, -1.1213597754736668, -1.2414532895103068, -1.1948875130312184, -1.1403068962205345, -1.2406524038892905, -1.2922863087966745, -1.1939393658500617, -1.2356287633329412, -1.1653037179004013, -1.198778767653096, -1.2457991932544181, -1.031584790564582, -1.1989137963726773, -1.1200718469416777, -1.2999178720100073, -1.1855657667666635, -1.0974018947916035, -1.269474264206044, -1.1458721195635821, -1.201767739077967, -1.193772440741993, -1.2426081950943015, -1.0207809187237942, -1.1869613735435385, -1.226399571639827, -1.1214838567697365, -1.2119025750858619, -1.1635927224989573, -1.312884324638168, -1.238045221617383, -1.1755376647839384, -1.099386808090736, -1.1147400803466392, -1.20799595298469, -1.1774739924177975, -1.2628590026285638, -1.1937515168789474, -1.2244070111931569, -1.1140074434502016, -1.1213705882716447, -1.283024665051485, -1.1295225747380977, -1.179699911919768, -1.2266774458039416, -1.1086632328138473, -1.0760903158860409, -1.108361746057957, -1.1758241116039556, -1.170931861455491, -1.1646016987977377, -1.0712216756937611, -1.2193026255229071, -1.1540398387750128, -1.2130835091993541, -1.2686291870511797, -1.0757227298349312, -1.0490341578340026, -1.1447548925932534, -1.0385150325540446, -1.1389878906488298, -1.226141591091838, -1.1549150592330015, -1.0659086371686546, -1.164282255765412, -1.035361170452794, -1.3470054849580424, -1.078391786916198, -1.152952202512641, -1.1459779380021076, -1.1594608557577488, -1.2398111260157665, -1.160546970289325, -1.1544332344199975, -1.076665346129266, -1.1862091087333115, -1.225149876058273, -1.179266985838061, -1.0802058579754175, -1.1371625154759464, -1.2198921922114283, -1.1591069277615524, -1.1635586326898752, -1.0667969570937386, -1.2064556529231663, -1.2147708513137048, -1.1845000602766624, -1.2586488962701035, -1.159612066283929, -1.1365829133872827, -1.1579066983088802, -1.2053359469087586, 0.5847187583662233, 0.5870305401076251, 0.5808440406885256, 0.5753415898662302, 0.5871024367237865, 0.5856664508511126, 0.5680852548461615, 0.5786177981043731, 0.5878316913337065, 0.5809637097276706, 0.5933130369632844, 0.5885246350555409, 0.5829120596960495, 0.5932306811533845, 0.5985402433996794, 0.5884271362030713, 0.5927140955438943, 0.5854825060124157, 0.5889247763709826, 0.5937599302688977, 0.571732064912312, 0.5889386614992319, 0.5808312708443123, 0.5993250041105035, 0.5875660712567229, 0.5785000986760007, 0.596194459734151, 0.5834843367649141, 0.5892321350699078, 0.5884099711396629, 0.5934317969737433, 0.5706210927682808, 0.5877095827936958, 0.5917650492173482, 0.5809764691222249, 0.5902743096398232, 0.5853065627711795, 0.6006583564391009, 0.5929625821865337, 0.5865348722454342, 0.57870420914826, 0.5802830003489888, 0.5898725880722575, 0.5867339866087512, 0.5955142062614733, 0.5884078195194536, 0.5915601523818272, 0.5802076626186244, 0.5809648216176978, 0.5975878599985731, 0.581803097933468, 0.5869628799719814, 0.5917936232749106, 0.5796581124910107, 0.5763086092860568, 0.5796271103287745, 0.5865643278371402, 0.5860612532249388, 0.5854103167381322, 0.5758079625075088, 0.591035263677518, 0.5843242308934168, 0.5903957461880682, 0.596107559667911, 0.5762708100720952, 0.5735263995039267, 0.5833694512811836, 0.572444708112375, 0.5827764251319245, 0.5917385208387504, 0.5844142306234245, 0.5752616178369555, 0.5853774681153657, 0.5721203935525355, 0.6041670669454852, 0.5765452716828786, 0.5842123882495811, 0.583495218172919, 0.5848816790887389, 0.5931441717707623, 0.584993365251588, 0.5843646841318114, 0.576367740178353, 0.5876322267067842, 0.5916365418636804, 0.5869183617821793, 0.5767318142894352, 0.582588720112894, 0.5910958893659423, 0.5848452843452095, 0.58530305728455, 0.5753529645972926, 0.5897141975908617, 0.5905692571398937, 0.5874564836716838, 0.5950812771267531, 0.5848972282071423, 0.5825291190934987, 0.5847218636393725, 0.5895990571847327]\n",
            "le temps de convergence de la methode analytique :0.005625247955322266\n",
            "le temps de convergence de la methode de la decente du gradient  :0.020568370819091797\n",
            "le temps de convergence de la methode stocastique :0.0384974479675293\n"
          ]
        }
      ]
    },
    {
      "cell_type": "code",
      "source": [
        "from sklearn.datasets import fetch_openml\n",
        "from sklearn import svm\n",
        "import numpy as np\n",
        "from sklearn.datasets import fetch_openml\n",
        "from sklearn import svm\n",
        "import numpy as np\n",
        "import numpy as np\n",
        "from sklearn.datasets import load_breast_cancer\n",
        "from sklearn.model_selection import train_test_split\n",
        "from sklearn.preprocessing import StandardScaler\n",
        "from sklearn.pipeline import Pipeline\n",
        "from sklearn.svm import SVC\n",
        "from sklearn.metrics import accuracy_score\n",
        "import pandas as pd\n",
        "\n",
        "from sklearn.datasets import *\n",
        "\n",
        "# Charger les données MNIST\n",
        "mdigit = load_digits()\n",
        "dig = pd.DataFrame(mdigit['data'][0:1700])\n",
        "dig.head()"
      ],
      "metadata": {
        "colab": {
          "base_uri": "https://localhost:8080/",
          "height": 235
        },
        "id": "99YU3V3q3snN",
        "outputId": "d5613fcc-eb11-4025-8fc7-fd4f83bf813a"
      },
      "execution_count": 4,
      "outputs": [
        {
          "output_type": "execute_result",
          "data": {
            "text/plain": [
              "    0    1    2     3     4     5    6    7    8    9   ...   54   55   56  \\\n",
              "0  0.0  0.0  5.0  13.0   9.0   1.0  0.0  0.0  0.0  0.0  ...  0.0  0.0  0.0   \n",
              "1  0.0  0.0  0.0  12.0  13.0   5.0  0.0  0.0  0.0  0.0  ...  0.0  0.0  0.0   \n",
              "2  0.0  0.0  0.0   4.0  15.0  12.0  0.0  0.0  0.0  0.0  ...  5.0  0.0  0.0   \n",
              "3  0.0  0.0  7.0  15.0  13.0   1.0  0.0  0.0  0.0  8.0  ...  9.0  0.0  0.0   \n",
              "4  0.0  0.0  0.0   1.0  11.0   0.0  0.0  0.0  0.0  0.0  ...  0.0  0.0  0.0   \n",
              "\n",
              "    57   58    59    60    61   62   63  \n",
              "0  0.0  6.0  13.0  10.0   0.0  0.0  0.0  \n",
              "1  0.0  0.0  11.0  16.0  10.0  0.0  0.0  \n",
              "2  0.0  0.0   3.0  11.0  16.0  9.0  0.0  \n",
              "3  0.0  7.0  13.0  13.0   9.0  0.0  0.0  \n",
              "4  0.0  0.0   2.0  16.0   4.0  0.0  0.0  \n",
              "\n",
              "[5 rows x 64 columns]"
            ],
            "text/html": [
              "\n",
              "  <div id=\"df-4a5d91f5-afac-4524-84b4-04ee7c182285\">\n",
              "    <div class=\"colab-df-container\">\n",
              "      <div>\n",
              "<style scoped>\n",
              "    .dataframe tbody tr th:only-of-type {\n",
              "        vertical-align: middle;\n",
              "    }\n",
              "\n",
              "    .dataframe tbody tr th {\n",
              "        vertical-align: top;\n",
              "    }\n",
              "\n",
              "    .dataframe thead th {\n",
              "        text-align: right;\n",
              "    }\n",
              "</style>\n",
              "<table border=\"1\" class=\"dataframe\">\n",
              "  <thead>\n",
              "    <tr style=\"text-align: right;\">\n",
              "      <th></th>\n",
              "      <th>0</th>\n",
              "      <th>1</th>\n",
              "      <th>2</th>\n",
              "      <th>3</th>\n",
              "      <th>4</th>\n",
              "      <th>5</th>\n",
              "      <th>6</th>\n",
              "      <th>7</th>\n",
              "      <th>8</th>\n",
              "      <th>9</th>\n",
              "      <th>...</th>\n",
              "      <th>54</th>\n",
              "      <th>55</th>\n",
              "      <th>56</th>\n",
              "      <th>57</th>\n",
              "      <th>58</th>\n",
              "      <th>59</th>\n",
              "      <th>60</th>\n",
              "      <th>61</th>\n",
              "      <th>62</th>\n",
              "      <th>63</th>\n",
              "    </tr>\n",
              "  </thead>\n",
              "  <tbody>\n",
              "    <tr>\n",
              "      <th>0</th>\n",
              "      <td>0.0</td>\n",
              "      <td>0.0</td>\n",
              "      <td>5.0</td>\n",
              "      <td>13.0</td>\n",
              "      <td>9.0</td>\n",
              "      <td>1.0</td>\n",
              "      <td>0.0</td>\n",
              "      <td>0.0</td>\n",
              "      <td>0.0</td>\n",
              "      <td>0.0</td>\n",
              "      <td>...</td>\n",
              "      <td>0.0</td>\n",
              "      <td>0.0</td>\n",
              "      <td>0.0</td>\n",
              "      <td>0.0</td>\n",
              "      <td>6.0</td>\n",
              "      <td>13.0</td>\n",
              "      <td>10.0</td>\n",
              "      <td>0.0</td>\n",
              "      <td>0.0</td>\n",
              "      <td>0.0</td>\n",
              "    </tr>\n",
              "    <tr>\n",
              "      <th>1</th>\n",
              "      <td>0.0</td>\n",
              "      <td>0.0</td>\n",
              "      <td>0.0</td>\n",
              "      <td>12.0</td>\n",
              "      <td>13.0</td>\n",
              "      <td>5.0</td>\n",
              "      <td>0.0</td>\n",
              "      <td>0.0</td>\n",
              "      <td>0.0</td>\n",
              "      <td>0.0</td>\n",
              "      <td>...</td>\n",
              "      <td>0.0</td>\n",
              "      <td>0.0</td>\n",
              "      <td>0.0</td>\n",
              "      <td>0.0</td>\n",
              "      <td>0.0</td>\n",
              "      <td>11.0</td>\n",
              "      <td>16.0</td>\n",
              "      <td>10.0</td>\n",
              "      <td>0.0</td>\n",
              "      <td>0.0</td>\n",
              "    </tr>\n",
              "    <tr>\n",
              "      <th>2</th>\n",
              "      <td>0.0</td>\n",
              "      <td>0.0</td>\n",
              "      <td>0.0</td>\n",
              "      <td>4.0</td>\n",
              "      <td>15.0</td>\n",
              "      <td>12.0</td>\n",
              "      <td>0.0</td>\n",
              "      <td>0.0</td>\n",
              "      <td>0.0</td>\n",
              "      <td>0.0</td>\n",
              "      <td>...</td>\n",
              "      <td>5.0</td>\n",
              "      <td>0.0</td>\n",
              "      <td>0.0</td>\n",
              "      <td>0.0</td>\n",
              "      <td>0.0</td>\n",
              "      <td>3.0</td>\n",
              "      <td>11.0</td>\n",
              "      <td>16.0</td>\n",
              "      <td>9.0</td>\n",
              "      <td>0.0</td>\n",
              "    </tr>\n",
              "    <tr>\n",
              "      <th>3</th>\n",
              "      <td>0.0</td>\n",
              "      <td>0.0</td>\n",
              "      <td>7.0</td>\n",
              "      <td>15.0</td>\n",
              "      <td>13.0</td>\n",
              "      <td>1.0</td>\n",
              "      <td>0.0</td>\n",
              "      <td>0.0</td>\n",
              "      <td>0.0</td>\n",
              "      <td>8.0</td>\n",
              "      <td>...</td>\n",
              "      <td>9.0</td>\n",
              "      <td>0.0</td>\n",
              "      <td>0.0</td>\n",
              "      <td>0.0</td>\n",
              "      <td>7.0</td>\n",
              "      <td>13.0</td>\n",
              "      <td>13.0</td>\n",
              "      <td>9.0</td>\n",
              "      <td>0.0</td>\n",
              "      <td>0.0</td>\n",
              "    </tr>\n",
              "    <tr>\n",
              "      <th>4</th>\n",
              "      <td>0.0</td>\n",
              "      <td>0.0</td>\n",
              "      <td>0.0</td>\n",
              "      <td>1.0</td>\n",
              "      <td>11.0</td>\n",
              "      <td>0.0</td>\n",
              "      <td>0.0</td>\n",
              "      <td>0.0</td>\n",
              "      <td>0.0</td>\n",
              "      <td>0.0</td>\n",
              "      <td>...</td>\n",
              "      <td>0.0</td>\n",
              "      <td>0.0</td>\n",
              "      <td>0.0</td>\n",
              "      <td>0.0</td>\n",
              "      <td>0.0</td>\n",
              "      <td>2.0</td>\n",
              "      <td>16.0</td>\n",
              "      <td>4.0</td>\n",
              "      <td>0.0</td>\n",
              "      <td>0.0</td>\n",
              "    </tr>\n",
              "  </tbody>\n",
              "</table>\n",
              "<p>5 rows × 64 columns</p>\n",
              "</div>\n",
              "      <button class=\"colab-df-convert\" onclick=\"convertToInteractive('df-4a5d91f5-afac-4524-84b4-04ee7c182285')\"\n",
              "              title=\"Convert this dataframe to an interactive table.\"\n",
              "              style=\"display:none;\">\n",
              "        \n",
              "  <svg xmlns=\"http://www.w3.org/2000/svg\" height=\"24px\"viewBox=\"0 0 24 24\"\n",
              "       width=\"24px\">\n",
              "    <path d=\"M0 0h24v24H0V0z\" fill=\"none\"/>\n",
              "    <path d=\"M18.56 5.44l.94 2.06.94-2.06 2.06-.94-2.06-.94-.94-2.06-.94 2.06-2.06.94zm-11 1L8.5 8.5l.94-2.06 2.06-.94-2.06-.94L8.5 2.5l-.94 2.06-2.06.94zm10 10l.94 2.06.94-2.06 2.06-.94-2.06-.94-.94-2.06-.94 2.06-2.06.94z\"/><path d=\"M17.41 7.96l-1.37-1.37c-.4-.4-.92-.59-1.43-.59-.52 0-1.04.2-1.43.59L10.3 9.45l-7.72 7.72c-.78.78-.78 2.05 0 2.83L4 21.41c.39.39.9.59 1.41.59.51 0 1.02-.2 1.41-.59l7.78-7.78 2.81-2.81c.8-.78.8-2.07 0-2.86zM5.41 20L4 18.59l7.72-7.72 1.47 1.35L5.41 20z\"/>\n",
              "  </svg>\n",
              "      </button>\n",
              "      \n",
              "  <style>\n",
              "    .colab-df-container {\n",
              "      display:flex;\n",
              "      flex-wrap:wrap;\n",
              "      gap: 12px;\n",
              "    }\n",
              "\n",
              "    .colab-df-convert {\n",
              "      background-color: #E8F0FE;\n",
              "      border: none;\n",
              "      border-radius: 50%;\n",
              "      cursor: pointer;\n",
              "      display: none;\n",
              "      fill: #1967D2;\n",
              "      height: 32px;\n",
              "      padding: 0 0 0 0;\n",
              "      width: 32px;\n",
              "    }\n",
              "\n",
              "    .colab-df-convert:hover {\n",
              "      background-color: #E2EBFA;\n",
              "      box-shadow: 0px 1px 2px rgba(60, 64, 67, 0.3), 0px 1px 3px 1px rgba(60, 64, 67, 0.15);\n",
              "      fill: #174EA6;\n",
              "    }\n",
              "\n",
              "    [theme=dark] .colab-df-convert {\n",
              "      background-color: #3B4455;\n",
              "      fill: #D2E3FC;\n",
              "    }\n",
              "\n",
              "    [theme=dark] .colab-df-convert:hover {\n",
              "      background-color: #434B5C;\n",
              "      box-shadow: 0px 1px 3px 1px rgba(0, 0, 0, 0.15);\n",
              "      filter: drop-shadow(0px 1px 2px rgba(0, 0, 0, 0.3));\n",
              "      fill: #FFFFFF;\n",
              "    }\n",
              "  </style>\n",
              "\n",
              "      <script>\n",
              "        const buttonEl =\n",
              "          document.querySelector('#df-4a5d91f5-afac-4524-84b4-04ee7c182285 button.colab-df-convert');\n",
              "        buttonEl.style.display =\n",
              "          google.colab.kernel.accessAllowed ? 'block' : 'none';\n",
              "\n",
              "        async function convertToInteractive(key) {\n",
              "          const element = document.querySelector('#df-4a5d91f5-afac-4524-84b4-04ee7c182285');\n",
              "          const dataTable =\n",
              "            await google.colab.kernel.invokeFunction('convertToInteractive',\n",
              "                                                     [key], {});\n",
              "          if (!dataTable) return;\n",
              "\n",
              "          const docLinkHtml = 'Like what you see? Visit the ' +\n",
              "            '<a target=\"_blank\" href=https://colab.research.google.com/notebooks/data_table.ipynb>data table notebook</a>'\n",
              "            + ' to learn more about interactive tables.';\n",
              "          element.innerHTML = '';\n",
              "          dataTable['output_type'] = 'display_data';\n",
              "          await google.colab.output.renderOutput(dataTable, element);\n",
              "          const docLink = document.createElement('div');\n",
              "          docLink.innerHTML = docLinkHtml;\n",
              "          element.appendChild(docLink);\n",
              "        }\n",
              "      </script>\n",
              "    </div>\n",
              "  </div>\n",
              "  "
            ]
          },
          "metadata": {},
          "execution_count": 4
        }
      ]
    },
    {
      "cell_type": "code",
      "source": [
        "mdigit.keys()"
      ],
      "metadata": {
        "colab": {
          "base_uri": "https://localhost:8080/"
        },
        "id": "EM4O7u9b4F65",
        "outputId": "9373ce0e-17bc-4fbd-b0ec-5b4dad01c7cc"
      },
      "execution_count": 6,
      "outputs": [
        {
          "output_type": "execute_result",
          "data": {
            "text/plain": [
              "dict_keys(['data', 'target', 'frame', 'feature_names', 'target_names', 'images', 'DESCR'])"
            ]
          },
          "metadata": {},
          "execution_count": 6
        }
      ]
    },
    {
      "cell_type": "code",
      "source": [
        "import matplotlib.pyplot as plt\n",
        "def displayImage(i):\n",
        "    plt.imshow(mdigit['images'][i], cmap='Greys_r')\n",
        "    plt.show()\n",
        "#Affichage du premier élément du jeu de données \n",
        "displayImage(3) "
      ],
      "metadata": {
        "colab": {
          "base_uri": "https://localhost:8080/",
          "height": 430
        },
        "id": "ZCYQZITT4P0d",
        "outputId": "1c627351-0453-4379-860b-0cfaccea952f"
      },
      "execution_count": 10,
      "outputs": [
        {
          "output_type": "display_data",
          "data": {
            "text/plain": [
              "<Figure size 640x480 with 1 Axes>"
            ],
            "image/png": "[encoded data removed]"
          },
          "metadata": {}
        }
      ]
    },
    {
      "cell_type": "code",
      "source": [
        "from sklearn.model_selection import train_test_split\n",
        "X = mdigit.data # les input variables\n",
        "y = mdigit.target # les étiquettes (output variable)\n",
        "\n"
      ],
      "metadata": {
        "id": "g7c1jJVD4ia0"
      },
      "execution_count": 13,
      "outputs": []
    },
    {
      "cell_type": "markdown",
      "source": [
        "# utilisation d'un  classifier (SVM)\n",
        "Le code est une implémentation de l'algorithme d'optimisation Hypergradient Descent  qui optimise à la fois les poids et les hyperparamètres d'une machine à vecteurs de support (SVM) pour la classification sur l'ensemble de données (diagnostic) sur le cancer du sein du Wisconsin.\n",
        "\n",
        "Le modèle SVM utilisé dans le code a un noyau linéaire, et l'algorithme d'optimisation est utilisé pour trouver la valeur optimale du paramètre de régularisation (C), qui contrôle le compromis entre la marge et l'erreur de classification.\n",
        "\n",
        "L'algorithme  utilise le Hessien de la fonction de perte par rapport aux poids et l'hyperparamètre pour calculer le gradient de la perte par rapport à l'hyperparamètre, et le produit Hessien-vecteur inverse approximatif pour calculer la direction de la descente des poids.\n",
        "\n",
        "Le code imprime la perte et l'hyperparamètre à chaque itération de l'algorithme et le score de précision final sur l'ensemble de test. Il trace également la perte en fonction des itérations. L'algorithme s'arrête lorsque la valeur absolue du gradient de la perte par rapport à l'hyperparamètre est inférieure à une valeur de tolérance donnée.\n",
        "\n",
        "\n",
        "\n",
        "\n",
        "\n",
        "\n"
      ],
      "metadata": {
        "id": "qsnIJSl_SVnO"
      }
    },
    {
      "cell_type": "code",
      "source": [
        "import numpy as np\n",
        "from sklearn.datasets import load_breast_cancer\n",
        "from sklearn.model_selection import train_test_split\n",
        "from sklearn.preprocessing import StandardScaler\n",
        "from sklearn.pipeline import Pipeline\n",
        "from sklearn.svm import SVC\n",
        "from sklearn.metrics import accuracy_score\n",
        "\n",
        "# Chargement de données du cancer du sein\n",
        "data = load_breast_cancer()\n",
        "\n",
        "# Division en jeu de données d'entraînement et de test\n",
        "X_train, X_test, y_train, y_test = train_test_split(data.data, data.target, test_size=0.2, random_state=42)\n",
        "\n",
        "# Création d'un pipeline qui effectue une transformation de mise à l'échelle et entraîne un modèle SVM\n",
        "pipeline = Pipeline([\n",
        "    ('scaler', StandardScaler()),\n",
        "    ('clf', SVC(kernel='linear', C=1.0))\n",
        "])\n",
        "\n",
        "# Fonction de perte pour le modèle SVM\n",
        "def loss_fn(model, X, y):\n",
        "    y_pred = model.predict(X)\n",
        "    return 1 - accuracy_score(y, y_pred)\n",
        "\n",
        "# Fonction pour calculer le gradient de la perte par rapport aux poids\n",
        "def grad_loss_w(model, X, y):\n",
        "    y_pred = model.predict(X)\n",
        "    y_diff = np.expand_dims(y - y_pred, axis=1)\n",
        "    grad_w = -np.mean(y_diff * X, axis=0) + model.named_steps['clf'].coef_[0]\n",
        "    return grad_w\n",
        "\n",
        "# Fonction pour calculer le gradient de la perte par rapport à l'hyperparamètre lambda\n",
        "def grad_loss_lambda(model, X, y, lambda_):\n",
        "    LV = loss_fn(model, X, y)\n",
        "    model.set_params(clf__C=lambda_.item())\n",
        "    LT = loss_fn(model, X, y)\n",
        "    grad_lambda = 2 * (LV - LT) * lambda_ + 2 * lambda_ * np.sum(model.named_steps['clf'].coef_ ** 2)\n",
        "    return grad_lambda\n",
        "\n",
        "# Fonction pour calculer une approximation de l'inverse du produit matrice-vecteur du hessien\n",
        "# Fonction pour calculer une approximation de l'inverse du produit matrice-vecteur du hessien\n",
        "def approx_inverse_hvp(v, model, X, y):\n",
        "    alpha = 1e-2\n",
        "    damping = 1e-8\n",
        "    iterations = 20\n",
        "    p = v.copy()\n",
        "    for i in range(iterations):\n",
        "        grad = grad_loss_w(model, X, y)\n",
        "        grad_prod = np.sum(grad * p)\n",
        "        hessian_prod = grad_loss_w(model, X, y)\n",
        "        if damping > 0:\n",
        "            hessian_prod += damping * p\n",
        "        p = v - alpha * hessian_prod\n",
        "    return p / (grad_prod + damping)\n",
        "\n",
        "# Initialisation des hyperparamètres lambda et des poids\n",
        "lambda_ = np.array([0.01])\n",
        "w = np.zeros(X_train.shape[1])\n",
        "\n",
        "# Initialisation des listes pour stocker les valeurs de perte\n",
        "losses_lambda = []\n",
        "losses_w = []\n",
        "\n",
        "# Définition des paramètres d'optimisation\n",
        "learning_rate = 0.01\n",
        "tolerance = 1e-6\n",
        "max_iterations = 100\n",
        "\n",
        "# Boucle d'optimisation des hyperparamètres\n",
        "for i in range(100):\n",
        "    # Entraînement du modèle avec les hyperparamètres actuels\n",
        "# Entraînement du modèle avec les hyperparamètres actuels\n",
        "\n",
        "    pipeline.set_params(clf__C=lambda_.item())\n",
        "    \n",
        "    pipeline.fit(X_train, y_train)\n",
        "\n",
        "# Get the learned coefficients\n",
        "    w = pipeline.named_steps['clf'].coef_[0]\n",
        "\n",
        "    \n",
        "    # Calcul des pertes pour les données d'entraînement et la recherche d'hyperparamètres\n",
        "    LV = loss_fn(pipeline, X_train, y_train)\n",
        "    LT = loss_fn(pipeline, X_train, y_train)\n",
        "     \n",
        "    # Calcul du gradient hyperparamétrique\n",
        "    lambda_grad = grad_loss_lambda(pipeline, X_train, y_train, lambda_)\n",
        "    \n",
        "    # Calcul de la direction de descente pour les poids\n",
        "    v1 = grad_loss_w(pipeline, X_train, y_train)\n",
        "    v2 = approx_inverse_hvp(v1,pipeline, X_train, y_train)\n",
        "    v3 = grad_loss_lambda(pipeline, X_train, y_train,lambda_)\n",
        "    direction = -v2 / np.sqrt(np.sum(v2 * v3))\n",
        "    \n",
        "    # Mise à jour des hyperparamètres et des poids\n",
        "    lambda_ -= learning_rate * lambda_grad\n",
        "    \n",
        "    # Calcul de la perte pour les poids mis à jour\n",
        "    loss_w = loss_fn(pipeline, X_train, y_train)\n",
        "    \n",
        "    # Stockage des pertes pour les hyperparamètres et les poids\n",
        "    losses_lambda.append(LT)\n",
        "    losses_w.append(loss_w)\n",
        "    \n",
        "    # Affichage de la perte et de l'hyperparamètre lambda à chaque itération\n",
        "    print(f\"Iteration {i+1}: loss={LV}, lambda={lambda_.item()}\")\n",
        "\n",
        "# Prédiction sur les données de test avec les hyperparamètres optimisés\n",
        "pipeline.set_params(clf__C=lambda_.item())\n",
        "\n",
        "y_pred = pipeline.predict(X_test)\n",
        "print(f\"Accuracy score on test set: {accuracy_score(y_test, y_pred)}\")\n",
        "\n",
        "   # Critère d'arrêt de la boucle\n",
        "if np.abs(lambda_grad) < tolerance:\n",
        "    pass ;\n",
        "import matplotlib.pyplot as plt\n",
        "# Tracé de la perte en fonction des itérations\n",
        "fig, ax = plt.subplots()\n",
        "ax.plot(range(1, len(losses_lambda) + 1), losses_lambda, label='Hyperparameters')\n",
        "ax.plot(range(1, len(losses_w) + 1), losses_w, label='Weights')\n",
        "ax.set_xlabel('Iterations')\n",
        "ax.set_ylabel('Loss')\n",
        "ax.set_title('Optimization Results')\n",
        "ax.legend()\n",
        "plt.show()\n"
      ],
      "metadata": {
        "colab": {
          "base_uri": "https://localhost:8080/",
          "height": 1000
        },
        "id": "P_gqWGhRwYsx",
        "outputId": "06ea9e77-aa27-420e-ad13-4298da576fa9"
      },
      "execution_count": 1,
      "outputs": [
        {
          "output_type": "stream",
          "name": "stdout",
          "text": [
            "Iteration 1: loss=0.03296703296703296, lambda=0.009905612758954217\n",
            "Iteration 2: loss=0.03296703296703296, lambda=0.009812363464774768\n",
            "Iteration 3: loss=0.03296703296703296, lambda=0.009720162701054864\n",
            "Iteration 4: loss=0.03296703296703296, lambda=0.009628982030803724\n",
            "Iteration 5: loss=0.03296703296703296, lambda=0.009538806255004464\n",
            "Iteration 6: loss=0.03296703296703296, lambda=0.009449681406834071\n",
            "Iteration 7: loss=0.03296703296703296, lambda=0.009361602294678532\n",
            "Iteration 8: loss=0.03296703296703296, lambda=0.00927456486347632\n",
            "Iteration 9: loss=0.03076923076923077, lambda=0.009188546098733616\n",
            "Iteration 10: loss=0.03076923076923077, lambda=0.009103805806498251\n",
            "Iteration 11: loss=0.03076923076923077, lambda=0.009020498649332562\n",
            "Iteration 12: loss=0.03076923076923077, lambda=0.008938920740392289\n",
            "Iteration 13: loss=0.03076923076923077, lambda=0.008858723277604464\n",
            "Iteration 14: loss=0.03076923076923077, lambda=0.008779956326418195\n",
            "Iteration 15: loss=0.03076923076923077, lambda=0.008702849311135614\n",
            "Iteration 16: loss=0.03296703296703296, lambda=0.008627165183436607\n",
            "Iteration 17: loss=0.03296703296703296, lambda=0.008552471212293876\n",
            "Iteration 18: loss=0.03296703296703296, lambda=0.008478626612687204\n",
            "Iteration 19: loss=0.03296703296703296, lambda=0.008405578661973822\n",
            "Iteration 20: loss=0.03296703296703296, lambda=0.008333341787369443\n",
            "Iteration 21: loss=0.03296703296703296, lambda=0.008261901553972842\n",
            "Iteration 22: loss=0.03296703296703296, lambda=0.008191191894005764\n",
            "Iteration 23: loss=0.03296703296703296, lambda=0.008121233908781717\n",
            "Iteration 24: loss=0.03296703296703296, lambda=0.0080520901990647\n",
            "Iteration 25: loss=0.03296703296703296, lambda=0.007983808256577615\n",
            "Iteration 26: loss=0.03296703296703296, lambda=0.007916372186567131\n",
            "Iteration 27: loss=0.03296703296703296, lambda=0.007849801937395925\n",
            "Iteration 28: loss=0.03296703296703296, lambda=0.007784330830441084\n",
            "Iteration 29: loss=0.03296703296703296, lambda=0.007719913575103569\n",
            "Iteration 30: loss=0.03296703296703296, lambda=0.007656414010442854\n",
            "Iteration 31: loss=0.03296703296703296, lambda=0.00759392057746673\n",
            "Iteration 32: loss=0.03296703296703296, lambda=0.007532467590155622\n",
            "Iteration 33: loss=0.03516483516483515, lambda=0.00747196636207509\n",
            "Iteration 34: loss=0.03516483516483515, lambda=0.007412359977269936\n",
            "Iteration 35: loss=0.03516483516483515, lambda=0.007353375330724392\n",
            "Iteration 36: loss=0.03516483516483515, lambda=0.007294952795663915\n",
            "Iteration 37: loss=0.03516483516483515, lambda=0.007237179239979238\n",
            "Iteration 38: loss=0.03516483516483515, lambda=0.007179941844373407\n",
            "Iteration 39: loss=0.03516483516483515, lambda=0.007123209202738683\n",
            "Iteration 40: loss=0.03516483516483515, lambda=0.007066985625430831\n",
            "Iteration 41: loss=0.03516483516483515, lambda=0.007011279393917402\n",
            "Iteration 42: loss=0.03296703296703296, lambda=0.006956083020041401\n",
            "Iteration 43: loss=0.03296703296703296, lambda=0.006901385137375949\n",
            "Iteration 44: loss=0.03296703296703296, lambda=0.0068472218439664416\n",
            "Iteration 45: loss=0.03296703296703296, lambda=0.006793583092035384\n",
            "Iteration 46: loss=0.03296703296703296, lambda=0.006740452468577949\n",
            "Iteration 47: loss=0.03296703296703296, lambda=0.0066879241948726775\n",
            "Iteration 48: loss=0.03296703296703296, lambda=0.006636250702946705\n",
            "Iteration 49: loss=0.03516483516483515, lambda=0.0065855774617137545\n",
            "Iteration 50: loss=0.03736263736263734, lambda=0.006535917531385104\n",
            "Iteration 51: loss=0.03736263736263734, lambda=0.006487179756301493\n",
            "Iteration 52: loss=0.03736263736263734, lambda=0.006438991282827475\n",
            "Iteration 53: loss=0.03736263736263734, lambda=0.006391364274377248\n",
            "Iteration 54: loss=0.03736263736263734, lambda=0.006344356024353742\n",
            "Iteration 55: loss=0.03736263736263734, lambda=0.006297954040455125\n",
            "Iteration 56: loss=0.03516483516483515, lambda=0.006252207037693643\n",
            "Iteration 57: loss=0.03516483516483515, lambda=0.006207048054959325\n",
            "Iteration 58: loss=0.03516483516483515, lambda=0.006162471554898252\n",
            "Iteration 59: loss=0.03516483516483515, lambda=0.0061184409202160615\n",
            "Iteration 60: loss=0.03516483516483515, lambda=0.006074976470496043\n",
            "Iteration 61: loss=0.03516483516483515, lambda=0.006032027739963497\n",
            "Iteration 62: loss=0.03516483516483515, lambda=0.005989602082989666\n",
            "Iteration 63: loss=0.03736263736263734, lambda=0.005947686267748008\n",
            "Iteration 64: loss=0.03956043956043953, lambda=0.005906258495604957\n",
            "Iteration 65: loss=0.03956043956043953, lambda=0.005865325697405104\n",
            "Iteration 66: loss=0.04395604395604391, lambda=0.005824877455357739\n",
            "Iteration 67: loss=0.04395604395604391, lambda=0.00578485099892773\n",
            "Iteration 68: loss=0.04395604395604391, lambda=0.005745264989959739\n",
            "Iteration 69: loss=0.04395604395604391, lambda=0.0057060760054703195\n",
            "Iteration 70: loss=0.04395604395604391, lambda=0.005667266885083905\n",
            "Iteration 71: loss=0.04395604395604391, lambda=0.005628833077965555\n",
            "Iteration 72: loss=0.04395604395604391, lambda=0.005590877341720888\n",
            "Iteration 73: loss=0.04395604395604391, lambda=0.005553524933415252\n",
            "Iteration 74: loss=0.04395604395604391, lambda=0.005516483050592724\n",
            "Iteration 75: loss=0.04395604395604391, lambda=0.00547974740612681\n",
            "Iteration 76: loss=0.04395604395604391, lambda=0.005443386814420557\n",
            "Iteration 77: loss=0.04395604395604391, lambda=0.0054074341075180405\n",
            "Iteration 78: loss=0.0461538461538461, lambda=0.0053718120869864485\n",
            "Iteration 79: loss=0.0461538461538461, lambda=0.005336519884426213\n",
            "Iteration 80: loss=0.0461538461538461, lambda=0.005301530882963339\n",
            "Iteration 81: loss=0.0461538461538461, lambda=0.005266852632170544\n",
            "Iteration 82: loss=0.0461538461538461, lambda=0.005232547714943826\n",
            "Iteration 83: loss=0.0461538461538461, lambda=0.005198620790446614\n",
            "Iteration 84: loss=0.0461538461538461, lambda=0.005165100741733007\n",
            "Iteration 85: loss=0.0461538461538461, lambda=0.005132040030279848\n",
            "Iteration 86: loss=0.0461538461538461, lambda=0.0050994530237586\n",
            "Iteration 87: loss=0.0461538461538461, lambda=0.005067204858945103\n",
            "Iteration 88: loss=0.0461538461538461, lambda=0.005035280389880794\n",
            "Iteration 89: loss=0.0461538461538461, lambda=0.005003792860502201\n",
            "Iteration 90: loss=0.0461538461538461, lambda=0.004972589900038423\n",
            "Iteration 91: loss=0.04395604395604391, lambda=0.004941666836534912\n",
            "Iteration 92: loss=0.04395604395604391, lambda=0.0049110209530802236\n",
            "Iteration 93: loss=0.04395604395604391, lambda=0.00488065419644831\n",
            "Iteration 94: loss=0.04395604395604391, lambda=0.004850517116302551\n",
            "Iteration 95: loss=0.04395604395604391, lambda=0.004820597846572066\n",
            "Iteration 96: loss=0.04395604395604391, lambda=0.004790961747233714\n",
            "Iteration 97: loss=0.04395604395604391, lambda=0.0047616395516534744\n",
            "Iteration 98: loss=0.04395604395604391, lambda=0.004732610290507938\n",
            "Iteration 99: loss=0.04395604395604391, lambda=0.004703885346893308\n",
            "Iteration 100: loss=0.04395604395604391, lambda=0.0046754837479688225\n",
            "Accuracy score on test set: 0.9736842105263158\n"
          ]
        },
        {
          "output_type": "display_data",
          "data": {
            "text/plain": [
              "<Figure size 640x480 with 1 Axes>"
            ],
            "image/png": "[encoded data removed]"
          },
          "metadata": {}
        }
      ]
    },
    {
      "cell_type": "markdown",
      "source": [
        "Le code est une implémentation de l'optimisation des hyperparamètres d'un modèle SVM à noyau linéaire. L'objectif est de trouver la meilleure valeur pour l'hyperparamètre de régularisation (lambda) en minimisant la fonction de perte du modèle.\n",
        "\n",
        "Explication des principales fonctions et variables :\n",
        "\n",
        "load_digits() : une fonction de Scikit-learn qui charge le dataset digits contenant des images de chiffres manuscrits. Les images sont sous forme de matrices 8x8, et les labels sont des entiers de 0 à 9.\n",
        "\n",
        "train_test_split() : une fonction de Scikit-learn qui permet de diviser les données en deux parties : un jeu de données d'entraînement et un jeu de données de test.\n",
        "\n",
        "StandardScaler() : une fonction de Scikit-learn qui permet de mettre à l'échelle les données pour avoir une moyenne de 0 et une variance de 1.\n",
        "\n",
        "SVC() : une classe de Scikit-learn qui implémente un SVM à noyau linéaire.\n",
        "\n",
        "Pipeline() : une fonction de Scikit-learn qui permet de chaîner plusieurs étapes de prétraitement et de modélisation.\n",
        "\n",
        "loss_fn() : une fonction qui calcule la fonction de perte du modèle SVM. Dans ce cas, la fonction de perte est 1 - accuracy_score, où accuracy_score est la précision du modèle.\n",
        "\n",
        "grad_loss_w() : une fonction qui calcule le gradient de la fonction de perte par rapport aux poids du modèle SVM.\n",
        "\n",
        "grad_loss_lambda() : une fonction qui calcule le gradient de la fonction de perte par rapport à l'hyperparamètre lambda du modèle SVM.\n",
        "\n",
        "approx_inverse_hvp() : une fonction qui approxime l'inverse de la matrice Hessienne de la fonction de perte par rapport aux poids du modèle SVM.\n",
        "\n",
        "learning_rate, tolerance, max_iterations : des hyperparamètres qui contrôlent la vitesse d'apprentissage, la tolérance de convergence et le nombre maximal d'itérations.\n",
        "\n",
        "train_losses, test_losses, lambda_values : des listes qui stockent les valeurs de la fonction de perte pour le jeu de données d'entraînement et de test, ainsi que les valeurs de lambda au fil des itérations.\n",
        "\n"
      ],
      "metadata": {
        "id": "VtAQaY5pCSKu"
      }
    },
    {
      "cell_type": "code",
      "source": [
        "import numpy as np\n",
        "from sklearn.datasets import load_digits\n",
        "from sklearn.model_selection import train_test_split\n",
        "from sklearn.preprocessing import StandardScaler\n",
        "from sklearn.pipeline import Pipeline\n",
        "from sklearn.svm import SVC\n",
        "from sklearn.metrics import accuracy_score\n",
        "'''\n",
        "# Chargement des données digits\n",
        "data = load_digits()\n",
        "\n",
        "# Division en jeu de données d'entraînement et de test\n",
        "X_train, X_test, y_train, y_test = train_test_split(data.data, data.target, test_size=0.2, random_state=42)\n",
        "\n",
        "'''\n",
        "data = load_digits(n_class=10)\n",
        "X, y = data.data, data.target\n",
        "\n",
        "# Division en jeu de données d'entraînement et de test\n",
        "X_train, X_test, y_train, y_test = train_test_split(X, y, test_size=0.2, random_state=42)\n",
        "\n",
        "# Création d'un pipeline qui effectue une transformat\n",
        "\n",
        "# Création d'un pipeline qui effectue une transformation de mise à l'échelle et entraîne un modèle SVM\n",
        "pipeline = Pipeline([\n",
        "    ('scaler', StandardScaler()),\n",
        "    ('clf', SVC(kernel='linear', C=1.0))\n",
        "])\n",
        "\n",
        "# Fonction de perte pour le modèle SVM\n",
        "def loss_fn(model, X, y):\n",
        "    y_pred = model.predict(X)\n",
        "    return 1 - accuracy_score(y, y_pred)\n",
        "\n",
        "# Fonction pour calculer le gradient de la perte par rapport aux poids\n",
        "def grad_loss_w(model, X, y):\n",
        "    y_pred = model.predict(X)\n",
        "    y_diff = np.expand_dims(y - y_pred, axis=1)\n",
        "    grad_w = -np.mean(y_diff * X, axis=0) + model.named_steps['clf'].coef_[0]\n",
        "    return grad_w\n",
        "\n",
        "# Fonction pour calculer le gradient de la perte par rapport à l'hyperparamètre lambda\n",
        "def grad_loss_lambda(model, X, y, lambda_):\n",
        "    LV = loss_fn(model, X, y)\n",
        "    model.set_params(clf__C=lambda_.item())\n",
        "    LT = loss_fn(model, X, y)\n",
        "    grad_lambda = 2 * (LV - LT) * lambda_ + 2 * lambda_ * np.sum(model.named_steps['clf'].coef_ ** 2)\n",
        "    return grad_lambda\n",
        "\n",
        "# Fonction pour calculer une approximation de l'inverse du produit matrice-vecteur du hessien\n",
        "# Fonction pour calculer une approximation de l'inverse du produit matrice-vecteur du hessien\n",
        "def approx_inverse_hvp(v, model, X, y):\n",
        "    alpha = 1e-2\n",
        "    damping = 1e-8\n",
        "    iterations = 20\n",
        "    p = v.copy()\n",
        "    for i in range(iterations):\n",
        "        grad = grad_loss_w(model, X, y)\n",
        "        grad_prod = np.sum(grad * p)\n",
        "        hessian_prod = grad_loss_w(model, X, y)\n",
        "        if damping > 0:\n",
        "            hessian_prod += damping * p\n",
        "        p = v - alpha * hessian_prod\n",
        "    return p / (grad_prod + damping)\n",
        "\n",
        "# Initialisation des hyperparamètres lambda et des poids\n",
        "lambda_ = np.array([0.01])\n",
        "w = np.zeros(X_train.shape[1])\n",
        "\n",
        "# Initialisation des listes pour stocker les valeurs de perte\n",
        "losses_lambda = []\n",
        "losses_w = []\n",
        "\n",
        "# Définition des paramètres d'optimisation\n",
        "learning_rate = 0.001\n",
        "tolerance = 1e-6\n",
        "max_iterations = 100\n",
        "\n",
        "# Boucle d'optimisation des hyperparamètres\n",
        "for i in range(100):\n",
        "    # Entraînement du modèle avec les hyperparamètres actuels\n",
        "# Entraînement du modèle avec les hyperparamètres actuels\n",
        "\n",
        "    pipeline.set_params(clf__C=lambda_.item())\n",
        "    \n",
        "    pipeline.fit(X_train, y_train)\n",
        "\n",
        "# Get the learned coefficients\n",
        "    w = pipeline.named_steps['clf'].coef_[0]\n",
        "\n",
        "    \n",
        "    # Calcul des pertes pour les données d'entraînement et la recherche d'hyperparamètres\n",
        "    LV = loss_fn(pipeline, X_train, y_train)\n",
        "    LT = loss_fn(pipeline, X_train, y_train)\n",
        "     \n",
        "    # Calcul du gradient hyperparamétrique\n",
        "    lambda_grad = grad_loss_lambda(pipeline, X_train, y_train, lambda_)\n",
        "    \n",
        "    # Calcul de la direction de descente pour les poids\n",
        "    v1 = grad_loss_w(pipeline, X_train, y_train)\n",
        "    v2 = approx_inverse_hvp(v1,pipeline, X_train, y_train)\n",
        "    v3 = grad_loss_lambda(pipeline, X_train, y_train,lambda_)\n",
        "    direction = -v2 / np.sqrt(np.sum(v2 * v3))\n",
        "    \n",
        "    # Mise à jour des hyperparamètres et des poids\n",
        "    lambda_ -= learning_rate * lambda_grad\n",
        "    \n",
        "    # Calcul de la perte pour les poids mis à jour\n",
        "    loss_w = loss_fn(pipeline, X_train, y_train)\n",
        "    \n",
        "    # Stockage des pertes pour les hyperparamètres et les poids\n",
        "    losses_lambda.append(LT)\n",
        "    losses_w.append(loss_w)\n",
        "    \n",
        "    # Affichage de la perte et de l'hyperparamètre lambda à chaque itération\n",
        "    print(f\"Iteration {i+1}: loss={LV}, lambda={lambda_.item()}\")\n",
        "\n",
        "# Prédiction sur les données de test avec les hyperparamètres optimisés\n",
        "pipeline.set_params(clf__C=lambda_.item())\n",
        "\n",
        "y_pred = pipeline.predict(X_test)\n",
        "print(f\"Accuracy score on test set: {accuracy_score(y_test, y_pred)}\")\n",
        "\n",
        "   # Critère d'arrêt de la boucle\n",
        "if np.abs(lambda_grad) < tolerance:\n",
        "    pass ;\n",
        "import matplotlib as plt\n",
        "# Tracé de la perte en fonction des itérations\n",
        "import matplotlib.pyplot as plt\n",
        "fig, ax = plt.subplots()\n",
        "ax.plot(range(1, len(losses_lambda) + 1), losses_lambda, label='Hyperparameters')\n",
        "ax.plot(range(1, len(losses_w) + 1), losses_w, label='Weights')\n",
        "ax.set_xlabel('Iterations')\n",
        "ax.set_ylabel('Loss')\n",
        "ax.set_title('Optimization Results')\n",
        "ax.legend()\n",
        "plt.show()\n"
      ],
      "metadata": {
        "colab": {
          "base_uri": "https://localhost:8080/",
          "height": 1000
        },
        "id": "QYsLj8dvTNEA",
        "outputId": "bcb0b959-d52b-4024-a8e1-853550fb1b70"
      },
      "execution_count": 4,
      "outputs": [
        {
          "output_type": "stream",
          "name": "stderr",
          "text": [
            "<ipython-input-4-81fd1cb83b74>:103: RuntimeWarning: invalid value encountered in sqrt\n",
            "  direction = -v2 / np.sqrt(np.sum(v2 * v3))\n"
          ]
        },
        {
          "output_type": "stream",
          "name": "stdout",
          "text": [
            "Iteration 1: loss=0.014613778705636737, lambda=0.009739174114013375\n"
          ]
        },
        {
          "output_type": "stream",
          "name": "stderr",
          "text": [
            "<ipython-input-4-81fd1cb83b74>:103: RuntimeWarning: invalid value encountered in sqrt\n",
            "  direction = -v2 / np.sqrt(np.sum(v2 * v3))\n"
          ]
        },
        {
          "output_type": "stream",
          "name": "stdout",
          "text": [
            "Iteration 2: loss=0.014613778705636737, lambda=0.009488201104875001\n"
          ]
        },
        {
          "output_type": "stream",
          "name": "stderr",
          "text": [
            "<ipython-input-4-81fd1cb83b74>:103: RuntimeWarning: invalid value encountered in sqrt\n",
            "  direction = -v2 / np.sqrt(np.sum(v2 * v3))\n"
          ]
        },
        {
          "output_type": "stream",
          "name": "stdout",
          "text": [
            "Iteration 3: loss=0.014613778705636737, lambda=0.009246525377838533\n"
          ]
        },
        {
          "output_type": "stream",
          "name": "stderr",
          "text": [
            "<ipython-input-4-81fd1cb83b74>:103: RuntimeWarning: invalid value encountered in sqrt\n",
            "  direction = -v2 / np.sqrt(np.sum(v2 * v3))\n"
          ]
        },
        {
          "output_type": "stream",
          "name": "stdout",
          "text": [
            "Iteration 4: loss=0.014613778705636737, lambda=0.009013609346824714\n"
          ]
        },
        {
          "output_type": "stream",
          "name": "stderr",
          "text": [
            "<ipython-input-4-81fd1cb83b74>:103: RuntimeWarning: invalid value encountered in sqrt\n",
            "  direction = -v2 / np.sqrt(np.sum(v2 * v3))\n"
          ]
        },
        {
          "output_type": "stream",
          "name": "stdout",
          "text": [
            "Iteration 5: loss=0.016005567153792644, lambda=0.008789001707669428\n"
          ]
        },
        {
          "output_type": "stream",
          "name": "stderr",
          "text": [
            "<ipython-input-4-81fd1cb83b74>:103: RuntimeWarning: invalid value encountered in sqrt\n",
            "  direction = -v2 / np.sqrt(np.sum(v2 * v3))\n"
          ]
        },
        {
          "output_type": "stream",
          "name": "stdout",
          "text": [
            "Iteration 6: loss=0.016005567153792644, lambda=0.008572241898110252\n"
          ]
        },
        {
          "output_type": "stream",
          "name": "stderr",
          "text": [
            "<ipython-input-4-81fd1cb83b74>:103: RuntimeWarning: invalid value encountered in sqrt\n",
            "  direction = -v2 / np.sqrt(np.sum(v2 * v3))\n"
          ]
        },
        {
          "output_type": "stream",
          "name": "stdout",
          "text": [
            "Iteration 7: loss=0.016005567153792644, lambda=0.008363066330037867\n"
          ]
        },
        {
          "output_type": "stream",
          "name": "stderr",
          "text": [
            "<ipython-input-4-81fd1cb83b74>:103: RuntimeWarning: invalid value encountered in sqrt\n",
            "  direction = -v2 / np.sqrt(np.sum(v2 * v3))\n"
          ]
        },
        {
          "output_type": "stream",
          "name": "stdout",
          "text": [
            "Iteration 8: loss=0.016005567153792644, lambda=0.00816116521812509\n"
          ]
        },
        {
          "output_type": "stream",
          "name": "stderr",
          "text": [
            "<ipython-input-4-81fd1cb83b74>:103: RuntimeWarning: invalid value encountered in sqrt\n",
            "  direction = -v2 / np.sqrt(np.sum(v2 * v3))\n"
          ]
        },
        {
          "output_type": "stream",
          "name": "stdout",
          "text": [
            "Iteration 9: loss=0.016005567153792644, lambda=0.007966216710667497\n"
          ]
        },
        {
          "output_type": "stream",
          "name": "stderr",
          "text": [
            "<ipython-input-4-81fd1cb83b74>:103: RuntimeWarning: invalid value encountered in sqrt\n",
            "  direction = -v2 / np.sqrt(np.sum(v2 * v3))\n"
          ]
        },
        {
          "output_type": "stream",
          "name": "stdout",
          "text": [
            "Iteration 10: loss=0.01670146137787054, lambda=0.007777926448923346\n"
          ]
        },
        {
          "output_type": "stream",
          "name": "stderr",
          "text": [
            "<ipython-input-4-81fd1cb83b74>:103: RuntimeWarning: invalid value encountered in sqrt\n",
            "  direction = -v2 / np.sqrt(np.sum(v2 * v3))\n"
          ]
        },
        {
          "output_type": "stream",
          "name": "stdout",
          "text": [
            "Iteration 11: loss=0.01670146137787054, lambda=0.007596119528800539\n"
          ]
        },
        {
          "output_type": "stream",
          "name": "stderr",
          "text": [
            "<ipython-input-4-81fd1cb83b74>:103: RuntimeWarning: invalid value encountered in sqrt\n",
            "  direction = -v2 / np.sqrt(np.sum(v2 * v3))\n"
          ]
        },
        {
          "output_type": "stream",
          "name": "stdout",
          "text": [
            "Iteration 12: loss=0.016005567153792644, lambda=0.007420570749897813\n"
          ]
        },
        {
          "output_type": "stream",
          "name": "stderr",
          "text": [
            "<ipython-input-4-81fd1cb83b74>:103: RuntimeWarning: invalid value encountered in sqrt\n",
            "  direction = -v2 / np.sqrt(np.sum(v2 * v3))\n"
          ]
        },
        {
          "output_type": "stream",
          "name": "stdout",
          "text": [
            "Iteration 13: loss=0.016005567153792644, lambda=0.007250929365890607\n"
          ]
        },
        {
          "output_type": "stream",
          "name": "stderr",
          "text": [
            "<ipython-input-4-81fd1cb83b74>:103: RuntimeWarning: invalid value encountered in sqrt\n",
            "  direction = -v2 / np.sqrt(np.sum(v2 * v3))\n"
          ]
        },
        {
          "output_type": "stream",
          "name": "stdout",
          "text": [
            "Iteration 14: loss=0.016005567153792644, lambda=0.0070867919058359334\n"
          ]
        },
        {
          "output_type": "stream",
          "name": "stderr",
          "text": [
            "<ipython-input-4-81fd1cb83b74>:103: RuntimeWarning: invalid value encountered in sqrt\n",
            "  direction = -v2 / np.sqrt(np.sum(v2 * v3))\n"
          ]
        },
        {
          "output_type": "stream",
          "name": "stdout",
          "text": [
            "Iteration 15: loss=0.016005567153792644, lambda=0.006927950370407123\n"
          ]
        },
        {
          "output_type": "stream",
          "name": "stderr",
          "text": [
            "<ipython-input-4-81fd1cb83b74>:103: RuntimeWarning: invalid value encountered in sqrt\n",
            "  direction = -v2 / np.sqrt(np.sum(v2 * v3))\n"
          ]
        },
        {
          "output_type": "stream",
          "name": "stdout",
          "text": [
            "Iteration 16: loss=0.01670146137787054, lambda=0.006774191070234867\n"
          ]
        },
        {
          "output_type": "stream",
          "name": "stderr",
          "text": [
            "<ipython-input-4-81fd1cb83b74>:103: RuntimeWarning: invalid value encountered in sqrt\n",
            "  direction = -v2 / np.sqrt(np.sum(v2 * v3))\n"
          ]
        },
        {
          "output_type": "stream",
          "name": "stdout",
          "text": [
            "Iteration 17: loss=0.019485038274182354, lambda=0.006625308594645226\n"
          ]
        },
        {
          "output_type": "stream",
          "name": "stderr",
          "text": [
            "<ipython-input-4-81fd1cb83b74>:103: RuntimeWarning: invalid value encountered in sqrt\n",
            "  direction = -v2 / np.sqrt(np.sum(v2 * v3))\n"
          ]
        },
        {
          "output_type": "stream",
          "name": "stdout",
          "text": [
            "Iteration 18: loss=0.019485038274182354, lambda=0.006481156710042306\n"
          ]
        },
        {
          "output_type": "stream",
          "name": "stderr",
          "text": [
            "<ipython-input-4-81fd1cb83b74>:103: RuntimeWarning: invalid value encountered in sqrt\n",
            "  direction = -v2 / np.sqrt(np.sum(v2 * v3))\n"
          ]
        },
        {
          "output_type": "stream",
          "name": "stdout",
          "text": [
            "Iteration 19: loss=0.02018093249826025, lambda=0.006341523525076741\n"
          ]
        },
        {
          "output_type": "stream",
          "name": "stderr",
          "text": [
            "<ipython-input-4-81fd1cb83b74>:103: RuntimeWarning: invalid value encountered in sqrt\n",
            "  direction = -v2 / np.sqrt(np.sum(v2 * v3))\n"
          ]
        },
        {
          "output_type": "stream",
          "name": "stdout",
          "text": [
            "Iteration 20: loss=0.021572720946416157, lambda=0.006206216160279071\n"
          ]
        },
        {
          "output_type": "stream",
          "name": "stderr",
          "text": [
            "<ipython-input-4-81fd1cb83b74>:103: RuntimeWarning: invalid value encountered in sqrt\n",
            "  direction = -v2 / np.sqrt(np.sum(v2 * v3))\n"
          ]
        },
        {
          "output_type": "stream",
          "name": "stdout",
          "text": [
            "Iteration 21: loss=0.022268615170494055, lambda=0.0060750861026983806\n"
          ]
        },
        {
          "output_type": "stream",
          "name": "stderr",
          "text": [
            "<ipython-input-4-81fd1cb83b74>:103: RuntimeWarning: invalid value encountered in sqrt\n",
            "  direction = -v2 / np.sqrt(np.sum(v2 * v3))\n"
          ]
        },
        {
          "output_type": "stream",
          "name": "stdout",
          "text": [
            "Iteration 22: loss=0.022268615170494055, lambda=0.00594793636805187\n"
          ]
        },
        {
          "output_type": "stream",
          "name": "stderr",
          "text": [
            "<ipython-input-4-81fd1cb83b74>:103: RuntimeWarning: invalid value encountered in sqrt\n",
            "  direction = -v2 / np.sqrt(np.sum(v2 * v3))\n"
          ]
        },
        {
          "output_type": "stream",
          "name": "stdout",
          "text": [
            "Iteration 23: loss=0.022268615170494055, lambda=0.005824640581940185\n"
          ]
        },
        {
          "output_type": "stream",
          "name": "stderr",
          "text": [
            "<ipython-input-4-81fd1cb83b74>:103: RuntimeWarning: invalid value encountered in sqrt\n",
            "  direction = -v2 / np.sqrt(np.sum(v2 * v3))\n"
          ]
        },
        {
          "output_type": "stream",
          "name": "stdout",
          "text": [
            "Iteration 24: loss=0.022268615170494055, lambda=0.005705118167826968\n"
          ]
        },
        {
          "output_type": "stream",
          "name": "stderr",
          "text": [
            "<ipython-input-4-81fd1cb83b74>:103: RuntimeWarning: invalid value encountered in sqrt\n",
            "  direction = -v2 / np.sqrt(np.sum(v2 * v3))\n"
          ]
        },
        {
          "output_type": "stream",
          "name": "stdout",
          "text": [
            "Iteration 25: loss=0.022268615170494055, lambda=0.005589165321579811\n"
          ]
        },
        {
          "output_type": "stream",
          "name": "stderr",
          "text": [
            "<ipython-input-4-81fd1cb83b74>:103: RuntimeWarning: invalid value encountered in sqrt\n",
            "  direction = -v2 / np.sqrt(np.sum(v2 * v3))\n"
          ]
        },
        {
          "output_type": "stream",
          "name": "stdout",
          "text": [
            "Iteration 26: loss=0.022268615170494055, lambda=0.005476640816009086\n"
          ]
        },
        {
          "output_type": "stream",
          "name": "stderr",
          "text": [
            "<ipython-input-4-81fd1cb83b74>:103: RuntimeWarning: invalid value encountered in sqrt\n",
            "  direction = -v2 / np.sqrt(np.sum(v2 * v3))\n"
          ]
        },
        {
          "output_type": "stream",
          "name": "stdout",
          "text": [
            "Iteration 27: loss=0.022268615170494055, lambda=0.005367394784994861\n"
          ]
        },
        {
          "output_type": "stream",
          "name": "stderr",
          "text": [
            "<ipython-input-4-81fd1cb83b74>:103: RuntimeWarning: invalid value encountered in sqrt\n",
            "  direction = -v2 / np.sqrt(np.sum(v2 * v3))\n"
          ]
        },
        {
          "output_type": "stream",
          "name": "stdout",
          "text": [
            "Iteration 28: loss=0.022964509394572064, lambda=0.0052613076047372505\n"
          ]
        },
        {
          "output_type": "stream",
          "name": "stderr",
          "text": [
            "<ipython-input-4-81fd1cb83b74>:103: RuntimeWarning: invalid value encountered in sqrt\n",
            "  direction = -v2 / np.sqrt(np.sum(v2 * v3))\n"
          ]
        },
        {
          "output_type": "stream",
          "name": "stdout",
          "text": [
            "Iteration 29: loss=0.022964509394572064, lambda=0.005158207700508193\n"
          ]
        },
        {
          "output_type": "stream",
          "name": "stderr",
          "text": [
            "<ipython-input-4-81fd1cb83b74>:103: RuntimeWarning: invalid value encountered in sqrt\n",
            "  direction = -v2 / np.sqrt(np.sum(v2 * v3))\n"
          ]
        },
        {
          "output_type": "stream",
          "name": "stdout",
          "text": [
            "Iteration 30: loss=0.022964509394572064, lambda=0.005058064157530655\n"
          ]
        },
        {
          "output_type": "stream",
          "name": "stderr",
          "text": [
            "<ipython-input-4-81fd1cb83b74>:103: RuntimeWarning: invalid value encountered in sqrt\n",
            "  direction = -v2 / np.sqrt(np.sum(v2 * v3))\n"
          ]
        },
        {
          "output_type": "stream",
          "name": "stdout",
          "text": [
            "Iteration 31: loss=0.022964509394572064, lambda=0.0049607269551097\n"
          ]
        },
        {
          "output_type": "stream",
          "name": "stderr",
          "text": [
            "<ipython-input-4-81fd1cb83b74>:103: RuntimeWarning: invalid value encountered in sqrt\n",
            "  direction = -v2 / np.sqrt(np.sum(v2 * v3))\n"
          ]
        },
        {
          "output_type": "stream",
          "name": "stdout",
          "text": [
            "Iteration 32: loss=0.02435629784272786, lambda=0.004866064189376536\n"
          ]
        },
        {
          "output_type": "stream",
          "name": "stderr",
          "text": [
            "<ipython-input-4-81fd1cb83b74>:103: RuntimeWarning: invalid value encountered in sqrt\n",
            "  direction = -v2 / np.sqrt(np.sum(v2 * v3))\n"
          ]
        },
        {
          "output_type": "stream",
          "name": "stdout",
          "text": [
            "Iteration 33: loss=0.025052192066805867, lambda=0.004773918864460815\n"
          ]
        },
        {
          "output_type": "stream",
          "name": "stderr",
          "text": [
            "<ipython-input-4-81fd1cb83b74>:103: RuntimeWarning: invalid value encountered in sqrt\n",
            "  direction = -v2 / np.sqrt(np.sum(v2 * v3))\n"
          ]
        },
        {
          "output_type": "stream",
          "name": "stdout",
          "text": [
            "Iteration 34: loss=0.02435629784272786, lambda=0.00468420350720927\n"
          ]
        },
        {
          "output_type": "stream",
          "name": "stderr",
          "text": [
            "<ipython-input-4-81fd1cb83b74>:103: RuntimeWarning: invalid value encountered in sqrt\n",
            "  direction = -v2 / np.sqrt(np.sum(v2 * v3))\n"
          ]
        },
        {
          "output_type": "stream",
          "name": "stdout",
          "text": [
            "Iteration 35: loss=0.02435629784272786, lambda=0.004596874870426625\n"
          ]
        },
        {
          "output_type": "stream",
          "name": "stderr",
          "text": [
            "<ipython-input-4-81fd1cb83b74>:103: RuntimeWarning: invalid value encountered in sqrt\n",
            "  direction = -v2 / np.sqrt(np.sum(v2 * v3))\n"
          ]
        },
        {
          "output_type": "stream",
          "name": "stdout",
          "text": [
            "Iteration 36: loss=0.02435629784272786, lambda=0.004511852869945687\n"
          ]
        },
        {
          "output_type": "stream",
          "name": "stderr",
          "text": [
            "<ipython-input-4-81fd1cb83b74>:103: RuntimeWarning: invalid value encountered in sqrt\n",
            "  direction = -v2 / np.sqrt(np.sum(v2 * v3))\n"
          ]
        },
        {
          "output_type": "stream",
          "name": "stdout",
          "text": [
            "Iteration 37: loss=0.02435629784272786, lambda=0.0044290308479517405\n"
          ]
        },
        {
          "output_type": "stream",
          "name": "stderr",
          "text": [
            "<ipython-input-4-81fd1cb83b74>:103: RuntimeWarning: invalid value encountered in sqrt\n",
            "  direction = -v2 / np.sqrt(np.sum(v2 * v3))\n"
          ]
        },
        {
          "output_type": "stream",
          "name": "stdout",
          "text": [
            "Iteration 38: loss=0.02435629784272786, lambda=0.004348306406176931\n"
          ]
        },
        {
          "output_type": "stream",
          "name": "stderr",
          "text": [
            "<ipython-input-4-81fd1cb83b74>:103: RuntimeWarning: invalid value encountered in sqrt\n",
            "  direction = -v2 / np.sqrt(np.sum(v2 * v3))\n"
          ]
        },
        {
          "output_type": "stream",
          "name": "stdout",
          "text": [
            "Iteration 39: loss=0.02435629784272786, lambda=0.004269668543088789\n"
          ]
        },
        {
          "output_type": "stream",
          "name": "stderr",
          "text": [
            "<ipython-input-4-81fd1cb83b74>:103: RuntimeWarning: invalid value encountered in sqrt\n",
            "  direction = -v2 / np.sqrt(np.sum(v2 * v3))\n"
          ]
        },
        {
          "output_type": "stream",
          "name": "stdout",
          "text": [
            "Iteration 40: loss=0.025052192066805867, lambda=0.00419303691393423\n",
            "Iteration 41: loss=0.025748086290883765, lambda=0.004118338453830168\n",
            "Iteration 42: loss=0.025748086290883765, lambda=0.004045543227513972\n",
            "Iteration 43: loss=0.025748086290883765, lambda=0.003974599691785697\n",
            "Iteration 44: loss=0.025748086290883765, lambda=0.0039054085687526725\n",
            "Iteration 45: loss=0.025748086290883765, lambda=0.0038379107145601\n",
            "Iteration 46: loss=0.025748086290883765, lambda=0.0037720960784146727\n",
            "Iteration 47: loss=0.025748086290883765, lambda=0.0037079202178295924\n",
            "Iteration 48: loss=0.025748086290883765, lambda=0.003645304535930734\n",
            "Iteration 49: loss=0.025748086290883765, lambda=0.0035841976339300737\n",
            "Iteration 50: loss=0.026443980514961773, lambda=0.0035245556485174138\n",
            "Iteration 51: loss=0.02783576896311757, lambda=0.0034663365173139434\n",
            "Iteration 52: loss=0.029227557411273475, lambda=0.0034094790766363665\n",
            "Iteration 53: loss=0.029923451635351372, lambda=0.003353932430396074\n",
            "Iteration 54: loss=0.03131524008350728, lambda=0.0032996544885638334\n"
          ]
        },
        {
          "output_type": "stream",
          "name": "stderr",
          "text": [
            "<ipython-input-4-81fd1cb83b74>:103: RuntimeWarning: invalid value encountered in sqrt\n",
            "  direction = -v2 / np.sqrt(np.sum(v2 * v3))\n"
          ]
        },
        {
          "output_type": "stream",
          "name": "stdout",
          "text": [
            "Iteration 55: loss=0.03201113430758529, lambda=0.0032465924707691988\n"
          ]
        },
        {
          "output_type": "stream",
          "name": "stderr",
          "text": [
            "<ipython-input-4-81fd1cb83b74>:103: RuntimeWarning: invalid value encountered in sqrt\n",
            "  direction = -v2 / np.sqrt(np.sum(v2 * v3))\n"
          ]
        },
        {
          "output_type": "stream",
          "name": "stdout",
          "text": [
            "Iteration 56: loss=0.03201113430758529, lambda=0.003194747494971505\n"
          ]
        },
        {
          "output_type": "stream",
          "name": "stderr",
          "text": [
            "<ipython-input-4-81fd1cb83b74>:103: RuntimeWarning: invalid value encountered in sqrt\n",
            "  direction = -v2 / np.sqrt(np.sum(v2 * v3))\n"
          ]
        },
        {
          "output_type": "stream",
          "name": "stdout",
          "text": [
            "Iteration 57: loss=0.03201113430758529, lambda=0.0031440818107870633\n"
          ]
        },
        {
          "output_type": "stream",
          "name": "stderr",
          "text": [
            "<ipython-input-4-81fd1cb83b74>:103: RuntimeWarning: invalid value encountered in sqrt\n",
            "  direction = -v2 / np.sqrt(np.sum(v2 * v3))\n"
          ]
        },
        {
          "output_type": "stream",
          "name": "stdout",
          "text": [
            "Iteration 58: loss=0.03201113430758529, lambda=0.0030945690872199753\n"
          ]
        },
        {
          "output_type": "stream",
          "name": "stderr",
          "text": [
            "<ipython-input-4-81fd1cb83b74>:103: RuntimeWarning: invalid value encountered in sqrt\n",
            "  direction = -v2 / np.sqrt(np.sum(v2 * v3))\n"
          ]
        },
        {
          "output_type": "stream",
          "name": "stdout",
          "text": [
            "Iteration 59: loss=0.03201113430758529, lambda=0.0030461878977625914\n"
          ]
        },
        {
          "output_type": "stream",
          "name": "stderr",
          "text": [
            "<ipython-input-4-81fd1cb83b74>:103: RuntimeWarning: invalid value encountered in sqrt\n",
            "  direction = -v2 / np.sqrt(np.sum(v2 * v3))\n"
          ]
        },
        {
          "output_type": "stream",
          "name": "stdout",
          "text": [
            "Iteration 60: loss=0.032707028531663185, lambda=0.002998916614330794\n"
          ]
        },
        {
          "output_type": "stream",
          "name": "stderr",
          "text": [
            "<ipython-input-4-81fd1cb83b74>:103: RuntimeWarning: invalid value encountered in sqrt\n",
            "  direction = -v2 / np.sqrt(np.sum(v2 * v3))\n"
          ]
        },
        {
          "output_type": "stream",
          "name": "stdout",
          "text": [
            "Iteration 61: loss=0.032707028531663185, lambda=0.0029527080107621903\n"
          ]
        },
        {
          "output_type": "stream",
          "name": "stderr",
          "text": [
            "<ipython-input-4-81fd1cb83b74>:103: RuntimeWarning: invalid value encountered in sqrt\n",
            "  direction = -v2 / np.sqrt(np.sum(v2 * v3))\n"
          ]
        },
        {
          "output_type": "stream",
          "name": "stdout",
          "text": [
            "Iteration 62: loss=0.032707028531663185, lambda=0.0029075289598440453\n"
          ]
        },
        {
          "output_type": "stream",
          "name": "stderr",
          "text": [
            "<ipython-input-4-81fd1cb83b74>:103: RuntimeWarning: invalid value encountered in sqrt\n",
            "  direction = -v2 / np.sqrt(np.sum(v2 * v3))\n"
          ]
        },
        {
          "output_type": "stream",
          "name": "stdout",
          "text": [
            "Iteration 63: loss=0.032707028531663185, lambda=0.0028633456547577634\n"
          ]
        },
        {
          "output_type": "stream",
          "name": "stderr",
          "text": [
            "<ipython-input-4-81fd1cb83b74>:103: RuntimeWarning: invalid value encountered in sqrt\n",
            "  direction = -v2 / np.sqrt(np.sum(v2 * v3))\n"
          ]
        },
        {
          "output_type": "stream",
          "name": "stdout",
          "text": [
            "Iteration 64: loss=0.032707028531663185, lambda=0.0028201370969044488\n"
          ]
        },
        {
          "output_type": "stream",
          "name": "stderr",
          "text": [
            "<ipython-input-4-81fd1cb83b74>:103: RuntimeWarning: invalid value encountered in sqrt\n",
            "  direction = -v2 / np.sqrt(np.sum(v2 * v3))\n"
          ]
        },
        {
          "output_type": "stream",
          "name": "stdout",
          "text": [
            "Iteration 65: loss=0.032707028531663185, lambda=0.0027778782494676042\n"
          ]
        },
        {
          "output_type": "stream",
          "name": "stderr",
          "text": [
            "<ipython-input-4-81fd1cb83b74>:103: RuntimeWarning: invalid value encountered in sqrt\n",
            "  direction = -v2 / np.sqrt(np.sum(v2 * v3))\n"
          ]
        },
        {
          "output_type": "stream",
          "name": "stdout",
          "text": [
            "Iteration 66: loss=0.032707028531663185, lambda=0.0027365474457056492\n"
          ]
        },
        {
          "output_type": "stream",
          "name": "stderr",
          "text": [
            "<ipython-input-4-81fd1cb83b74>:103: RuntimeWarning: invalid value encountered in sqrt\n",
            "  direction = -v2 / np.sqrt(np.sum(v2 * v3))\n"
          ]
        },
        {
          "output_type": "stream",
          "name": "stdout",
          "text": [
            "Iteration 67: loss=0.03340292275574108, lambda=0.002696093866173829\n"
          ]
        },
        {
          "output_type": "stream",
          "name": "stderr",
          "text": [
            "<ipython-input-4-81fd1cb83b74>:103: RuntimeWarning: invalid value encountered in sqrt\n",
            "  direction = -v2 / np.sqrt(np.sum(v2 * v3))\n"
          ]
        },
        {
          "output_type": "stream",
          "name": "stdout",
          "text": [
            "Iteration 68: loss=0.03340292275574108, lambda=0.0026564981438570727\n"
          ]
        },
        {
          "output_type": "stream",
          "name": "stderr",
          "text": [
            "<ipython-input-4-81fd1cb83b74>:103: RuntimeWarning: invalid value encountered in sqrt\n",
            "  direction = -v2 / np.sqrt(np.sum(v2 * v3))\n"
          ]
        },
        {
          "output_type": "stream",
          "name": "stdout",
          "text": [
            "Iteration 69: loss=0.03340292275574108, lambda=0.0026177587298695524\n"
          ]
        },
        {
          "output_type": "stream",
          "name": "stderr",
          "text": [
            "<ipython-input-4-81fd1cb83b74>:103: RuntimeWarning: invalid value encountered in sqrt\n",
            "  direction = -v2 / np.sqrt(np.sum(v2 * v3))\n"
          ]
        },
        {
          "output_type": "stream",
          "name": "stdout",
          "text": [
            "Iteration 70: loss=0.03409881697981909, lambda=0.002579847845665736\n"
          ]
        },
        {
          "output_type": "stream",
          "name": "stderr",
          "text": [
            "<ipython-input-4-81fd1cb83b74>:103: RuntimeWarning: invalid value encountered in sqrt\n",
            "  direction = -v2 / np.sqrt(np.sum(v2 * v3))\n"
          ]
        },
        {
          "output_type": "stream",
          "name": "stdout",
          "text": [
            "Iteration 71: loss=0.03409881697981909, lambda=0.002542734085936385\n"
          ]
        },
        {
          "output_type": "stream",
          "name": "stderr",
          "text": [
            "<ipython-input-4-81fd1cb83b74>:103: RuntimeWarning: invalid value encountered in sqrt\n",
            "  direction = -v2 / np.sqrt(np.sum(v2 * v3))\n"
          ]
        },
        {
          "output_type": "stream",
          "name": "stdout",
          "text": [
            "Iteration 72: loss=0.03409881697981909, lambda=0.00250640250666186\n"
          ]
        },
        {
          "output_type": "stream",
          "name": "stderr",
          "text": [
            "<ipython-input-4-81fd1cb83b74>:103: RuntimeWarning: invalid value encountered in sqrt\n",
            "  direction = -v2 / np.sqrt(np.sum(v2 * v3))\n"
          ]
        },
        {
          "output_type": "stream",
          "name": "stdout",
          "text": [
            "Iteration 73: loss=0.03409881697981909, lambda=0.0024708406159113477\n"
          ]
        },
        {
          "output_type": "stream",
          "name": "stderr",
          "text": [
            "<ipython-input-4-81fd1cb83b74>:103: RuntimeWarning: invalid value encountered in sqrt\n",
            "  direction = -v2 / np.sqrt(np.sum(v2 * v3))\n"
          ]
        },
        {
          "output_type": "stream",
          "name": "stdout",
          "text": [
            "Iteration 74: loss=0.03409881697981909, lambda=0.0024360143831565796\n"
          ]
        },
        {
          "output_type": "stream",
          "name": "stderr",
          "text": [
            "<ipython-input-4-81fd1cb83b74>:103: RuntimeWarning: invalid value encountered in sqrt\n",
            "  direction = -v2 / np.sqrt(np.sum(v2 * v3))\n"
          ]
        },
        {
          "output_type": "stream",
          "name": "stdout",
          "text": [
            "Iteration 75: loss=0.03479471120389699, lambda=0.0024019089619981386\n"
          ]
        },
        {
          "output_type": "stream",
          "name": "stderr",
          "text": [
            "<ipython-input-4-81fd1cb83b74>:103: RuntimeWarning: invalid value encountered in sqrt\n",
            "  direction = -v2 / np.sqrt(np.sum(v2 * v3))\n"
          ]
        },
        {
          "output_type": "stream",
          "name": "stdout",
          "text": [
            "Iteration 76: loss=0.03479471120389699, lambda=0.002368500306010696\n"
          ]
        },
        {
          "output_type": "stream",
          "name": "stderr",
          "text": [
            "<ipython-input-4-81fd1cb83b74>:103: RuntimeWarning: invalid value encountered in sqrt\n",
            "  direction = -v2 / np.sqrt(np.sum(v2 * v3))\n"
          ]
        },
        {
          "output_type": "stream",
          "name": "stdout",
          "text": [
            "Iteration 77: loss=0.035490605427975, lambda=0.0023357660339817037\n"
          ]
        },
        {
          "output_type": "stream",
          "name": "stderr",
          "text": [
            "<ipython-input-4-81fd1cb83b74>:103: RuntimeWarning: invalid value encountered in sqrt\n",
            "  direction = -v2 / np.sqrt(np.sum(v2 * v3))\n"
          ]
        },
        {
          "output_type": "stream",
          "name": "stdout",
          "text": [
            "Iteration 78: loss=0.035490605427975, lambda=0.002303685957648018\n"
          ]
        },
        {
          "output_type": "stream",
          "name": "stderr",
          "text": [
            "<ipython-input-4-81fd1cb83b74>:103: RuntimeWarning: invalid value encountered in sqrt\n",
            "  direction = -v2 / np.sqrt(np.sum(v2 * v3))\n"
          ]
        },
        {
          "output_type": "stream",
          "name": "stdout",
          "text": [
            "Iteration 79: loss=0.036186499652052895, lambda=0.0022722395528751846\n",
            "Iteration 80: loss=0.03688239387613079, lambda=0.002241407082295999\n",
            "Iteration 81: loss=0.03688239387613079, lambda=0.00221116798128038\n",
            "Iteration 82: loss=0.03688239387613079, lambda=0.002181509954382292\n",
            "Iteration 83: loss=0.0375782881002088, lambda=0.0021524393074338344\n",
            "Iteration 84: loss=0.0382741823242867, lambda=0.002123926279799806\n",
            "Iteration 85: loss=0.0382741823242867, lambda=0.0020959593936410712\n",
            "Iteration 86: loss=0.038970076548364596, lambda=0.0020685249293505366\n",
            "Iteration 87: loss=0.038970076548364596, lambda=0.002041613649224988\n",
            "Iteration 88: loss=0.038970076548364596, lambda=0.0020152187422918496\n",
            "Iteration 89: loss=0.039665970772442605, lambda=0.0019893237235605664\n",
            "Iteration 90: loss=0.039665970772442605, lambda=0.0019639191412597463\n",
            "Iteration 91: loss=0.039665970772442605, lambda=0.0019389837064512968\n",
            "Iteration 92: loss=0.039665970772442605, lambda=0.0019145108119861184\n",
            "Iteration 93: loss=0.039665970772442605, lambda=0.0018904943294005031\n",
            "Iteration 94: loss=0.039665970772442605, lambda=0.001866914270645483\n",
            "Iteration 95: loss=0.039665970772442605, lambda=0.0018437549552184664\n",
            "Iteration 96: loss=0.038970076548364596, lambda=0.0018210167990540317\n",
            "Iteration 97: loss=0.039665970772442605, lambda=0.0017986848643262196\n",
            "Iteration 98: loss=0.039665970772442605, lambda=0.0017767506323989042\n",
            "Iteration 99: loss=0.039665970772442605, lambda=0.0017552090211984815\n",
            "Iteration 100: loss=0.0403618649965205, lambda=0.0017340519517633026\n",
            "Accuracy score on test set: 0.9388888888888889\n"
          ]
        },
        {
          "output_type": "display_data",
          "data": {
            "text/plain": [
              "<Figure size 640x480 with 1 Axes>"
            ],
            "image/png": "[encoded data removed]"
          },
          "metadata": {}
        }
      ]
    },
    {
      "cell_type": "markdown",
      "source": [
        "Explication de l'algorithme d'optimisation :\n",
        "\n",
        "L'algorithme d'optimisation implémenté ici est la descente de gradient avec approximation de l'inverse de la matrice Hessienne. L'objectif est de minimiser la fonction de perte en ajustant à la fois les poids du modèle SVM et l'hyperparamètre lambda.\n",
        "\n",
        "L'algorithme fonctionne comme suit :\n",
        "\n",
        "Initialiser lambda et les poids à des valeurs arbitraires.\n",
        "\n",
        "Pour chaque itération :\n",
        "\n",
        "a. Entraîner le modèle SVM avec les hyperparamètres actuels.\n",
        "\n",
        "b. Calculer les pertes pour le jeu de données d'entraînement et de test.\n",
        "\n",
        "c. Ajouter les pertes et les valeurs de lambda aux listes correspondantes.\n",
        "\n",
        "d. Calculer le gradient hyperparamétrique (par rapport à lambda).\n",
        "\n",
        "e. Calculer la direction de descente pour les poids en utilisant l'approximation de l'inverse de la matrice Hessienne.\n",
        "\n",
        "f. Mettre à jour les poids et les hyperparamètres en utilisant la direction de descente et le taux d'apprentissage.\n",
        "\n",
        "g. Vérifier si la perte sur le jeu de données de test a cessé de diminuer\n"
      ],
      "metadata": {
        "id": "QYzGmxWvG_WV"
      }
    },
    {
      "cell_type": "markdown",
      "source": [
        "# Optimisation des hyperparamatre d'un Perceptron multicouche"
      ],
      "metadata": {
        "id": "rT_XoWz8UYiu"
      }
    },
    {
      "cell_type": "code",
      "source": [
        "import numpy as np\n",
        "from sklearn.datasets import load_digits\n",
        "from sklearn.model_selection import train_test_split\n",
        "from sklearn.preprocessing import StandardScaler\n",
        "from sklearn.pipeline import Pipeline\n",
        "from sklearn.svm import SVC\n",
        "from sklearn.metrics import accuracy_score\n",
        "from sklearn.neural_network import MLPClassifier\n",
        "\n",
        "'''\n",
        "# Chargement des données digits\n",
        "data = load_digits()\n",
        "\n",
        "# Division en jeu de données d'entraînement et de test\n",
        "X_train, X_test, y_train, y_test = train_test_split(data.data, data.target, test_size=0.2, random_state=42)\n",
        "\n",
        "'''\n",
        "data = load_digits(n_class=10)\n",
        "X, y = data.data, data.target\n",
        "\n",
        "# Division en jeu de données d'entraînement et de test\n",
        "X_train, X_test, y_train, y_test = train_test_split(X, y, test_size=0.2, random_state=42)\n",
        "\n",
        "# Création d'un pipeline qui effectue une transformat\n",
        "\n",
        "# Création d'un pipeline qui effectue une transformation de mise à l'échelle et entraîne un modèle SVM\n",
        "pipeline = Pipeline([\n",
        "    ('scaler', StandardScaler()),\n",
        "    ('clf', MLPClassifier(hidden_layer_sizes=(10,), max_iter=100))\n",
        "])\n",
        "\n",
        "# Fonction de perte pour le modèle SVM\n",
        "def loss_fn(model, X, y):\n",
        "    y_pred = model.predict(X)\n",
        "    return 1 - accuracy_score(y, y_pred)\n",
        "\n",
        "# Fonction pour calculer le gradient de la perte par rapport aux poids\n",
        "def grad_loss_w(model, X, y):\n",
        "    y_pred = model.predict(X)\n",
        "    y_diff = np.expand_dims(y - y_pred, axis=1)\n",
        "    grad_w = -np.mean(y_diff * X, axis=0) + model.named_steps['clf'].coef_[0]\n",
        "    return grad_w\n",
        "\n",
        "# Fonction pour calculer le gradient de la perte par rapport à l'hyperparamètre lambda\n",
        "def grad_loss_lambda(model, X, y, lambda_):\n",
        "    LV = loss_fn(model, X, y)\n",
        "    model.set_params(clf__C=lambda_.item())\n",
        "    LT = loss_fn(model, X, y)\n",
        "    grad_lambda = 2 * (LV - LT) * lambda_ + 2 * lambda_ * np.sum(model.named_steps['clf'].coef_ ** 2)\n",
        "    return grad_lambda\n",
        "\n",
        "# Fonction pour calculer une approximation de l'inverse du produit matrice-vecteur du hessien\n",
        "# Fonction pour calculer une approximation de l'inverse du produit matrice-vecteur du hessien\n",
        "def approx_inverse_hvp(v, model, X, y):\n",
        "    alpha = 1e-2\n",
        "    damping = 1e-8\n",
        "    iterations = 20\n",
        "    p = v.copy()\n",
        "    for i in range(iterations):\n",
        "        grad = grad_loss_w(model, X, y)\n",
        "        grad_prod = np.sum(grad * p)\n",
        "        hessian_prod = grad_loss_w(model, X, y)\n",
        "        if damping > 0:\n",
        "            hessian_prod += damping * p\n",
        "        p = v - alpha * hessian_prod\n",
        "    return p / (grad_prod + damping)\n",
        "\n",
        "# Initialisation des hyperparamètres lambda et des poids\n",
        "lambda_ = np.array([0.01])\n",
        "w = np.zeros(X_train.shape[1])\n",
        "\n",
        "# Initialisation des listes pour stocker les valeurs de perte\n",
        "losses_lambda = []\n",
        "losses_w = []\n",
        "\n",
        "# Définition des paramètres d'optimisation\n",
        "learning_rate = 0.001\n",
        "tolerance = 1e-6\n",
        "max_iterations = 100\n",
        "\n",
        "# Boucle d'optimisation des hyperparamètres\n",
        "for i in range(100):\n",
        "    # Entraînement du modèle avec les hyperparamètres actuels\n",
        "# Entraînement du modèle avec les hyperparamètres actuels\n",
        "\n",
        "    pipeline.set_params(clf__C=lambda_.item())\n",
        "    \n",
        "    pipeline.fit(X_train, y_train)\n",
        "\n",
        "# Get the learned coefficients\n",
        "    w = pipeline.named_steps['clf'].coef_[0]\n",
        "\n",
        "    \n",
        "    # Calcul des pertes pour les données d'entraînement et la recherche d'hyperparamètres\n",
        "    LV = loss_fn(pipeline, X_train, y_train)\n",
        "    LT = loss_fn(pipeline, X_train, y_train)\n",
        "     \n",
        "    # Calcul du gradient hyperparamétrique\n",
        "    lambda_grad = grad_loss_lambda(pipeline, X_train, y_train, lambda_)\n",
        "    \n",
        "    # Calcul de la direction de descente pour les poids\n",
        "    v1 = grad_loss_w(pipeline, X_train, y_train)\n",
        "    v2 = approx_inverse_hvp(v1,pipeline, X_train, y_train)\n",
        "    v3 = grad_loss_lambda(pipeline, X_train, y_train,lambda_)\n",
        "    direction = -v2 / np.sqrt(np.sum(v2 * v3))\n",
        "    \n",
        "    # Mise à jour des hyperparamètres et des poids\n",
        "    lambda_ -= learning_rate * lambda_grad\n",
        "    \n",
        "    # Calcul de la perte pour les poids mis à jour\n",
        "    loss_w = loss_fn(pipeline, X_train, y_train)\n",
        "    \n",
        "    # Stockage des pertes pour les hyperparamètres et les poids\n",
        "    losses_lambda.append(LT)\n",
        "    losses_w.append(loss_w)\n",
        "    \n",
        "    # Affichage de la perte et de l'hyperparamètre lambda à chaque itération\n",
        "    print(f\"Iteration {i+1}: loss={LV}, lambda={lambda_.item()}\")\n",
        "\n",
        "# Prédiction sur les données de test avec les hyperparamètres optimisés\n",
        "pipeline.set_params(clf__C=lambda_.item())\n",
        "\n",
        "y_pred = pipeline.predict(X_test)\n",
        "print(f\"Accuracy score on test set: {accuracy_score(y_test, y_pred)}\")\n",
        "\n",
        "   # Critère d'arrêt de la boucle\n",
        "if np.abs(lambda_grad) < tolerance:\n",
        "    pass ;\n",
        "import matplotlib as plt\n",
        "# Tracé de la perte en fonction des itérations\n",
        "import matplotlib.pyplot as plt\n",
        "fig, ax = plt.subplots()\n",
        "ax.plot(range(1, len(losses_lambda) + 1), losses_lambda, label='Hyperparameters')\n",
        "ax.plot(range(1, len(losses_w) + 1), losses_w, label='Weights')\n",
        "ax.set_xlabel('Iterations')\n",
        "ax.set_ylabel('Loss')\n",
        "ax.set_title('Optimization Results')\n",
        "ax.legend()\n",
        "plt.show()\n"
      ],
      "metadata": {
        "id": "-6r4jz_eUXqw"
      },
      "execution_count": null,
      "outputs": []
    },
    {
      "cell_type": "markdown",
      "source": [
        "# En cours de traitement ...."
      ],
      "metadata": {
        "id": "RS09I_ThUouh"
      }
    },
    {
      "cell_type": "markdown",
      "source": [
        "# Référence :\n",
        "Slids cours deep learning (Mr Nakib ) \n",
        "\n",
        "Slids cours  optimisation stochastique (Mr oulhaj ) : TP1 ,TP2\n",
        "https://arxiv.org/pdf/1911.02590.pdf"
      ],
      "metadata": {
        "id": "mRVDsbXmU55f"
      }
    }
  ]
}