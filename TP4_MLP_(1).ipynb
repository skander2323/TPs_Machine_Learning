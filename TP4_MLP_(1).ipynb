{
  "cells": [
    {
      "cell_type": "markdown",
      "metadata": {
        "id": "view-in-github",
        "colab_type": "text"
      },
      "source": [
        "<a href=\"https://colab.research.google.com/github/skander2323/Tp-2-Arbres-de-decision/blob/main/TP4_MLP_(1).ipynb\" target=\"_parent\"><img src=\"https://colab.research.google.com/assets/colab-badge.svg\" alt=\"Open In Colab\"/></a>"
      ]
    },
    {
      "cell_type": "code",
      "source": [
        "import numpy as np\n",
        "\n",
        "np.shape(X)"
      ],
      "metadata": {
        "colab": {
          "base_uri": "https://localhost:8080/"
        },
        "id": "rpnBq8pVVwxL",
        "outputId": "33a60470-da77-4954-a8af-0b2097e8060f"
      },
      "execution_count": null,
      "outputs": [
        {
          "output_type": "execute_result",
          "data": {
            "text/plain": [
              "(70000, 784)"
            ]
          },
          "metadata": {},
          "execution_count": 14
        }
      ]
    },
    {
      "cell_type": "code",
      "execution_count": null,
      "metadata": {
        "colab": {
          "base_uri": "https://localhost:8080/",
          "height": 259
        },
        "id": "ScDgecX13DzL",
        "outputId": "316cc6c2-14d6-4243-b161-0e3b293f6e84"
      },
      "outputs": [
        {
          "output_type": "stream",
          "name": "stdout",
          "text": [
            "(60000, 28, 28)\n"
          ]
        },
        {
          "output_type": "error",
          "ename": "NameError",
          "evalue": "ignored",
          "traceback": [
            "\u001b[0;31m---------------------------------------------------------------------------\u001b[0m",
            "\u001b[0;31mNameError\u001b[0m                                 Traceback (most recent call last)",
            "\u001b[0;32m<ipython-input-11-8ec98b2b29fa>\u001b[0m in \u001b[0;36m<module>\u001b[0;34m\u001b[0m\n\u001b[1;32m      9\u001b[0m \u001b[0;31m#plt.imshow(X_train[0])\u001b[0m\u001b[0;34m\u001b[0m\u001b[0;34m\u001b[0m\u001b[0;34m\u001b[0m\u001b[0m\n\u001b[1;32m     10\u001b[0m \u001b[0;31m# lister les 10 premiers elements\u001b[0m\u001b[0;34m\u001b[0m\u001b[0;34m\u001b[0m\u001b[0;34m\u001b[0m\u001b[0m\n\u001b[0;32m---> 11\u001b[0;31m \u001b[0mpd\u001b[0m\u001b[0;34m.\u001b[0m\u001b[0mDataFrame\u001b[0m\u001b[0;34m(\u001b[0m\u001b[0mmnist\u001b[0m\u001b[0;34m.\u001b[0m\u001b[0mdata\u001b[0m\u001b[0;34m)\u001b[0m\u001b[0;34m.\u001b[0m\u001b[0mhead\u001b[0m\u001b[0;34m(\u001b[0m\u001b[0;36m10\u001b[0m\u001b[0;34m)\u001b[0m\u001b[0;34m\u001b[0m\u001b[0;34m\u001b[0m\u001b[0m\n\u001b[0m\u001b[1;32m     12\u001b[0m \u001b[0;31m# Reshape each 28x28 image -> 784 dim. vector\u001b[0m\u001b[0;34m\u001b[0m\u001b[0;34m\u001b[0m\u001b[0;34m\u001b[0m\u001b[0m\n\u001b[1;32m     13\u001b[0m \u001b[0mX_train\u001b[0m \u001b[0;34m=\u001b[0m \u001b[0mX_train\u001b[0m\u001b[0;34m.\u001b[0m\u001b[0mreshape\u001b[0m\u001b[0;34m(\u001b[0m\u001b[0;36m60000\u001b[0m\u001b[0;34m,\u001b[0m \u001b[0;36m784\u001b[0m\u001b[0;34m)\u001b[0m\u001b[0;34m\u001b[0m\u001b[0;34m\u001b[0m\u001b[0m\n",
            "\u001b[0;31mNameError\u001b[0m: name 'pd' is not defined"
          ]
        }
      ],
      "source": [
        "import time \n",
        "from keras.datasets import mnist\n",
        "from sklearn.neural_network import MLPClassifier\n",
        "\n",
        "# the data, shuffled and split between train and test sets\n",
        "(X_train, y_train), (X_test, y_test) = mnist.load_data()\n",
        "print(X_train.shape)\n",
        "\n",
        "# Reshape each 28x28 image -> 784 dim. vector\n",
        "X_train = X_train.reshape(60000, 784)\n",
        "X_test = X_test.reshape(10000, 784)\n",
        "\n",
        "from sklearn.preprocessing import StandardScaler, MinMaxScaler\n",
        "start_time = time.time()\n",
        "scaler = MinMaxScaler()\n",
        "scaler.fit(X_train)\n",
        "X_train = scaler.transform(X_train)\n",
        "X_test = scaler.transform(X_test)\n",
        "\n",
        "clf = MLPClassifier(hidden_layer_sizes=(10,20), activation = 'relu', solver ='lbfgs', random_state = 0).fit(X_train, y_train)\n",
        "clf.score(X_test, y_test)\n",
        "pred = clf.predict(X_test)\n",
        "end_time = time.time()\n",
        "\n",
        "print(\" le score obtenu est de : \" +str(clf.score(X_test, y_test)))\n",
        "print(\" le temps ecoule \"+ str(end_time - start_time),\"s\")\n"
      ]
    },
    {
      "cell_type": "code",
      "execution_count": null,
      "metadata": {
        "colab": {
          "base_uri": "https://localhost:8080/"
        },
        "id": "mTzEQmn1CUzi",
        "outputId": "67bb6092-2706-43dc-e783-64006baa4940"
      },
      "outputs": [
        {
          "name": "stdout",
          "output_type": "stream",
          "text": [
            "Downloading data from https://storage.googleapis.com/tensorflow/tf-keras-datasets/mnist.npz\n",
            "11490434/11490434 [==============================] - 0s 0us/step\n",
            " le score obtenu est de : 0.9376\n",
            " le temps ecoule 108.78354525566101 s\n"
          ]
        },
        {
          "name": "stderr",
          "output_type": "stream",
          "text": [
            "/usr/local/lib/python3.7/dist-packages/sklearn/neural_network/_multilayer_perceptron.py:549: ConvergenceWarning: lbfgs failed to converge (status=1):\n",
            "STOP: TOTAL NO. of ITERATIONS REACHED LIMIT.\n",
            "\n",
            "Increase the number of iterations (max_iter) or scale the data as shown in:\n",
            "    https://scikit-learn.org/stable/modules/preprocessing.html\n",
            "  self.n_iter_ = _check_optimize_result(\"lbfgs\", opt_res, self.max_iter)\n"
          ]
        }
      ],
      "source": [
        "import time \n",
        "from keras.datasets import mnist\n",
        "from sklearn.neural_network import MLPClassifier\n",
        "\n",
        "# the data, shuffled and split between train and test sets\n",
        "(X_train, y_train), (X_test, y_test) = mnist.load_data()\n",
        "\n",
        "# Reshape each 28x28 image -> 784 dim. vector\n",
        "X_train = X_train.reshape(60000, 784)\n",
        "X_test = X_test.reshape(10000, 784)\n",
        "\n",
        "from sklearn.preprocessing import StandardScaler, MinMaxScaler\n",
        "start_time = time.time()\n",
        "scaler = MinMaxScaler()\n",
        "scaler.fit(X_train)\n",
        "X_train = scaler.transform(X_train)\n",
        "X_test = scaler.transform(X_test)\n",
        "\n",
        "clf = MLPClassifier(hidden_layer_sizes=(10,20), activation = 'relu', solver ='lbfgs', random_state = 0).fit(X_train, y_train)\n",
        "clf.score(X_test, y_test)\n",
        "pred = clf.predict(X_test)\n",
        "end_time = time.time()"
      ]
    },
    {
      "cell_type": "code",
      "execution_count": null,
      "metadata": {
        "colab": {
          "base_uri": "https://localhost:8080/"
        },
        "id": "wIEWWSzPEsLC",
        "outputId": "cfe0e051-a334-445d-ac27-9ebcd5a5daad"
      },
      "outputs": [
        {
          "name": "stdout",
          "output_type": "stream",
          "text": [
            " le score obtenu est de : 0.9376\n",
            " le temps ecoule 108.78354525566101 s\n"
          ]
        }
      ],
      "source": [
        "print(\" le score obtenu est de : \" +str(clf.score(X_test, y_test)))\n",
        "print(\" le temps ecoule \"+ str(end_time - start_time),\"s\")\n"
      ]
    },
    {
      "cell_type": "code",
      "execution_count": null,
      "metadata": {
        "colab": {
          "base_uri": "https://localhost:8080/"
        },
        "id": "XMPs2SJJ4qOB",
        "outputId": "729d302a-0b42-4673-8875-09109a883139"
      },
      "outputs": [
        {
          "name": "stdout",
          "output_type": "stream",
          "text": [
            " le score avec SGDClassifier pour les  données standardiser est : 0.8999\n"
          ]
        }
      ],
      "source": [
        "from sklearn.linear_model import Perceptron\n",
        "from sklearn.linear_model import SGDClassifier\n",
        "from sklearn.pipeline import make_pipeline\n",
        "from sklearn.preprocessing import StandardScaler\n",
        "\n",
        "scaler = MinMaxScaler()\n",
        "scaler.fit(X_train)\n",
        "X_train = scaler.transform(X_train)\n",
        "X_test = scaler.transform(X_test)\n",
        "clf = SGDClassifier(loss=\"perceptron\", eta0=1, learning_rate=\"constant\", penalty=None)\n",
        "clf = make_pipeline(StandardScaler(),SGDClassifier(max_iter=1000, tol=1e-3))\n",
        "clf.fit(X_train, y_train)\n",
        "\n",
        "print( \" le score avec SGDClassifier pour les  données standardiser est :\", clf.score(X_test, y_test))\n"
      ]
    },
    {
      "cell_type": "code",
      "execution_count": null,
      "metadata": {
        "colab": {
          "base_uri": "https://localhost:8080/"
        },
        "id": "w7dFQa0P7ob3",
        "outputId": "7bce6e6f-e2fe-4675-f099-55382cfefef1"
      },
      "outputs": [
        {
          "data": {
            "text/plain": [
              "0.8897"
            ]
          },
          "execution_count": 5,
          "metadata": {},
          "output_type": "execute_result"
        }
      ],
      "source": [
        "from sklearn.linear_model import Perceptron\n",
        "from sklearn.linear_model import SGDClassifier\n",
        "from sklearn.pipeline import make_pipeline\n",
        "from keras.datasets import mnist\n",
        "from keras.datasets import mnist\n",
        "from sklearn.neural_network import MLPClassifier\n",
        "\n",
        "# the data, shuffled and split between train and test sets\n",
        "(X_train, y_train), (X_test, y_test) = mnist.load_data()\n",
        "\n",
        "# Reshape each 28x28 image -> 784 dim. vector\n",
        "X_train = X_train.reshape(60000, 784)\n",
        "X_test = X_test.reshape(10000, 784)\n",
        "clf = Perceptron(tol=1e-3, random_state=0)\n",
        "clf.fit(X_train, y_train)\n",
        "clf.score(X_test, y_test)"
      ]
    },
    {
      "cell_type": "code",
      "execution_count": null,
      "metadata": {
        "id": "XZEaC8JSz4_l"
      },
      "outputs": [],
      "source": [
        "from keras.datasets import mnist\n",
        "from sklearn.neural_network import MLPClassifier\n",
        "\n",
        "# the data, shuffled and split between train and test sets\n",
        "(X_train, y_train), (X_test, y_test) = mnist.load_data()\n",
        "\n",
        "# Reshape each 28x28 image -> 784 dim. vector\n",
        "X_train = X_train.reshape(60000, 784)\n",
        "X_test = X_test.reshape(10000, 784)"
      ]
    },
    {
      "cell_type": "code",
      "execution_count": null,
      "metadata": {
        "id": "l1vpYDd2SsHs"
      },
      "outputs": [],
      "source": [
        "from scipy.optimize import lbfgsb\n",
        "from scipy.optimize import OptimizeResult\n",
        "\n",
        "c=('adam', 'sgd', 'lbfgs')\n",
        "for i in c: \n",
        "  print('**************(10)*********************************************')\n",
        "  start_time = time.time()\n",
        "  clf = MLPClassifier(solver= i, hidden_layer_sizes=(10), random_state=0)\n",
        "  clf.fit(trainX_scaled, trainY)\n",
        "  y_pred = clf.predict(testX_scaled)\n",
        "  print('Accuracy: {:.2f}'.format(accuracy_score(testY, y_pred)),i)\n",
        "  end_time = time.time()\n",
        "  print('temps ecoule = '+str(end_time - start_time))\n",
        "  print('**************(10, 100)*****************************************')\n",
        "  start_time = time.time()\n",
        "  clf = MLPClassifier(solver= i,hidden_layer_sizes=(10, 100), random_state=0)\n",
        "  clf.fit(trainX_scaled, trainY)\n",
        "  y_pred = clf.predict(testX_scaled)\n",
        "  print('Accuracy: {:.2f}'.format(accuracy_score(testY, y_pred)),i)\n",
        "  end_time = time.time()\n",
        "  print('temps ecoule = '+str(end_time - start_time))\n",
        "  print('**************(10, 100, 150)************************************')\n",
        "  start_time = time.time()\n",
        "  clf = MLPClassifier(solver= i,hidden_layer_sizes=(10, 100, 150), random_state=0)\n",
        "  clf.fit(trainX_scaled, trainY)\n",
        "  y_pred = clf.predict(testX_scaled)\n",
        "  print('Accuracy: {:.2f}'.format(accuracy_score(testY, y_pred)),i)\n",
        "  end_time = time.time()\n",
        "  print('temps ecoule = '+str(end_time - start_time))\n",
        "  print('**************(10, 100, 150, 200)*******************************')\n",
        "  start_time = time.time()\n",
        "  clf = MLPClassifier(solver= i,hidden_layer_sizes=(10, 100, 200), random_state=0,)\n",
        "  clf.fit(trainX_scaled, trainY)\n",
        "  y_pred = clf.predict(testX_scaled)\n",
        "  print('Accuracy: {:.2f}'.format(accuracy_score(testY, y_pred)),i)\n",
        "  end_time = time.time()\n",
        "  print('temps ecoule = '+str(end_time - start_time))\n",
        "  print('**************(10, 100, 150, 200, 300)*************************')\n",
        "  start_time = time.time()\n",
        "  clf = MLPClassifier(solver= i,hidden_layer_sizes=(10, 100, 150, 200, 300), random_state=0,)\n",
        "  clf.fit(trainX_scaled, trainY)\n",
        "  y_pred = clf.predict(testX_scaled)\n",
        "  print('Accuracy: {:.2f}'.format(accuracy_score(testY, y_pred)),i)\n",
        "  end_time = time.time()\n",
        "  print('temps ecoule = '+str(end_time - start_time))\n"
      ]
    },
    {
      "cell_type": "code",
      "execution_count": null,
      "metadata": {
        "colab": {
          "base_uri": "https://localhost:8080/"
        },
        "id": "YINSVbiS0BX3",
        "outputId": "c65040fd-7192-439b-965e-9a6551dc9ae1"
      },
      "outputs": [
        {
          "name": "stderr",
          "output_type": "stream",
          "text": [
            "/usr/local/lib/python3.7/dist-packages/sklearn/neural_network/_multilayer_perceptron.py:549: ConvergenceWarning: lbfgs failed to converge (status=1):\n",
            "STOP: TOTAL NO. of ITERATIONS REACHED LIMIT.\n",
            "\n",
            "Increase the number of iterations (max_iter) or scale the data as shown in:\n",
            "    https://scikit-learn.org/stable/modules/preprocessing.html\n",
            "  self.n_iter_ = _check_optimize_result(\"lbfgs\", opt_res, self.max_iter)\n"
          ]
        },
        {
          "name": "stdout",
          "output_type": "stream",
          "text": [
            " le score obtenu est de : 0.9748\n"
          ]
        }
      ],
      "source": [
        "\n",
        "from sklearn.preprocessing import StandardScaler, MinMaxScaler\n",
        "\n",
        "scaler = MinMaxScaler()\n",
        "scaler.fit(X_train)\n",
        "X_train = scaler.transform(X_train)\n",
        "X_test = scaler.transform(X_test)\n",
        "\n",
        "clf = MLPClassifier(hidden_layer_sizes=(50,100), activation = 'relu', solver ='lbfgs', random_state = 0).fit(X_train, y_train)\n",
        "clf.score(X_test, y_test)\n",
        "pred = clf.predict(X_test)\n",
        "print(\" le score obtenu est de : \" +str(clf.score(X_test, y_test)))"
      ]
    },
    {
      "cell_type": "code",
      "execution_count": null,
      "metadata": {
        "id": "yWq3TwGJRvny"
      },
      "outputs": [],
      "source": []
    },
    {
      "cell_type": "code",
      "execution_count": null,
      "metadata": {
        "id": "BVlz-df10Egx"
      },
      "outputs": [],
      "source": [
        "from sklearn.preprocessing import StandardScaler, MinMaxScaler\n",
        "\n",
        "scaler = MinMaxScaler()\n",
        "scaler.fit(X_train)\n",
        "X_train = scaler.transform(X_train)\n",
        "X_test = scaler.transform(X_test)\n",
        "\n",
        "clf = MLPClassifier(hidden_layer_sizes=(100,200), activation = 'relu', solver ='lbfgs', random_state = 0).fit(X_train, y_train)\n",
        "clf.score(X_test, y_test)\n",
        "pred = clf.predict(X_test)\n",
        "\n",
        "\n",
        "print(\" le score obtenu est de : \" +str(clf.score(X_test, y_test)))\n"
      ]
    },
    {
      "cell_type": "code",
      "execution_count": null,
      "metadata": {
        "id": "zw_I3IFf0JJJ"
      },
      "outputs": [],
      "source": [
        "\n",
        "from keras.datasets import mnist\n",
        "from sklearn.neural_network import MLPClassifier\n",
        "\n",
        "# the data, shuffled and split between train and test sets\n",
        "(X_train, y_train), (X_test, y_test) = mnist.load_data()\n",
        "\n",
        "# Reshape each 28x28 image -> 784 dim. vector\n",
        "X_train = X_train.reshape(60000, 784)\n",
        "X_test = X_test.reshape(10000, 784)\n",
        "\n",
        "from sklearn.preprocessing import StandardScaler, MinMaxScaler\n",
        "\n",
        "scaler = MinMaxScaler()\n",
        "scaler.fit(X_train)\n",
        "X_train = scaler.transform(X_train)\n",
        "X_test = scaler.transform(X_test)\n",
        "\n",
        "clf = MLPClassifier(hidden_layer_sizes=(100,200, 50), activation = 'relu', solver ='lbfgs', random_state = 0).fit(X_train, y_train)\n",
        "clf.score(X_test, y_test)\n",
        "pred = clf.predict(X_test)\n",
        "\n",
        "\n",
        "print(\" le score obtenu est de : \" +str(clf.score(X_test, y_test)))\n"
      ]
    },
    {
      "cell_type": "code",
      "execution_count": null,
      "metadata": {
        "id": "kykqXMBM0Orb"
      },
      "outputs": [],
      "source": [
        "\n",
        "from keras.datasets import mnist\n",
        "from sklearn.neural_network import MLPClassifier\n",
        "\n",
        "(X_train, y_train), (X_test, y_test) = mnist.load_data()\n",
        "\n",
        "X_train = X_train.reshape(60000, 784)\n",
        "X_test = X_test.reshape(10000, 784)\n",
        "\n",
        "from sklearn.preprocessing import StandardScaler, MinMaxScaler\n",
        "\n",
        "scaler = MinMaxScaler()\n",
        "scaler.fit(X_train)\n",
        "X_train = scaler.transform(X_train)\n",
        "X_test = scaler.transform(X_test)\n",
        "\n",
        "\n",
        "clf= MLPClassifier(solver ='sgd',alpha= 1e-4,hidden_layer_sizes=(300),learning_rate_init=0.07,random_state=0)\n",
        "clf.fit(X_train,y_train)\n",
        "print(clf.score(X_test,y_test))"
      ]
    },
    {
      "cell_type": "code",
      "execution_count": null,
      "metadata": {
        "id": "i3f_iYon0UMD"
      },
      "outputs": [],
      "source": [
        "\n",
        "from keras.datasets import mnist\n",
        "from sklearn.neural_network import MLPClassifier\n",
        "\n",
        "(X_train, y_train), (X_test, y_test) = mnist.load_data()\n",
        "\n",
        "X_train = X_train.reshape(60000, 784)\n",
        "X_test = X_test.reshape(10000, 784)\n",
        "\n",
        "from sklearn.preprocessing import StandardScaler, MinMaxScaler\n",
        "\n",
        "scaler = MinMaxScaler()\n",
        "scaler.fit(X_train)\n",
        "X_train = scaler.transform(X_train)\n",
        "X_test = scaler.transform(X_test)\n",
        "\n",
        "\n",
        "clf= MLPClassifier(solver ='sgd',alpha= 1e-4,hidden_layer_sizes=(300,150),learning_rate_init=0.07,random_state=0)\n",
        "clf.fit(X_train,y_train)\n",
        "print(clf.score(X_test,y_test))\n"
      ]
    },
    {
      "cell_type": "code",
      "execution_count": null,
      "metadata": {
        "id": "QpUXb6Hf0as0"
      },
      "outputs": [],
      "source": [
        "from sklearn.model_selection import train_test_split\n",
        "from sklearn.neural_network import MLPClassifier\n",
        "from time import time\n",
        "from sklearn.metrics import classification_report\n",
        "\n",
        "from sklearn.metrics import accuracy_score\n",
        "from sklearn.preprocessing import MinMaxScaler\n",
        "\n",
        "from keras.datasets import mnist\n",
        "from sklearn.linear_model import Perceptron\n",
        "from sklearn.model_selection import  GridSearchCV\n",
        "from time import time\n",
        "from sklearn.pipeline import Pipeline\n",
        "\n",
        "\n",
        "\n",
        "(xtrain,ytrain),(xtest,ytest) = mnist.load_data()\n",
        "xtrain = xtrain.reshape(60000, 28*28).astype('float32')\n",
        "xtest = xtest.reshape(10000, 28*28).astype('float32')\n",
        "\n",
        "xtrain /= 255\n",
        "xtest /= 255\n",
        "\n",
        "from sklearn.metrics import classification_report"
      ]
    },
    {
      "cell_type": "code",
      "execution_count": null,
      "metadata": {
        "colab": {
          "base_uri": "https://localhost:8080/"
        },
        "id": "argxWg6G0m93",
        "outputId": "3a2fb95f-32ee-4312-e1f6-c291934347ff"
      },
      "outputs": [
        {
          "name": "stdout",
          "output_type": "stream",
          "text": [
            "score 0.9819\n",
            "Temps d'entraînement = 108.98905634880066s\n"
          ]
        }
      ],
      "source": [
        "#MLP 1 HL 300 avec preprocessing\n",
        "\n",
        "temps_depart = time()\n",
        "MLP = Pipeline([('scaler', MinMaxScaler()),('mlp', MLPClassifier( activation = 'relu',\n",
        "      solver = 'adam',hidden_layer_sizes=(300), random_state=0))]).fit(xtrain, ytrain)\n",
        "temps_fin= time()\n",
        "\n",
        "ypred = MLP.predict(xtest)\n",
        "score = accuracy_score(ytest, ypred)\n",
        "\n",
        "print(f\"score {score}\")\n",
        "print(f\"Temps d'entraînement = {temps_fin- temps_depart}s\")"
      ]
    },
    {
      "cell_type": "code",
      "execution_count": null,
      "metadata": {
        "colab": {
          "base_uri": "https://localhost:8080/"
        },
        "id": "VM2JKWkI9gKS",
        "outputId": "ce8c582b-ed1a-4cbf-cdac-a68571cd743e"
      },
      "outputs": [
        {
          "name": "stdout",
          "output_type": "stream",
          "text": [
            "score 0.9819\n",
            "Temps d'entraînement = 115.60451745986938s\n"
          ]
        }
      ],
      "source": [
        "#MLP 1 HL 300 sans preprocessing\n",
        "\n",
        "temps_depart = time()\n",
        "MLP = Pipeline([('scaler', MinMaxScaler()),('mlp', MLPClassifier( activation = 'relu',\n",
        "    solver = 'adam',hidden_layer_sizes=(300), random_state=0))]).fit(xtrain, ytrain)\n",
        "temps_fin = time()\n",
        "\n",
        "ypred = MLP.predict(xtest)\n",
        "score = accuracy_score(ytest, ypred)\n",
        "\n",
        "print(f\"score {score}\")\n",
        "print(f\"Temps d'entraînement = \"+ str{temps_fin- temps_depart} +\" s\")"
      ]
    },
    {
      "cell_type": "code",
      "execution_count": null,
      "metadata": {
        "colab": {
          "base_uri": "https://localhost:8080/"
        },
        "id": "O0zOCNC6_St7",
        "outputId": "d06e0203-6f1d-4d9b-a94f-ae37a8d0f67f"
      },
      "outputs": [
        {
          "name": "stdout",
          "output_type": "stream",
          "text": [
            "score 0.9828\n",
            "Temps d'entraînement = 404.00353264808655s\n"
          ]
        }
      ],
      "source": [
        "#MLP 2 HL 500-300 sans preprocessing\n",
        "\n",
        "temps_depart = time()\n",
        "MLP = Pipeline([('scaler', MinMaxScaler()),('mlp', MLPClassifier( activation = 'relu',\n",
        "    solver = 'adam',hidden_layer_sizes=(500,300), random_state=0))]).fit(xtrain, ytrain)\n",
        "temps_fin = time()\n",
        "\n",
        "ypred = MLP.predict(xtest)\n",
        "score = accuracy_score(ytest, ypred)\n",
        "\n",
        "print(f\"score {score}\")\n",
        "print(f\"Temps d'entraînement = {temps_fin- temps_depart}s\")"
      ]
    },
    {
      "cell_type": "code",
      "execution_count": null,
      "metadata": {
        "colab": {
          "base_uri": "https://localhost:8080/"
        },
        "id": "vIwhCZ2-9Yr_",
        "outputId": "f604c026-aacd-4348-eebb-05b07d52c302"
      },
      "outputs": [
        {
          "name": "stdout",
          "output_type": "stream",
          "text": [
            "score 0.8824\n",
            "Temps d'entraînement = 12.928131341934204s\n"
          ]
        }
      ],
      "source": [
        "from keras.datasets import mnist\n",
        "from sklearn.linear_model import Perceptron\n",
        "from sklearn.model_selection import  GridSearchCV\n",
        "from time import time\n",
        "from sklearn.metrics import accuracy_score\n",
        "\n",
        "(X_train,y_train),(X_test,y_test) = mnist.load_data()\n",
        "X_train = X_train.reshape(60000, 28*28).astype('float32')\n",
        "X_test = X_test.reshape(10000, 28*28).astype('float32')\n",
        "\n",
        "X_train /= 255\n",
        "X_test /= 255\n",
        "#Perceptron sans preprocessing\n",
        "temps_depart = time()\n",
        "perceptron= Perceptron(max_iter = 50 ,random_state=0)\n",
        "perceptron.fit(X_train, y_train)\n",
        "temps_fin = time()\n",
        "\n",
        "y_pred = perceptron.predict(X_test)\n",
        "score = accuracy_score(y_test, y_pred)\n",
        "\n",
        "print(f\"score {score}\")\n",
        "print(f\"Temps d'entraînement = {temps_fin- temps_depart}s\")"
      ]
    },
    {
      "cell_type": "code",
      "execution_count": null,
      "metadata": {
        "colab": {
          "base_uri": "https://localhost:8080/"
        },
        "id": "yBD-1YVG9b8Z",
        "outputId": "712a6495-b1b2-4475-b9a6-7a9e8e98f044"
      },
      "outputs": [
        {
          "name": "stdout",
          "output_type": "stream",
          "text": [
            "score 0.8951\n",
            "Temps d'entraînement = 12.834473133087158s\n"
          ]
        }
      ],
      "source": [
        "from keras.datasets import mnist\n",
        "from sklearn.linear_model import Perceptron\n",
        "from time import time\n",
        "from sklearn.preprocessing import StandardScaler, MinMaxScaler\n",
        "from sklearn.metrics import accuracy_score\n",
        "\n",
        "(X_train,y_train),(X_test,y_test) = mnist.load_data()\n",
        "X_train = X_train.reshape(60000, 28*28).astype('float32')\n",
        "X_test = X_test.reshape(10000, 28*28).astype('float32')\n",
        "\n",
        "X_train /= 255\n",
        "X_test /= 255\n",
        "\n",
        "#Perceptron avec preprocessing\n",
        "scaler = MinMaxScaler()\n",
        "scaler.fit(X_train)\n",
        "X_train = scaler.transform(X_train)\n",
        "X_test = scaler.transform(X_test)\n",
        "\n",
        "temps_depart = time()\n",
        "perceptron= Perceptron(max_iter = 50 ,random_state=0)\n",
        "perceptron.fit(X_train, y_train)\n",
        "temps_fin = time()\n",
        "\n",
        "y_pred = perceptron.predict(X_test)\n",
        "score = accuracy_score(y_test, y_pred)\n",
        "\n",
        "print(f\"score {score}\")\n",
        "print(f\"Temps d'entraînement = {temps_fin- temps_depart}s\")"
      ]
    },
    {
      "cell_type": "code",
      "execution_count": null,
      "metadata": {
        "colab": {
          "base_uri": "https://localhost:8080/",
          "height": 241
        },
        "id": "67xISMredFDQ",
        "outputId": "a9790518-e44d-4f28-d85f-9faffc61d1de"
      },
      "outputs": [
        {
          "output_type": "error",
          "ename": "NameError",
          "evalue": "ignored",
          "traceback": [
            "\u001b[0;31m---------------------------------------------------------------------------\u001b[0m",
            "\u001b[0;31mNameError\u001b[0m                                 Traceback (most recent call last)",
            "\u001b[0;32m<ipython-input-12-6342efb6c6c8>\u001b[0m in \u001b[0;36m<module>\u001b[0;34m\u001b[0m\n\u001b[1;32m      8\u001b[0m \u001b[0;31m# Load data from https://www.openml.org/d/554\u001b[0m\u001b[0;34m\u001b[0m\u001b[0;34m\u001b[0m\u001b[0;34m\u001b[0m\u001b[0m\n\u001b[1;32m      9\u001b[0m \u001b[0mX\u001b[0m\u001b[0;34m,\u001b[0m \u001b[0my\u001b[0m \u001b[0;34m=\u001b[0m \u001b[0mfetch_openml\u001b[0m\u001b[0;34m(\u001b[0m\u001b[0;34m\"mnist_784\"\u001b[0m\u001b[0;34m,\u001b[0m \u001b[0mversion\u001b[0m\u001b[0;34m=\u001b[0m\u001b[0;36m1\u001b[0m\u001b[0;34m,\u001b[0m \u001b[0mreturn_X_y\u001b[0m\u001b[0;34m=\u001b[0m\u001b[0;32mTrue\u001b[0m\u001b[0;34m,\u001b[0m \u001b[0mas_frame\u001b[0m\u001b[0;34m=\u001b[0m\u001b[0;32mFalse\u001b[0m\u001b[0;34m)\u001b[0m\u001b[0;34m\u001b[0m\u001b[0;34m\u001b[0m\u001b[0m\n\u001b[0;32m---> 10\u001b[0;31m \u001b[0mnp\u001b[0m\u001b[0;34m.\u001b[0m\u001b[0mshape\u001b[0m\u001b[0;34m(\u001b[0m\u001b[0mX\u001b[0m\u001b[0;34m,\u001b[0m\u001b[0my\u001b[0m\u001b[0;34m)\u001b[0m\u001b[0;34m\u001b[0m\u001b[0;34m\u001b[0m\u001b[0m\n\u001b[0m\u001b[1;32m     11\u001b[0m \u001b[0;31m# Split data into train partition and test partition\u001b[0m\u001b[0;34m\u001b[0m\u001b[0;34m\u001b[0m\u001b[0;34m\u001b[0m\u001b[0m\n\u001b[1;32m     12\u001b[0m \u001b[0mX_train\u001b[0m\u001b[0;34m,\u001b[0m \u001b[0mX_test\u001b[0m\u001b[0;34m,\u001b[0m \u001b[0my_train\u001b[0m\u001b[0;34m,\u001b[0m \u001b[0my_test\u001b[0m \u001b[0;34m=\u001b[0m \u001b[0mtrain_test_split\u001b[0m\u001b[0;34m(\u001b[0m\u001b[0mX\u001b[0m\u001b[0;34m,\u001b[0m \u001b[0my\u001b[0m\u001b[0;34m,\u001b[0m \u001b[0mrandom_state\u001b[0m\u001b[0;34m=\u001b[0m\u001b[0;36m0\u001b[0m\u001b[0;34m,\u001b[0m \u001b[0mtest_size\u001b[0m\u001b[0;34m=\u001b[0m\u001b[0;36m10000\u001b[0m\u001b[0;34m)\u001b[0m\u001b[0;34m\u001b[0m\u001b[0;34m\u001b[0m\u001b[0m\n",
            "\u001b[0;31mNameError\u001b[0m: name 'np' is not defined"
          ]
        }
      ],
      "source": [
        "import matplotlib.pyplot as plt\n",
        "from sklearn.datasets import fetch_openml\n",
        "import time\n",
        "from sklearn.model_selection import  GridSearchCV\n",
        "from sklearn.neural_network import MLPClassifier\n",
        "from sklearn.model_selection import train_test_split\n",
        "from sklearn.multiclass import OneVsRestClassifier\n",
        "# Load data from https://www.openml.org/d/554\n",
        "X, y = fetch_openml(\"mnist_784\", version=1, return_X_y=True, as_frame=False)\n",
        "\n",
        "# Split data into train partition and test partition\n",
        "X_train, X_test, y_train, y_test = train_test_split(X, y, random_state=0, test_size=10000)\n",
        "start_time=time.time()\n",
        "parameters={'hidden_layer_sizes':[100,200,(30,50)],'alpha':[0.1,0.01,0.001],'solver': ['lbfgs','sgd','adam']}\n",
        "clf=MLPClassifier()\n",
        "pip = Pipeline([('scaler', MinMaxScaler()),(GridSearchCV(clf,parameters))]).fit(xtrain, ytrain)\n",
        "\n",
        "clf.fit(X_train,y_train)\n",
        "end_time=time.time()"
      ]
    },
    {
      "cell_type": "code",
      "execution_count": null,
      "metadata": {
        "colab": {
          "base_uri": "https://localhost:8080/",
          "height": 259
        },
        "id": "mYpHqRTX1Xcq",
        "outputId": "cea87da6-5cf9-4b90-ce81-2afd99ff5073"
      },
      "outputs": [
        {
          "output_type": "stream",
          "name": "stdout",
          "text": [
            "le score est de 0.9761\n"
          ]
        },
        {
          "output_type": "error",
          "ename": "AttributeError",
          "evalue": "ignored",
          "traceback": [
            "\u001b[0;31m---------------------------------------------------------------------------\u001b[0m",
            "\u001b[0;31mAttributeError\u001b[0m                            Traceback (most recent call last)",
            "\u001b[0;32m<ipython-input-4-7c4c010fe7af>\u001b[0m in \u001b[0;36m<module>\u001b[0;34m\u001b[0m\n\u001b[1;32m     13\u001b[0m \u001b[0mpred\u001b[0m \u001b[0;34m=\u001b[0m \u001b[0mclf\u001b[0m\u001b[0;34m.\u001b[0m\u001b[0mpredict\u001b[0m\u001b[0;34m(\u001b[0m\u001b[0mX_test\u001b[0m\u001b[0;34m)\u001b[0m\u001b[0;34m\u001b[0m\u001b[0;34m\u001b[0m\u001b[0m\n\u001b[1;32m     14\u001b[0m \u001b[0mprint\u001b[0m \u001b[0;34m(\u001b[0m\u001b[0;34m\"le score est de \"\u001b[0m\u001b[0;34m+\u001b[0m\u001b[0mstr\u001b[0m\u001b[0;34m(\u001b[0m\u001b[0mclf\u001b[0m\u001b[0;34m.\u001b[0m\u001b[0mscore\u001b[0m\u001b[0;34m(\u001b[0m\u001b[0mX_test\u001b[0m\u001b[0;34m,\u001b[0m \u001b[0my_test\u001b[0m\u001b[0;34m)\u001b[0m \u001b[0;34m)\u001b[0m\u001b[0;34m)\u001b[0m\u001b[0;34m\u001b[0m\u001b[0;34m\u001b[0m\u001b[0m\n\u001b[0;32m---> 15\u001b[0;31m \u001b[0mend_time\u001b[0m \u001b[0;34m=\u001b[0m \u001b[0mtime\u001b[0m\u001b[0;34m.\u001b[0m\u001b[0mtime\u001b[0m\u001b[0;34m(\u001b[0m\u001b[0;34m)\u001b[0m\u001b[0;34m\u001b[0m\u001b[0;34m\u001b[0m\u001b[0m\n\u001b[0m\u001b[1;32m     16\u001b[0m \u001b[0mprint\u001b[0m\u001b[0;34m(\u001b[0m\u001b[0;34m'temps ecoule = '\u001b[0m\u001b[0;34m+\u001b[0m\u001b[0mstr\u001b[0m\u001b[0;34m(\u001b[0m\u001b[0mend_time\u001b[0m \u001b[0;34m-\u001b[0m \u001b[0mstart_time\u001b[0m\u001b[0;34m)\u001b[0m\u001b[0;34m)\u001b[0m\u001b[0;34m\u001b[0m\u001b[0;34m\u001b[0m\u001b[0m\n\u001b[1;32m     17\u001b[0m \u001b[0;34m\u001b[0m\u001b[0m\n",
            "\u001b[0;31mAttributeError\u001b[0m: 'builtin_function_or_method' object has no attribute 'time'"
          ]
        }
      ],
      "source": [
        "from keras.datasets import mnist\n",
        "from sklearn.neural_network import MLPClassifier\n",
        "(X_train, y_train), (X_test, y_test) = mnist.load_data()\n",
        "X_train = X_train.reshape(60000, 784)\n",
        "X_test = X_test.reshape(10000, 784)\n",
        "from sklearn.preprocessing import StandardScaler , MinMaxScaler\n",
        "scaler = MinMaxScaler()\n",
        "scaler.fit(X_train)\n",
        "X_train = scaler.transform(X_train)\n",
        "X_test = scaler.transform(X_test)\n",
        "clf = MLPClassifier(hidden_layer_sizes=(300,500,9),activation = 'relu',solver='lbfgs',random_state=0,max_iter=200).fit(X_train, y_train)\n",
        "clf.score(X_test, y_test)\n",
        "pred = clf.predict(X_test)\n",
        "print (\"le score est de \"+str(clf.score(X_test, y_test) ))\n",
        "end_time = time.time()\n",
        "print('temps ecoule = '+str(end_time - start_time))\n",
        "\n",
        "'''\n",
        "Parti ajouté a 23H le 18/10/2022\n",
        "\n",
        "'''"
      ]
    }
  ],
  "metadata": {
    "colab": {
      "collapsed_sections": [],
      "provenance": [],
      "include_colab_link": true
    },
    "kernelspec": {
      "display_name": "Python 3",
      "name": "python3"
    },
    "language_info": {
      "name": "python"
    }
  },
  "nbformat": 4,
  "nbformat_minor": 0
}